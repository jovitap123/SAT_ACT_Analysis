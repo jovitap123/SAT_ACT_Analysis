{
 "cells": [
  {
   "cell_type": "markdown",
   "metadata": {},
   "source": [
    "# Project 1: SAT & ACT Analysis"
   ]
  },
  {
   "cell_type": "markdown",
   "metadata": {},
   "source": [
    "By Jovita Pinto\n"
   ]
  },
  {
   "cell_type": "markdown",
   "metadata": {},
   "source": [
    "## Problem Statement"
   ]
  },
  {
   "cell_type": "markdown",
   "metadata": {},
   "source": [
    "The SAT test is a college admission exam which is now being mandated nationwide across the United States. The ACT test is a direct competitor of the SAT and has also been used extensively. This project compares exam scores and participation rates for both ACT and SAT for the years 2017 and 2018.Recommendations are also provided to boost SAT participation rates nation wide particularly in states with low participation rates like Oklahoma."
   ]
  },
  {
   "cell_type": "markdown",
   "metadata": {},
   "source": [
    "## Executive Summary\n",
    "\n",
    "If you want to, it's great to use relative links to direct your audience to various sections of a notebook. **HERE'S A DEMONSTRATION WITH THE CURRENT SECTION HEADERS**:\n",
    "\n",
    "### Contents:\n",
    "- [2017 Data Import & Cleaning](#Data-Import-and-Cleaning)\n",
    "- [2018 Data Import and Cleaning](#2018-Data-Import-and-Cleaning)\n",
    "- [Exploratory Data Analysis](#Exploratory-Data-Analysis)\n",
    "- [Data Visualization](#Visualize-the-data)\n",
    "- [Descriptive and Inferential Statistics](#Descriptive-and-Inferential-Statistics)\n",
    "- [Outside Research](#Outside-Research)\n",
    "- [Conclusions and Recommendations](#Conclusions-and-Recommendations)"
   ]
  },
  {
   "cell_type": "markdown",
   "metadata": {},
   "source": [
    "**If you combine your problem statement, executive summary, data dictionary, and conclusions/recommendations, you have an amazing README.md file that quickly aligns your audience to the contents of your project.** Don't forget to cite your data sources!"
   ]
  },
  {
   "cell_type": "markdown",
   "metadata": {},
   "source": [
    "*All libraries used should be added here*"
   ]
  },
  {
   "cell_type": "code",
   "execution_count": 9,
   "metadata": {},
   "outputs": [],
   "source": [
    "#Imports:\n",
    "import numpy as np\n",
    "import seaborn as sns\n",
    "import matplotlib.pyplot as plt\n",
    "import pandas as pd\n",
    "\n",
    "%matplotlib inline"
   ]
  },
  {
   "cell_type": "markdown",
   "metadata": {},
   "source": [
    "## 2017 Data Import and Cleaning"
   ]
  },
  {
   "cell_type": "markdown",
   "metadata": {},
   "source": [
    "#### 1. Read In SAT & ACT  Data\n",
    "\n",
    "Read in the `sat_2017.csv` and `act_2017.csv` files and assign them to appropriately named pandas dataframes."
   ]
  },
  {
   "cell_type": "code",
   "execution_count": 10,
   "metadata": {},
   "outputs": [],
   "source": [
    "#Code:\n",
    "sat_2017=pd.read_csv('../data/sat_2017.csv')\n",
    "act_2017=pd.read_csv('../data/act_2017.csv')"
   ]
  },
  {
   "cell_type": "markdown",
   "metadata": {},
   "source": [
    "#### 2. Display Data\n",
    "\n",
    "Print the first 10 rows of each dataframe to your jupyter notebook"
   ]
  },
  {
   "cell_type": "code",
   "execution_count": 11,
   "metadata": {},
   "outputs": [
    {
     "data": {
      "text/html": [
       "<div>\n",
       "<style scoped>\n",
       "    .dataframe tbody tr th:only-of-type {\n",
       "        vertical-align: middle;\n",
       "    }\n",
       "\n",
       "    .dataframe tbody tr th {\n",
       "        vertical-align: top;\n",
       "    }\n",
       "\n",
       "    .dataframe thead th {\n",
       "        text-align: right;\n",
       "    }\n",
       "</style>\n",
       "<table border=\"1\" class=\"dataframe\">\n",
       "  <thead>\n",
       "    <tr style=\"text-align: right;\">\n",
       "      <th></th>\n",
       "      <th>State</th>\n",
       "      <th>Participation</th>\n",
       "      <th>Evidence-Based Reading and Writing</th>\n",
       "      <th>Math</th>\n",
       "      <th>Total</th>\n",
       "    </tr>\n",
       "  </thead>\n",
       "  <tbody>\n",
       "    <tr>\n",
       "      <th>0</th>\n",
       "      <td>Alabama</td>\n",
       "      <td>5%</td>\n",
       "      <td>593</td>\n",
       "      <td>572</td>\n",
       "      <td>1165</td>\n",
       "    </tr>\n",
       "    <tr>\n",
       "      <th>1</th>\n",
       "      <td>Alaska</td>\n",
       "      <td>38%</td>\n",
       "      <td>547</td>\n",
       "      <td>533</td>\n",
       "      <td>1080</td>\n",
       "    </tr>\n",
       "    <tr>\n",
       "      <th>2</th>\n",
       "      <td>Arizona</td>\n",
       "      <td>30%</td>\n",
       "      <td>563</td>\n",
       "      <td>553</td>\n",
       "      <td>1116</td>\n",
       "    </tr>\n",
       "    <tr>\n",
       "      <th>3</th>\n",
       "      <td>Arkansas</td>\n",
       "      <td>3%</td>\n",
       "      <td>614</td>\n",
       "      <td>594</td>\n",
       "      <td>1208</td>\n",
       "    </tr>\n",
       "    <tr>\n",
       "      <th>4</th>\n",
       "      <td>California</td>\n",
       "      <td>53%</td>\n",
       "      <td>531</td>\n",
       "      <td>524</td>\n",
       "      <td>1055</td>\n",
       "    </tr>\n",
       "    <tr>\n",
       "      <th>5</th>\n",
       "      <td>Colorado</td>\n",
       "      <td>11%</td>\n",
       "      <td>606</td>\n",
       "      <td>595</td>\n",
       "      <td>1201</td>\n",
       "    </tr>\n",
       "    <tr>\n",
       "      <th>6</th>\n",
       "      <td>Connecticut</td>\n",
       "      <td>100%</td>\n",
       "      <td>530</td>\n",
       "      <td>512</td>\n",
       "      <td>1041</td>\n",
       "    </tr>\n",
       "    <tr>\n",
       "      <th>7</th>\n",
       "      <td>Delaware</td>\n",
       "      <td>100%</td>\n",
       "      <td>503</td>\n",
       "      <td>492</td>\n",
       "      <td>996</td>\n",
       "    </tr>\n",
       "    <tr>\n",
       "      <th>8</th>\n",
       "      <td>District of Columbia</td>\n",
       "      <td>100%</td>\n",
       "      <td>482</td>\n",
       "      <td>468</td>\n",
       "      <td>950</td>\n",
       "    </tr>\n",
       "    <tr>\n",
       "      <th>9</th>\n",
       "      <td>Florida</td>\n",
       "      <td>83%</td>\n",
       "      <td>520</td>\n",
       "      <td>497</td>\n",
       "      <td>1017</td>\n",
       "    </tr>\n",
       "  </tbody>\n",
       "</table>\n",
       "</div>"
      ],
      "text/plain": [
       "                  State Participation  Evidence-Based Reading and Writing  \\\n",
       "0               Alabama            5%                                 593   \n",
       "1                Alaska           38%                                 547   \n",
       "2               Arizona           30%                                 563   \n",
       "3              Arkansas            3%                                 614   \n",
       "4            California           53%                                 531   \n",
       "5              Colorado           11%                                 606   \n",
       "6           Connecticut          100%                                 530   \n",
       "7              Delaware          100%                                 503   \n",
       "8  District of Columbia          100%                                 482   \n",
       "9               Florida           83%                                 520   \n",
       "\n",
       "   Math  Total  \n",
       "0   572   1165  \n",
       "1   533   1080  \n",
       "2   553   1116  \n",
       "3   594   1208  \n",
       "4   524   1055  \n",
       "5   595   1201  \n",
       "6   512   1041  \n",
       "7   492    996  \n",
       "8   468    950  \n",
       "9   497   1017  "
      ]
     },
     "execution_count": 11,
     "metadata": {},
     "output_type": "execute_result"
    }
   ],
   "source": [
    "#Code:\n",
    "sat_2017.head(10)"
   ]
  },
  {
   "cell_type": "code",
   "execution_count": 12,
   "metadata": {},
   "outputs": [
    {
     "data": {
      "text/html": [
       "<div>\n",
       "<style scoped>\n",
       "    .dataframe tbody tr th:only-of-type {\n",
       "        vertical-align: middle;\n",
       "    }\n",
       "\n",
       "    .dataframe tbody tr th {\n",
       "        vertical-align: top;\n",
       "    }\n",
       "\n",
       "    .dataframe thead th {\n",
       "        text-align: right;\n",
       "    }\n",
       "</style>\n",
       "<table border=\"1\" class=\"dataframe\">\n",
       "  <thead>\n",
       "    <tr style=\"text-align: right;\">\n",
       "      <th></th>\n",
       "      <th>State</th>\n",
       "      <th>Participation</th>\n",
       "      <th>English</th>\n",
       "      <th>Math</th>\n",
       "      <th>Reading</th>\n",
       "      <th>Science</th>\n",
       "      <th>Composite</th>\n",
       "    </tr>\n",
       "  </thead>\n",
       "  <tbody>\n",
       "    <tr>\n",
       "      <th>0</th>\n",
       "      <td>National</td>\n",
       "      <td>60%</td>\n",
       "      <td>20.3</td>\n",
       "      <td>20.7</td>\n",
       "      <td>21.4</td>\n",
       "      <td>21.0</td>\n",
       "      <td>21.0</td>\n",
       "    </tr>\n",
       "    <tr>\n",
       "      <th>1</th>\n",
       "      <td>Alabama</td>\n",
       "      <td>100%</td>\n",
       "      <td>18.9</td>\n",
       "      <td>18.4</td>\n",
       "      <td>19.7</td>\n",
       "      <td>19.4</td>\n",
       "      <td>19.2</td>\n",
       "    </tr>\n",
       "    <tr>\n",
       "      <th>2</th>\n",
       "      <td>Alaska</td>\n",
       "      <td>65%</td>\n",
       "      <td>18.7</td>\n",
       "      <td>19.8</td>\n",
       "      <td>20.4</td>\n",
       "      <td>19.9</td>\n",
       "      <td>19.8</td>\n",
       "    </tr>\n",
       "    <tr>\n",
       "      <th>3</th>\n",
       "      <td>Arizona</td>\n",
       "      <td>62%</td>\n",
       "      <td>18.6</td>\n",
       "      <td>19.8</td>\n",
       "      <td>20.1</td>\n",
       "      <td>19.8</td>\n",
       "      <td>19.7</td>\n",
       "    </tr>\n",
       "    <tr>\n",
       "      <th>4</th>\n",
       "      <td>Arkansas</td>\n",
       "      <td>100%</td>\n",
       "      <td>18.9</td>\n",
       "      <td>19.0</td>\n",
       "      <td>19.7</td>\n",
       "      <td>19.5</td>\n",
       "      <td>19.4</td>\n",
       "    </tr>\n",
       "    <tr>\n",
       "      <th>5</th>\n",
       "      <td>California</td>\n",
       "      <td>31%</td>\n",
       "      <td>22.5</td>\n",
       "      <td>22.7</td>\n",
       "      <td>23.1</td>\n",
       "      <td>22.2</td>\n",
       "      <td>22.8</td>\n",
       "    </tr>\n",
       "    <tr>\n",
       "      <th>6</th>\n",
       "      <td>Colorado</td>\n",
       "      <td>100%</td>\n",
       "      <td>20.1</td>\n",
       "      <td>20.3</td>\n",
       "      <td>21.2</td>\n",
       "      <td>20.9</td>\n",
       "      <td>20.8</td>\n",
       "    </tr>\n",
       "    <tr>\n",
       "      <th>7</th>\n",
       "      <td>Connecticut</td>\n",
       "      <td>31%</td>\n",
       "      <td>25.5</td>\n",
       "      <td>24.6</td>\n",
       "      <td>25.6</td>\n",
       "      <td>24.6</td>\n",
       "      <td>25.2</td>\n",
       "    </tr>\n",
       "    <tr>\n",
       "      <th>8</th>\n",
       "      <td>Delaware</td>\n",
       "      <td>18%</td>\n",
       "      <td>24.1</td>\n",
       "      <td>23.4</td>\n",
       "      <td>24.8</td>\n",
       "      <td>23.6</td>\n",
       "      <td>24.1</td>\n",
       "    </tr>\n",
       "    <tr>\n",
       "      <th>9</th>\n",
       "      <td>District of Columbia</td>\n",
       "      <td>32%</td>\n",
       "      <td>24.4</td>\n",
       "      <td>23.5</td>\n",
       "      <td>24.9</td>\n",
       "      <td>23.5</td>\n",
       "      <td>24.2</td>\n",
       "    </tr>\n",
       "  </tbody>\n",
       "</table>\n",
       "</div>"
      ],
      "text/plain": [
       "                  State Participation  English  Math  Reading  Science  \\\n",
       "0              National           60%     20.3  20.7     21.4     21.0   \n",
       "1               Alabama          100%     18.9  18.4     19.7     19.4   \n",
       "2                Alaska           65%     18.7  19.8     20.4     19.9   \n",
       "3               Arizona           62%     18.6  19.8     20.1     19.8   \n",
       "4              Arkansas          100%     18.9  19.0     19.7     19.5   \n",
       "5            California           31%     22.5  22.7     23.1     22.2   \n",
       "6              Colorado          100%     20.1  20.3     21.2     20.9   \n",
       "7           Connecticut           31%     25.5  24.6     25.6     24.6   \n",
       "8              Delaware           18%     24.1  23.4     24.8     23.6   \n",
       "9  District of Columbia           32%     24.4  23.5     24.9     23.5   \n",
       "\n",
       "  Composite  \n",
       "0      21.0  \n",
       "1      19.2  \n",
       "2      19.8  \n",
       "3      19.7  \n",
       "4      19.4  \n",
       "5      22.8  \n",
       "6      20.8  \n",
       "7      25.2  \n",
       "8      24.1  \n",
       "9      24.2  "
      ]
     },
     "execution_count": 12,
     "metadata": {},
     "output_type": "execute_result"
    }
   ],
   "source": [
    "act_2017.head(10)"
   ]
  },
  {
   "cell_type": "code",
   "execution_count": 13,
   "metadata": {},
   "outputs": [
    {
     "data": {
      "text/plain": [
       "(52, 7)"
      ]
     },
     "execution_count": 13,
     "metadata": {},
     "output_type": "execute_result"
    }
   ],
   "source": [
    "act_2017.shape"
   ]
  },
  {
   "cell_type": "code",
   "execution_count": 14,
   "metadata": {},
   "outputs": [
    {
     "data": {
      "text/plain": [
       "(51, 5)"
      ]
     },
     "execution_count": 14,
     "metadata": {},
     "output_type": "execute_result"
    }
   ],
   "source": [
    "sat_2017.shape"
   ]
  },
  {
   "cell_type": "markdown",
   "metadata": {},
   "source": [
    "#### 3. Verbally Describe Data\n",
    "\n",
    "Take your time looking through the data and thoroughly describe the data in the markdown cell below. "
   ]
  },
  {
   "cell_type": "markdown",
   "metadata": {},
   "source": [
    "The SAT and ACT 2017 datasets provide scores and participation rates for states in USA.The ACT 2017 data set has an extra row stating the national scores.The scores are scaled results and not raw scores. "
   ]
  },
  {
   "cell_type": "markdown",
   "metadata": {},
   "source": [
    "#### 4a. Does the data look complete? "
   ]
  },
  {
   "cell_type": "code",
   "execution_count": 15,
   "metadata": {},
   "outputs": [
    {
     "data": {
      "text/plain": [
       "State                                 0\n",
       "Participation                         0\n",
       "Evidence-Based Reading and Writing    0\n",
       "Math                                  0\n",
       "Total                                 0\n",
       "dtype: int64"
      ]
     },
     "execution_count": 15,
     "metadata": {},
     "output_type": "execute_result"
    }
   ],
   "source": [
    "sat_2017.isnull().sum()"
   ]
  },
  {
   "cell_type": "code",
   "execution_count": 16,
   "metadata": {},
   "outputs": [
    {
     "data": {
      "text/plain": [
       "State            0\n",
       "Participation    0\n",
       "English          0\n",
       "Math             0\n",
       "Reading          0\n",
       "Science          0\n",
       "Composite        0\n",
       "dtype: int64"
      ]
     },
     "execution_count": 16,
     "metadata": {},
     "output_type": "execute_result"
    }
   ],
   "source": [
    "act_2017.isnull().sum()"
   ]
  },
  {
   "cell_type": "markdown",
   "metadata": {},
   "source": [
    "Answer: After conducting a null check, looks like the data is complete"
   ]
  },
  {
   "cell_type": "markdown",
   "metadata": {},
   "source": [
    "#### 4b. Are there any obvious issues with the observations?\n",
    "\n",
    "**What is the minimum *possible* value for each test/subtest? What is the maximum *possible* value?**\n",
    "\n",
    "Consider comparing any questionable values to the sources of your data:\n",
    "- [SAT](https://blog.collegevine.com/here-are-the-average-sat-scores-by-state/)\n",
    "- [ACT](https://blog.prepscholar.com/act-scores-by-state-averages-highs-and-lows)"
   ]
  },
  {
   "cell_type": "code",
   "execution_count": 17,
   "metadata": {},
   "outputs": [
    {
     "data": {
      "text/plain": [
       "State                                 Alabama\n",
       "Participation                             10%\n",
       "Evidence-Based Reading and Writing        482\n",
       "Math                                       52\n",
       "Total                                     950\n",
       "dtype: object"
      ]
     },
     "execution_count": 17,
     "metadata": {},
     "output_type": "execute_result"
    }
   ],
   "source": [
    "#SAT 2017 Min values\n",
    "sat_2017.min()"
   ]
  },
  {
   "cell_type": "code",
   "execution_count": 18,
   "metadata": {},
   "outputs": [
    {
     "data": {
      "text/plain": [
       "State                                 Wyoming\n",
       "Participation                             96%\n",
       "Evidence-Based Reading and Writing        644\n",
       "Math                                      651\n",
       "Total                                    1295\n",
       "dtype: object"
      ]
     },
     "execution_count": 18,
     "metadata": {},
     "output_type": "execute_result"
    }
   ],
   "source": [
    "#SAT 2017 Max values\n",
    "sat_2017.max()"
   ]
  },
  {
   "cell_type": "markdown",
   "metadata": {},
   "source": [
    "#ACT 2017 Min Values\n",
    "act_2017.min()"
   ]
  },
  {
   "cell_type": "code",
   "execution_count": 19,
   "metadata": {},
   "outputs": [
    {
     "data": {
      "text/plain": [
       "State            Wyoming\n",
       "Participation        98%\n",
       "English             25.5\n",
       "Math                25.3\n",
       "Reading               26\n",
       "Science             24.9\n",
       "Composite           25.5\n",
       "dtype: object"
      ]
     },
     "execution_count": 19,
     "metadata": {},
     "output_type": "execute_result"
    }
   ],
   "source": [
    "#ACT 2017 Max Values\n",
    "act_2017.max()"
   ]
  },
  {
   "cell_type": "markdown",
   "metadata": {},
   "source": [
    "Upon comparison, SAT 2017 Math has a low of 52 and ACT 2017 Science has a low of 2.3.These numbers need to be corrected before any futher analysis is conducted"
   ]
  },
  {
   "cell_type": "markdown",
   "metadata": {},
   "source": [
    "#### 4c. Fix any errors you identified\n",
    "\n",
    "**The data is available** so there's no need to guess or calculate anything. If you didn't find any errors, continue to the next step."
   ]
  },
  {
   "cell_type": "markdown",
   "metadata": {},
   "source": [
    "#### 5. What are your data types? \n",
    "Display the data types of each feature. "
   ]
  },
  {
   "cell_type": "code",
   "execution_count": 20,
   "metadata": {},
   "outputs": [
    {
     "data": {
      "text/plain": [
       "State                                 object\n",
       "Participation                         object\n",
       "Evidence-Based Reading and Writing     int64\n",
       "Math                                   int64\n",
       "Total                                  int64\n",
       "dtype: object"
      ]
     },
     "execution_count": 20,
     "metadata": {},
     "output_type": "execute_result"
    }
   ],
   "source": [
    "#code\n",
    "sat_2017.dtypes"
   ]
  },
  {
   "cell_type": "code",
   "execution_count": 21,
   "metadata": {},
   "outputs": [
    {
     "data": {
      "text/plain": [
       "State             object\n",
       "Participation     object\n",
       "English          float64\n",
       "Math             float64\n",
       "Reading          float64\n",
       "Science          float64\n",
       "Composite         object\n",
       "dtype: object"
      ]
     },
     "execution_count": 21,
     "metadata": {},
     "output_type": "execute_result"
    }
   ],
   "source": [
    "act_2017.dtypes"
   ]
  },
  {
   "cell_type": "markdown",
   "metadata": {},
   "source": [
    "What did you learn?\n",
    "- Do any of them seem odd?  \n",
    "- Which ones are not as they should be?  "
   ]
  },
  {
   "cell_type": "markdown",
   "metadata": {},
   "source": [
    "Answer:\n",
    "\n",
    "Participation column in sat_2017 dataframe should be converted into floats by removing '%' sign in order to be used for further calculations.\n",
    "\n",
    "Participation and Composite columns in act_2017 dataframe should be converted into floats as it contains numerical values and can be used for calculations further in the project.\n",
    "\n",
    "\n"
   ]
  },
  {
   "cell_type": "markdown",
   "metadata": {},
   "source": [
    "#### 6. Fix Incorrect Data Types\n",
    "Based on what you discovered above, use appropriate methods to re-type incorrectly typed data.\n",
    "- Define a function that will allow you to convert participation rates to an appropriate numeric type. Use `map` or `apply` to change these columns in each dataframe."
   ]
  },
  {
   "cell_type": "code",
   "execution_count": 22,
   "metadata": {},
   "outputs": [],
   "source": [
    "#code\n",
    "def covert_percent_to_float(dataframe,column):\n",
    "    dataframe[column]=dataframe[column].str.replace('%','')\n",
    "    dataframe[column]=(dataframe[column].apply(float))/100\n"
   ]
  },
  {
   "cell_type": "code",
   "execution_count": 23,
   "metadata": {},
   "outputs": [],
   "source": [
    "covert_percent_to_float(sat_2017,\"Participation\")\n",
    "covert_percent_to_float(act_2017,\"Participation\")\n"
   ]
  },
  {
   "cell_type": "markdown",
   "metadata": {},
   "source": [
    "- Fix any individual values preventing other columns from being the appropriate type."
   ]
  },
  {
   "cell_type": "code",
   "execution_count": 24,
   "metadata": {},
   "outputs": [
    {
     "data": {
      "text/plain": [
       "array(['17.8', '18.6', '18.7', '19.0', '19.1', '19.2', '19.4', '19.5',\n",
       "       '19.7', '19.8', '20.0', '20.2x', '20.3', '20.4', '20.5', '20.7',\n",
       "       '20.8', '21.0', '21.4', '21.5', '21.7', '21.8', '21.9', '22.0',\n",
       "       '22.3', '22.6', '22.8', '23.6', '23.7', '23.8', '23.9', '24.0',\n",
       "       '24.1', '24.2', '24.3', '25.2', '25.4', '25.5'], dtype=object)"
      ]
     },
     "execution_count": 24,
     "metadata": {},
     "output_type": "execute_result"
    }
   ],
   "source": [
    "#code\n",
    "np.sort(act_2017['Composite'].unique())\n"
   ]
  },
  {
   "cell_type": "code",
   "execution_count": 25,
   "metadata": {},
   "outputs": [],
   "source": [
    "act_2017['Composite'] = act_2017['Composite'].str.replace('x', '')\n",
    "act_2017['Composite']=act_2017['Composite'].apply(float) "
   ]
  },
  {
   "cell_type": "markdown",
   "metadata": {},
   "source": [
    "- Finish your data modifications by making sure the columns are now typed appropriately."
   ]
  },
  {
   "cell_type": "code",
   "execution_count": 26,
   "metadata": {},
   "outputs": [
    {
     "data": {
      "text/plain": [
       "array(['Alabama', 'Alaska', 'Arizona', 'Arkansas', 'California',\n",
       "       'Colorado', 'Connecticut', 'Delaware', 'District of Columbia',\n",
       "       'Florida', 'Georgia', 'Hawaii', 'Idaho', 'Illinois', 'Indiana',\n",
       "       'Iowa', 'Kansas', 'Kentucky', 'Louisiana', 'Maine', 'Maryland',\n",
       "       'Massachusetts', 'Michigan', 'Minnesota', 'Mississippi',\n",
       "       'Missouri', 'Montana', 'National', 'Nebraska', 'Nevada',\n",
       "       'New Hampshire', 'New Jersey', 'New Mexico', 'New York',\n",
       "       'North Carolina', 'North Dakota', 'Ohio', 'Oklahoma', 'Oregon',\n",
       "       'Pennsylvania', 'Rhode Island', 'South Carolina', 'South Dakota',\n",
       "       'Tennessee', 'Texas', 'Utah', 'Vermont', 'Virginia', 'Washington',\n",
       "       'West Virginia', 'Wisconsin', 'Wyoming'], dtype=object)"
      ]
     },
     "execution_count": 26,
     "metadata": {},
     "output_type": "execute_result"
    }
   ],
   "source": [
    "#code\n",
    "#sat_2017.head(10)\n",
    "np.sort(act_2017['State'].unique())"
   ]
  },
  {
   "cell_type": "code",
   "execution_count": 27,
   "metadata": {},
   "outputs": [
    {
     "data": {
      "text/plain": [
       "array(['Alabama', 'Alaska', 'Arizona', 'Arkansas', 'California',\n",
       "       'Colorado', 'Connecticut', 'Delaware', 'District of Columbia',\n",
       "       'Florida', 'Georgia', 'Hawaii', 'Idaho', 'Illinois', 'Indiana',\n",
       "       'Iowa', 'Kansas', 'Kentucky', 'Louisiana', 'Maine', 'Maryland',\n",
       "       'Massachusetts', 'Michigan', 'Minnesota', 'Mississippi',\n",
       "       'Missouri', 'Montana', 'Nebraska', 'Nevada', 'New Hampshire',\n",
       "       'New Jersey', 'New Mexico', 'New York', 'North Carolina',\n",
       "       'North Dakota', 'Ohio', 'Oklahoma', 'Oregon', 'Pennsylvania',\n",
       "       'Rhode Island', 'South Carolina', 'South Dakota', 'Tennessee',\n",
       "       'Texas', 'Utah', 'Vermont', 'Virginia', 'Washington',\n",
       "       'West Virginia', 'Wisconsin', 'Wyoming'], dtype=object)"
      ]
     },
     "execution_count": 27,
     "metadata": {},
     "output_type": "execute_result"
    }
   ],
   "source": [
    "#act_2017.head(10)\n",
    "np.sort(sat_2017['State'].unique())"
   ]
  },
  {
   "cell_type": "markdown",
   "metadata": {},
   "source": [
    "- Display the data types again to confirm they are correct."
   ]
  },
  {
   "cell_type": "code",
   "execution_count": 28,
   "metadata": {},
   "outputs": [
    {
     "data": {
      "text/plain": [
       "State                                  object\n",
       "Participation                         float64\n",
       "Evidence-Based Reading and Writing      int64\n",
       "Math                                    int64\n",
       "Total                                   int64\n",
       "dtype: object"
      ]
     },
     "execution_count": 28,
     "metadata": {},
     "output_type": "execute_result"
    }
   ],
   "source": [
    "sat_2017.dtypes"
   ]
  },
  {
   "cell_type": "code",
   "execution_count": 29,
   "metadata": {},
   "outputs": [
    {
     "data": {
      "text/plain": [
       "State             object\n",
       "Participation    float64\n",
       "English          float64\n",
       "Math             float64\n",
       "Reading          float64\n",
       "Science          float64\n",
       "Composite        float64\n",
       "dtype: object"
      ]
     },
     "execution_count": 29,
     "metadata": {},
     "output_type": "execute_result"
    }
   ],
   "source": [
    "#Code:\n",
    "act_2017.dtypes\n"
   ]
  },
  {
   "cell_type": "code",
   "execution_count": 30,
   "metadata": {
    "scrolled": true
   },
   "outputs": [
    {
     "data": {
      "text/html": [
       "<div>\n",
       "<style scoped>\n",
       "    .dataframe tbody tr th:only-of-type {\n",
       "        vertical-align: middle;\n",
       "    }\n",
       "\n",
       "    .dataframe tbody tr th {\n",
       "        vertical-align: top;\n",
       "    }\n",
       "\n",
       "    .dataframe thead th {\n",
       "        text-align: right;\n",
       "    }\n",
       "</style>\n",
       "<table border=\"1\" class=\"dataframe\">\n",
       "  <thead>\n",
       "    <tr style=\"text-align: right;\">\n",
       "      <th></th>\n",
       "      <th>State</th>\n",
       "      <th>Participation</th>\n",
       "      <th>Evidence-Based Reading and Writing</th>\n",
       "      <th>Math</th>\n",
       "      <th>Total</th>\n",
       "    </tr>\n",
       "  </thead>\n",
       "  <tbody>\n",
       "    <tr>\n",
       "      <th>20</th>\n",
       "      <td>Maryland</td>\n",
       "      <td>0.69</td>\n",
       "      <td>536</td>\n",
       "      <td>52</td>\n",
       "      <td>1060</td>\n",
       "    </tr>\n",
       "  </tbody>\n",
       "</table>\n",
       "</div>"
      ],
      "text/plain": [
       "       State  Participation  Evidence-Based Reading and Writing  Math  Total\n",
       "20  Maryland           0.69                                 536    52   1060"
      ]
     },
     "execution_count": 30,
     "metadata": {},
     "output_type": "execute_result"
    }
   ],
   "source": [
    "#Extracting the state where sat_math is 52\n",
    "sat_2017[sat_2017['Math']==52]"
   ]
  },
  {
   "cell_type": "code",
   "execution_count": 31,
   "metadata": {},
   "outputs": [],
   "source": [
    "#Replacing the sat_math value for Maryland with 524(1060-536)\n",
    "sat_2017.loc[20,'Math']=524"
   ]
  },
  {
   "cell_type": "code",
   "execution_count": 32,
   "metadata": {},
   "outputs": [
    {
     "data": {
      "text/plain": [
       "State                                 Maryland\n",
       "Participation                             0.69\n",
       "Evidence-Based Reading and Writing         536\n",
       "Math                                       524\n",
       "Total                                     1060\n",
       "Name: 20, dtype: object"
      ]
     },
     "execution_count": 32,
     "metadata": {},
     "output_type": "execute_result"
    }
   ],
   "source": [
    "#Check if it updated\n",
    "sat_2017.loc[20,:]"
   ]
  },
  {
   "cell_type": "code",
   "execution_count": 33,
   "metadata": {
    "scrolled": true
   },
   "outputs": [
    {
     "data": {
      "text/html": [
       "<div>\n",
       "<style scoped>\n",
       "    .dataframe tbody tr th:only-of-type {\n",
       "        vertical-align: middle;\n",
       "    }\n",
       "\n",
       "    .dataframe tbody tr th {\n",
       "        vertical-align: top;\n",
       "    }\n",
       "\n",
       "    .dataframe thead th {\n",
       "        text-align: right;\n",
       "    }\n",
       "</style>\n",
       "<table border=\"1\" class=\"dataframe\">\n",
       "  <thead>\n",
       "    <tr style=\"text-align: right;\">\n",
       "      <th></th>\n",
       "      <th>State</th>\n",
       "      <th>Participation</th>\n",
       "      <th>English</th>\n",
       "      <th>Math</th>\n",
       "      <th>Reading</th>\n",
       "      <th>Science</th>\n",
       "      <th>Composite</th>\n",
       "    </tr>\n",
       "  </thead>\n",
       "  <tbody>\n",
       "    <tr>\n",
       "      <th>21</th>\n",
       "      <td>Maryland</td>\n",
       "      <td>0.28</td>\n",
       "      <td>23.3</td>\n",
       "      <td>23.1</td>\n",
       "      <td>24.2</td>\n",
       "      <td>2.3</td>\n",
       "      <td>23.6</td>\n",
       "    </tr>\n",
       "  </tbody>\n",
       "</table>\n",
       "</div>"
      ],
      "text/plain": [
       "       State  Participation  English  Math  Reading  Science  Composite\n",
       "21  Maryland           0.28     23.3  23.1     24.2      2.3       23.6"
      ]
     },
     "execution_count": 33,
     "metadata": {},
     "output_type": "execute_result"
    }
   ],
   "source": [
    "#Extracting the state where act_science is 2.3\n",
    "act_2017[act_2017['Science'] == 2.3]"
   ]
  },
  {
   "cell_type": "code",
   "execution_count": 34,
   "metadata": {},
   "outputs": [],
   "source": [
    "#Replacing the act_science value for Maryland with 23.8(average(act_scores)=composite)\n",
    "act_2017.loc[21,'Science']=23.8"
   ]
  },
  {
   "cell_type": "code",
   "execution_count": 35,
   "metadata": {},
   "outputs": [
    {
     "data": {
      "text/plain": [
       "State            Maryland\n",
       "Participation        0.28\n",
       "English              23.3\n",
       "Math                 23.1\n",
       "Reading              24.2\n",
       "Science              23.8\n",
       "Composite            23.6\n",
       "Name: 21, dtype: object"
      ]
     },
     "execution_count": 35,
     "metadata": {},
     "output_type": "execute_result"
    }
   ],
   "source": [
    "#Check if it updated\n",
    "act_2017.loc[21,:]"
   ]
  },
  {
   "cell_type": "markdown",
   "metadata": {},
   "source": [
    "#### 7. Rename Columns\n",
    "Change the names of the columns to more expressive names so that you can tell the difference the SAT columns and the ACT columns. Your solution should map all column names being changed at once (no repeated singular name-changes). **We will be combining these data with some of the data from 2018, and so you should name columns in an appropriate way**.\n",
    "\n",
    "**Guidelines**:\n",
    "- Column names should be all lowercase (you will thank yourself when you start pushing data to SQL later in the course)\n",
    "- Column names should not contain spaces (underscores will suffice--this allows for using the `df.column_name` method to access columns in addition to `df['column_name']`.\n",
    "- Column names should be unique and informative (the only feature that we actually share between dataframes is the state)."
   ]
  },
  {
   "cell_type": "code",
   "execution_count": 36,
   "metadata": {},
   "outputs": [],
   "source": [
    "#code\n",
    "act_2017.rename(columns = {\"State\": \"state\",\n",
    "                           \"Participation\": \"act_2017_participation_%\",\n",
    "                           \"English\":\"act_2017_english\",\n",
    "                           \"Math\": \"act_2017_math\",\n",
    "                           \"Reading\": \"act_2017_reading\",\n",
    "                           \"Science\": \"act_2017_science\",\n",
    "                           \"Composite\": \"act_2017_composite\"\n",
    "                          }, inplace = True)\n",
    "sat_2017.rename(columns = {\"State\": \"state\",\n",
    "                           \"Participation\": \"sat_2017_participation_%\",\n",
    "                           \"Evidence-Based Reading and Writing\":\"sat_2017_read_write\",\n",
    "                           \"Math\":\"sat_2017_math\",\n",
    "                           \"Total\":\"sat_2017_total\"\n",
    "                          }, inplace = True)"
   ]
  },
  {
   "cell_type": "code",
   "execution_count": 37,
   "metadata": {},
   "outputs": [
    {
     "data": {
      "text/html": [
       "<div>\n",
       "<style scoped>\n",
       "    .dataframe tbody tr th:only-of-type {\n",
       "        vertical-align: middle;\n",
       "    }\n",
       "\n",
       "    .dataframe tbody tr th {\n",
       "        vertical-align: top;\n",
       "    }\n",
       "\n",
       "    .dataframe thead th {\n",
       "        text-align: right;\n",
       "    }\n",
       "</style>\n",
       "<table border=\"1\" class=\"dataframe\">\n",
       "  <thead>\n",
       "    <tr style=\"text-align: right;\">\n",
       "      <th></th>\n",
       "      <th>state</th>\n",
       "      <th>act_2017_participation_%</th>\n",
       "      <th>act_2017_english</th>\n",
       "      <th>act_2017_math</th>\n",
       "      <th>act_2017_reading</th>\n",
       "      <th>act_2017_science</th>\n",
       "      <th>act_2017_composite</th>\n",
       "    </tr>\n",
       "  </thead>\n",
       "  <tbody>\n",
       "    <tr>\n",
       "      <th>0</th>\n",
       "      <td>National</td>\n",
       "      <td>0.6</td>\n",
       "      <td>20.3</td>\n",
       "      <td>20.7</td>\n",
       "      <td>21.4</td>\n",
       "      <td>21.0</td>\n",
       "      <td>21.0</td>\n",
       "    </tr>\n",
       "  </tbody>\n",
       "</table>\n",
       "</div>"
      ],
      "text/plain": [
       "      state  act_2017_participation_%  act_2017_english  act_2017_math  \\\n",
       "0  National                       0.6              20.3           20.7   \n",
       "\n",
       "   act_2017_reading  act_2017_science  act_2017_composite  \n",
       "0              21.4              21.0                21.0  "
      ]
     },
     "execution_count": 37,
     "metadata": {},
     "output_type": "execute_result"
    }
   ],
   "source": [
    "act_2017.head(1)"
   ]
  },
  {
   "cell_type": "code",
   "execution_count": 38,
   "metadata": {},
   "outputs": [
    {
     "data": {
      "text/html": [
       "<div>\n",
       "<style scoped>\n",
       "    .dataframe tbody tr th:only-of-type {\n",
       "        vertical-align: middle;\n",
       "    }\n",
       "\n",
       "    .dataframe tbody tr th {\n",
       "        vertical-align: top;\n",
       "    }\n",
       "\n",
       "    .dataframe thead th {\n",
       "        text-align: right;\n",
       "    }\n",
       "</style>\n",
       "<table border=\"1\" class=\"dataframe\">\n",
       "  <thead>\n",
       "    <tr style=\"text-align: right;\">\n",
       "      <th></th>\n",
       "      <th>state</th>\n",
       "      <th>sat_2017_participation_%</th>\n",
       "      <th>sat_2017_read_write</th>\n",
       "      <th>sat_2017_math</th>\n",
       "      <th>sat_2017_total</th>\n",
       "    </tr>\n",
       "  </thead>\n",
       "  <tbody>\n",
       "    <tr>\n",
       "      <th>0</th>\n",
       "      <td>Alabama</td>\n",
       "      <td>0.05</td>\n",
       "      <td>593</td>\n",
       "      <td>572</td>\n",
       "      <td>1165</td>\n",
       "    </tr>\n",
       "  </tbody>\n",
       "</table>\n",
       "</div>"
      ],
      "text/plain": [
       "     state  sat_2017_participation_%  sat_2017_read_write  sat_2017_math  \\\n",
       "0  Alabama                      0.05                  593            572   \n",
       "\n",
       "   sat_2017_total  \n",
       "0            1165  "
      ]
     },
     "execution_count": 38,
     "metadata": {},
     "output_type": "execute_result"
    }
   ],
   "source": [
    "sat_2017.head(1)"
   ]
  },
  {
   "cell_type": "markdown",
   "metadata": {},
   "source": [
    "#### 8. Create a data dictionary\n",
    "\n",
    "Now that we've fixed our data, and given it appropriate names, let's create a [data dictionary](http://library.ucmerced.edu/node/10249). \n",
    "\n",
    "A data dictionary provides a quick overview of features/variables/columns, alongside data types and descriptions. The more descriptive you can be, the more useful this document is.\n",
    "\n",
    "Example of a Fictional Data Dictionary Entry: \n",
    "\n",
    "|Feature|Type|Dataset|Description|\n",
    "|---|---|---|---|\n",
    "|**county_pop**|*integer*|2010 census|The population of the county (units in thousands, where 2.5 represents 2500 people).| \n",
    "|**per_poverty**|*float*|2010 census|The percent of the county over the age of 18 living below the 200% of official US poverty rate (units percent to two decimal places 98.10 means 98.1%)|\n",
    "\n",
    "[Here's a quick link to a short guide for formatting markdown in Jupyter notebooks](https://jupyter-notebook.readthedocs.io/en/stable/examples/Notebook/Working%20With%20Markdown%20Cells.html).\n",
    "\n",
    "Provided is the skeleton for formatting a markdown table, with columns headers that will help you create a data dictionary to quickly summarize your data, as well as some examples. **This would be a great thing to copy and paste into your custom README for this project.**"
   ]
  },
  {
   "cell_type": "markdown",
   "metadata": {},
   "source": [
    "|Feature|Type|Dataset|Description|\n",
    "|---|---|---|---|\n",
    "|column name|int/float/object|ACT/SAT|This is an example| \n"
   ]
  },
  {
   "cell_type": "markdown",
   "metadata": {},
   "source": [
    "|Feature|Type|Dataset|Description|\n",
    "|---|---|---|---|\n",
    "|**state**|*object*|ACT(2017,2018)SAT(2017,2018)|USA state where SAT or ACT testing took place| \n",
    "|**participation_%**|*float*|ACT(2017,2018)SAT(2017,2018)|percentage of graduating high school seniors being tested|\n",
    "|**act_english**|*float*|ACT(2017,2018)|ACT English scaled score between 1 and 36|\n",
    "|**act_math**|*float*|ACT(2017,2018)|ACT Math scaled score between 1 and 36|\n",
    "|**act_read**|*float*|ACT(2017,2018)|ACT Reading scaled score between 1 and 36|\n",
    "|**act_science**|*float*|ACT(2017,2018)|ACT Science scaled score between 1 and 36|\n",
    "|**act_composite**|*float*|ACT(2017,2018)|Average of 4 ACT scaled scores between 1 and 36|\n",
    "|**sat_read_write**|*int*|SAT(2017,2018)|SAT Evidence Based Reading and Writing(EBRW) scaled score between 200 and 800|\n",
    "|**sat_math**|*int*|SAT(2017,2018)|SAT Math scaled scores between 200 and 800|\n",
    "|**sat_total**|*int*|SAT(2017,2018)|Sum of SAT EBRW and Math scaled scores between 400 and 1600|"
   ]
  },
  {
   "cell_type": "markdown",
   "metadata": {},
   "source": [
    "#### 9. Drop unnecessary rows\n",
    "\n",
    "One of our dataframes contains an extra row. Identify and remove this from the dataframe."
   ]
  },
  {
   "cell_type": "code",
   "execution_count": 39,
   "metadata": {},
   "outputs": [],
   "source": [
    "#ACT_2017 has an extra row \n",
    "act_2017.drop(0, inplace = True, axis = 0)"
   ]
  },
  {
   "cell_type": "code",
   "execution_count": 40,
   "metadata": {},
   "outputs": [],
   "source": [
    "act_2017.index = np.arange(0,len(act_2017[\"state\"]))"
   ]
  },
  {
   "cell_type": "code",
   "execution_count": 41,
   "metadata": {},
   "outputs": [
    {
     "data": {
      "text/plain": [
       "(51, 7)"
      ]
     },
     "execution_count": 41,
     "metadata": {},
     "output_type": "execute_result"
    }
   ],
   "source": [
    "act_2017.shape"
   ]
  },
  {
   "cell_type": "code",
   "execution_count": 42,
   "metadata": {},
   "outputs": [
    {
     "data": {
      "text/plain": [
       "(51, 5)"
      ]
     },
     "execution_count": 42,
     "metadata": {},
     "output_type": "execute_result"
    }
   ],
   "source": [
    "sat_2017.shape"
   ]
  },
  {
   "cell_type": "code",
   "execution_count": 43,
   "metadata": {},
   "outputs": [
    {
     "data": {
      "text/html": [
       "<div>\n",
       "<style scoped>\n",
       "    .dataframe tbody tr th:only-of-type {\n",
       "        vertical-align: middle;\n",
       "    }\n",
       "\n",
       "    .dataframe tbody tr th {\n",
       "        vertical-align: top;\n",
       "    }\n",
       "\n",
       "    .dataframe thead th {\n",
       "        text-align: right;\n",
       "    }\n",
       "</style>\n",
       "<table border=\"1\" class=\"dataframe\">\n",
       "  <thead>\n",
       "    <tr style=\"text-align: right;\">\n",
       "      <th></th>\n",
       "      <th>state</th>\n",
       "      <th>sat_2017_participation_%</th>\n",
       "      <th>sat_2017_read_write</th>\n",
       "      <th>sat_2017_math</th>\n",
       "      <th>sat_2017_total</th>\n",
       "    </tr>\n",
       "  </thead>\n",
       "  <tbody>\n",
       "    <tr>\n",
       "      <th>0</th>\n",
       "      <td>Alabama</td>\n",
       "      <td>0.05</td>\n",
       "      <td>593</td>\n",
       "      <td>572</td>\n",
       "      <td>1165</td>\n",
       "    </tr>\n",
       "  </tbody>\n",
       "</table>\n",
       "</div>"
      ],
      "text/plain": [
       "     state  sat_2017_participation_%  sat_2017_read_write  sat_2017_math  \\\n",
       "0  Alabama                      0.05                  593            572   \n",
       "\n",
       "   sat_2017_total  \n",
       "0            1165  "
      ]
     },
     "execution_count": 43,
     "metadata": {},
     "output_type": "execute_result"
    }
   ],
   "source": [
    "sat_2017.head(1)"
   ]
  },
  {
   "cell_type": "code",
   "execution_count": 44,
   "metadata": {},
   "outputs": [
    {
     "data": {
      "text/html": [
       "<div>\n",
       "<style scoped>\n",
       "    .dataframe tbody tr th:only-of-type {\n",
       "        vertical-align: middle;\n",
       "    }\n",
       "\n",
       "    .dataframe tbody tr th {\n",
       "        vertical-align: top;\n",
       "    }\n",
       "\n",
       "    .dataframe thead th {\n",
       "        text-align: right;\n",
       "    }\n",
       "</style>\n",
       "<table border=\"1\" class=\"dataframe\">\n",
       "  <thead>\n",
       "    <tr style=\"text-align: right;\">\n",
       "      <th></th>\n",
       "      <th>state</th>\n",
       "      <th>act_2017_participation_%</th>\n",
       "      <th>act_2017_english</th>\n",
       "      <th>act_2017_math</th>\n",
       "      <th>act_2017_reading</th>\n",
       "      <th>act_2017_science</th>\n",
       "      <th>act_2017_composite</th>\n",
       "    </tr>\n",
       "  </thead>\n",
       "  <tbody>\n",
       "    <tr>\n",
       "      <th>0</th>\n",
       "      <td>Alabama</td>\n",
       "      <td>1.0</td>\n",
       "      <td>18.9</td>\n",
       "      <td>18.4</td>\n",
       "      <td>19.7</td>\n",
       "      <td>19.4</td>\n",
       "      <td>19.2</td>\n",
       "    </tr>\n",
       "  </tbody>\n",
       "</table>\n",
       "</div>"
      ],
      "text/plain": [
       "     state  act_2017_participation_%  act_2017_english  act_2017_math  \\\n",
       "0  Alabama                       1.0              18.9           18.4   \n",
       "\n",
       "   act_2017_reading  act_2017_science  act_2017_composite  \n",
       "0              19.7              19.4                19.2  "
      ]
     },
     "execution_count": 44,
     "metadata": {},
     "output_type": "execute_result"
    }
   ],
   "source": [
    "act_2017.head(1)"
   ]
  },
  {
   "cell_type": "markdown",
   "metadata": {},
   "source": [
    "#### Summary of 2017 Data Set changes\n",
    "- ACT 2017 Science for Maryland was corrected\n",
    "- SAT 2017 Math for Maryland was corrected\n",
    "- Participation values were converted to floats\n",
    "- ACT 2017 composite incorrect values were corrected and converted to floats\n",
    "- Column names were changed to cleaner format\n",
    "- National row in ACT 2017 was dropped and indices were fixed."
   ]
  },
  {
   "cell_type": "markdown",
   "metadata": {},
   "source": [
    "#### 10. Merge Dataframes\n",
    "\n",
    "Join the 2017 ACT and SAT dataframes using the state in each dataframe as the key. Assign this to a new variable."
   ]
  },
  {
   "cell_type": "code",
   "execution_count": 45,
   "metadata": {},
   "outputs": [],
   "source": [
    "#Code:\n",
    "combined_2017=pd.merge(left=act_2017,right=sat_2017,on=\"state\",how='outer')"
   ]
  },
  {
   "cell_type": "code",
   "execution_count": 46,
   "metadata": {},
   "outputs": [
    {
     "data": {
      "text/html": [
       "<div>\n",
       "<style scoped>\n",
       "    .dataframe tbody tr th:only-of-type {\n",
       "        vertical-align: middle;\n",
       "    }\n",
       "\n",
       "    .dataframe tbody tr th {\n",
       "        vertical-align: top;\n",
       "    }\n",
       "\n",
       "    .dataframe thead th {\n",
       "        text-align: right;\n",
       "    }\n",
       "</style>\n",
       "<table border=\"1\" class=\"dataframe\">\n",
       "  <thead>\n",
       "    <tr style=\"text-align: right;\">\n",
       "      <th></th>\n",
       "      <th>state</th>\n",
       "      <th>act_2017_participation_%</th>\n",
       "      <th>act_2017_english</th>\n",
       "      <th>act_2017_math</th>\n",
       "      <th>act_2017_reading</th>\n",
       "      <th>act_2017_science</th>\n",
       "      <th>act_2017_composite</th>\n",
       "      <th>sat_2017_participation_%</th>\n",
       "      <th>sat_2017_read_write</th>\n",
       "      <th>sat_2017_math</th>\n",
       "      <th>sat_2017_total</th>\n",
       "    </tr>\n",
       "  </thead>\n",
       "  <tbody>\n",
       "    <tr>\n",
       "      <th>0</th>\n",
       "      <td>Alabama</td>\n",
       "      <td>1.00</td>\n",
       "      <td>18.9</td>\n",
       "      <td>18.4</td>\n",
       "      <td>19.7</td>\n",
       "      <td>19.4</td>\n",
       "      <td>19.2</td>\n",
       "      <td>0.05</td>\n",
       "      <td>593</td>\n",
       "      <td>572</td>\n",
       "      <td>1165</td>\n",
       "    </tr>\n",
       "    <tr>\n",
       "      <th>1</th>\n",
       "      <td>Alaska</td>\n",
       "      <td>0.65</td>\n",
       "      <td>18.7</td>\n",
       "      <td>19.8</td>\n",
       "      <td>20.4</td>\n",
       "      <td>19.9</td>\n",
       "      <td>19.8</td>\n",
       "      <td>0.38</td>\n",
       "      <td>547</td>\n",
       "      <td>533</td>\n",
       "      <td>1080</td>\n",
       "    </tr>\n",
       "    <tr>\n",
       "      <th>2</th>\n",
       "      <td>Arizona</td>\n",
       "      <td>0.62</td>\n",
       "      <td>18.6</td>\n",
       "      <td>19.8</td>\n",
       "      <td>20.1</td>\n",
       "      <td>19.8</td>\n",
       "      <td>19.7</td>\n",
       "      <td>0.30</td>\n",
       "      <td>563</td>\n",
       "      <td>553</td>\n",
       "      <td>1116</td>\n",
       "    </tr>\n",
       "    <tr>\n",
       "      <th>3</th>\n",
       "      <td>Arkansas</td>\n",
       "      <td>1.00</td>\n",
       "      <td>18.9</td>\n",
       "      <td>19.0</td>\n",
       "      <td>19.7</td>\n",
       "      <td>19.5</td>\n",
       "      <td>19.4</td>\n",
       "      <td>0.03</td>\n",
       "      <td>614</td>\n",
       "      <td>594</td>\n",
       "      <td>1208</td>\n",
       "    </tr>\n",
       "    <tr>\n",
       "      <th>4</th>\n",
       "      <td>California</td>\n",
       "      <td>0.31</td>\n",
       "      <td>22.5</td>\n",
       "      <td>22.7</td>\n",
       "      <td>23.1</td>\n",
       "      <td>22.2</td>\n",
       "      <td>22.8</td>\n",
       "      <td>0.53</td>\n",
       "      <td>531</td>\n",
       "      <td>524</td>\n",
       "      <td>1055</td>\n",
       "    </tr>\n",
       "  </tbody>\n",
       "</table>\n",
       "</div>"
      ],
      "text/plain": [
       "        state  act_2017_participation_%  act_2017_english  act_2017_math  \\\n",
       "0     Alabama                      1.00              18.9           18.4   \n",
       "1      Alaska                      0.65              18.7           19.8   \n",
       "2     Arizona                      0.62              18.6           19.8   \n",
       "3    Arkansas                      1.00              18.9           19.0   \n",
       "4  California                      0.31              22.5           22.7   \n",
       "\n",
       "   act_2017_reading  act_2017_science  act_2017_composite  \\\n",
       "0              19.7              19.4                19.2   \n",
       "1              20.4              19.9                19.8   \n",
       "2              20.1              19.8                19.7   \n",
       "3              19.7              19.5                19.4   \n",
       "4              23.1              22.2                22.8   \n",
       "\n",
       "   sat_2017_participation_%  sat_2017_read_write  sat_2017_math  \\\n",
       "0                      0.05                  593            572   \n",
       "1                      0.38                  547            533   \n",
       "2                      0.30                  563            553   \n",
       "3                      0.03                  614            594   \n",
       "4                      0.53                  531            524   \n",
       "\n",
       "   sat_2017_total  \n",
       "0            1165  \n",
       "1            1080  \n",
       "2            1116  \n",
       "3            1208  \n",
       "4            1055  "
      ]
     },
     "execution_count": 46,
     "metadata": {},
     "output_type": "execute_result"
    }
   ],
   "source": [
    "combined_2017.head(5)"
   ]
  },
  {
   "cell_type": "markdown",
   "metadata": {},
   "source": [
    "#### 11. Save your cleaned, merged dataframe\n",
    "\n",
    "Use a relative path to save out your data as `combined_2017.csv`."
   ]
  },
  {
   "cell_type": "code",
   "execution_count": 48,
   "metadata": {},
   "outputs": [],
   "source": [
    "#code\n",
    "combined_2017.to_csv('../data/combined_2017.csv',sep=\",\",index=False)"
   ]
  },
  {
   "cell_type": "markdown",
   "metadata": {},
   "source": [
    "## 2018 Data Import and Cleaning"
   ]
  },
  {
   "cell_type": "markdown",
   "metadata": {},
   "source": [
    "Links to the 2018 ACT and SAT data are provided in the README. These data live in PDFs, and so you'll get to enjoy practicing some *manual* data collection. Save these data as a CSV in your `data` directory, and import, explore, and clean these data in the same way you did above. **Make sure you comment on your steps so it is clear *why* you are doing each process**."
   ]
  },
  {
   "cell_type": "code",
   "execution_count": 49,
   "metadata": {},
   "outputs": [],
   "source": [
    "#Reading in files\n",
    "sat_2018=pd.read_csv('../data/sat_2018.csv')\n",
    "act_2018=pd.read_csv('../data/act_2018.csv')"
   ]
  },
  {
   "cell_type": "code",
   "execution_count": 50,
   "metadata": {},
   "outputs": [
    {
     "data": {
      "text/plain": [
       "array(['Alabama', 'Alaska', 'Arizona', 'Arkansas', 'California',\n",
       "       'Colorado', 'Connecticut', 'Delaware', 'District of Columbia',\n",
       "       'Florida', 'Georgia', 'Hawaii', 'Idaho', 'Illinois', 'Indiana',\n",
       "       'Iowa', 'Kansas', 'Kentucky', 'Louisiana', 'Maine', 'Maryland',\n",
       "       'Massachusetts', 'Michigan', 'Minnesota', 'Mississippi',\n",
       "       'Missouri', 'Montana', 'Nebraska', 'Nevada', 'New Hampshire',\n",
       "       'New Jersey', 'New Mexico', 'New York', 'North Carolina',\n",
       "       'North Dakota', 'Ohio', 'Oklahoma', 'Oregon', 'Pennsylvania',\n",
       "       'Rhode Island', 'South Carolina', 'South Dakota', 'Tennessee',\n",
       "       'Texas', 'Utah', 'Vermont', 'Virginia', 'Washington',\n",
       "       'West Virginia', 'Wisconsin', 'Wyoming'], dtype=object)"
      ]
     },
     "execution_count": 50,
     "metadata": {},
     "output_type": "execute_result"
    }
   ],
   "source": [
    "#Checking the states for consistancy\n",
    "np.sort(sat_2018['State'].unique())"
   ]
  },
  {
   "cell_type": "code",
   "execution_count": 51,
   "metadata": {},
   "outputs": [
    {
     "data": {
      "text/plain": [
       "array(['Alabama', 'Alaska', 'Arizona', 'Arkansas', 'California',\n",
       "       'Colorado', 'Connecticut', 'Delaware', 'District of columbia',\n",
       "       'Florida', 'Georgia', 'Hawaii', 'Idaho', 'Illinois', 'Indiana',\n",
       "       'Iowa', 'Kansas', 'Kentucky', 'Louisiana', 'Maine', 'Maryland',\n",
       "       'Massachusetts', 'Michigan', 'Minnesota', 'Mississippi',\n",
       "       'Missouri', 'Montana', 'Nebraska', 'Nevada', 'New Hampshire',\n",
       "       'New Jersey', 'New Mexico', 'New York', 'North Carolina',\n",
       "       'North Dakota', 'Ohio', 'Oklahoma', 'Oregon', 'Pennsylvania',\n",
       "       'Rhode Island', 'South Carolina', 'South Dakota', 'Tennessee',\n",
       "       'Texas', 'Utah', 'Vermont', 'Virginia', 'Washington',\n",
       "       'West Virginia', 'Wisconsin', 'Wyoming'], dtype=object)"
      ]
     },
     "execution_count": 51,
     "metadata": {},
     "output_type": "execute_result"
    }
   ],
   "source": [
    "#Checking the states for consistancy\n",
    "np.sort(act_2018['State'].unique())\n"
   ]
  },
  {
   "cell_type": "code",
   "execution_count": 52,
   "metadata": {},
   "outputs": [],
   "source": [
    "#Converting 'District of columbia' to 'District of Columbia'\n",
    "act_2018.loc[8,[\"State\"]] = \"District of Columbia\""
   ]
  },
  {
   "cell_type": "code",
   "execution_count": 53,
   "metadata": {},
   "outputs": [
    {
     "data": {
      "text/plain": [
       "array(['Alabama', 'Alaska', 'Arizona', 'Arkansas', 'California',\n",
       "       'Colorado', 'Connecticut', 'Delaware', 'District of Columbia',\n",
       "       'Florida', 'Georgia', 'Hawaii', 'Idaho', 'Illinois', 'Indiana',\n",
       "       'Iowa', 'Kansas', 'Kentucky', 'Louisiana', 'Maine', 'Maryland',\n",
       "       'Massachusetts', 'Michigan', 'Minnesota', 'Mississippi',\n",
       "       'Missouri', 'Montana', 'Nebraska', 'Nevada', 'New Hampshire',\n",
       "       'New Jersey', 'New Mexico', 'New York', 'North Carolina',\n",
       "       'North Dakota', 'Ohio', 'Oklahoma', 'Oregon', 'Pennsylvania',\n",
       "       'Rhode Island', 'South Carolina', 'South Dakota', 'Tennessee',\n",
       "       'Texas', 'Utah', 'Vermont', 'Virginia', 'Washington',\n",
       "       'West Virginia', 'Wisconsin', 'Wyoming'], dtype=object)"
      ]
     },
     "execution_count": 53,
     "metadata": {},
     "output_type": "execute_result"
    }
   ],
   "source": [
    "#Verifying change of name \n",
    "np.sort(act_2018['State'].unique())"
   ]
  },
  {
   "cell_type": "code",
   "execution_count": 54,
   "metadata": {},
   "outputs": [
    {
     "data": {
      "text/plain": [
       "(52, 3)"
      ]
     },
     "execution_count": 54,
     "metadata": {},
     "output_type": "execute_result"
    }
   ],
   "source": [
    "#Checking the count of rows in act_2018\n",
    "act_2018.shape"
   ]
  },
  {
   "cell_type": "code",
   "execution_count": 55,
   "metadata": {},
   "outputs": [
    {
     "data": {
      "text/plain": [
       "(51, 5)"
      ]
     },
     "execution_count": 55,
     "metadata": {},
     "output_type": "execute_result"
    }
   ],
   "source": [
    "#Checking the count of rows in sat_2018\n",
    "sat_2018.shape"
   ]
  },
  {
   "cell_type": "code",
   "execution_count": 56,
   "metadata": {},
   "outputs": [
    {
     "data": {
      "text/plain": [
       "State                                 Oklahoma\n",
       "Participation                               8%\n",
       "Evidence-Based Reading and Writing         541\n",
       "Math                                       521\n",
       "Total                                     1062\n",
       "Name: 35, dtype: object"
      ]
     },
     "execution_count": 56,
     "metadata": {},
     "output_type": "execute_result"
    }
   ],
   "source": [
    "#SAT 2018 Index check\n",
    "sat_2018.loc[35]"
   ]
  },
  {
   "cell_type": "code",
   "execution_count": 57,
   "metadata": {},
   "outputs": [
    {
     "data": {
      "text/plain": [
       "State                                 Ohio\n",
       "Participation                          18%\n",
       "Evidence-Based Reading and Writing     552\n",
       "Math                                   547\n",
       "Total                                 1099\n",
       "Name: 36, dtype: object"
      ]
     },
     "execution_count": 57,
     "metadata": {},
     "output_type": "execute_result"
    }
   ],
   "source": [
    "sat_2018.loc[36]"
   ]
  },
  {
   "cell_type": "code",
   "execution_count": 58,
   "metadata": {},
   "outputs": [],
   "source": [
    "#Swapping Oklahoma and Ohio positions\n",
    "sat_2018.iloc[35]=['Ohio','18%',552,547,1099]\n",
    "sat_2018.iloc[36]=['Oklahoma','8%',541,521,1062]"
   ]
  },
  {
   "cell_type": "code",
   "execution_count": 59,
   "metadata": {},
   "outputs": [
    {
     "data": {
      "text/html": [
       "<div>\n",
       "<style scoped>\n",
       "    .dataframe tbody tr th:only-of-type {\n",
       "        vertical-align: middle;\n",
       "    }\n",
       "\n",
       "    .dataframe tbody tr th {\n",
       "        vertical-align: top;\n",
       "    }\n",
       "\n",
       "    .dataframe thead th {\n",
       "        text-align: right;\n",
       "    }\n",
       "</style>\n",
       "<table border=\"1\" class=\"dataframe\">\n",
       "  <thead>\n",
       "    <tr style=\"text-align: right;\">\n",
       "      <th></th>\n",
       "      <th>State</th>\n",
       "      <th>Participation</th>\n",
       "      <th>Evidence-Based Reading and Writing</th>\n",
       "      <th>Math</th>\n",
       "      <th>Total</th>\n",
       "    </tr>\n",
       "  </thead>\n",
       "  <tbody>\n",
       "    <tr>\n",
       "      <th>0</th>\n",
       "      <td>Alabama</td>\n",
       "      <td>6%</td>\n",
       "      <td>595</td>\n",
       "      <td>571</td>\n",
       "      <td>1166</td>\n",
       "    </tr>\n",
       "    <tr>\n",
       "      <th>1</th>\n",
       "      <td>Alaska</td>\n",
       "      <td>43%</td>\n",
       "      <td>562</td>\n",
       "      <td>544</td>\n",
       "      <td>1106</td>\n",
       "    </tr>\n",
       "    <tr>\n",
       "      <th>2</th>\n",
       "      <td>Arizona</td>\n",
       "      <td>29%</td>\n",
       "      <td>577</td>\n",
       "      <td>572</td>\n",
       "      <td>1149</td>\n",
       "    </tr>\n",
       "    <tr>\n",
       "      <th>3</th>\n",
       "      <td>Arkansas</td>\n",
       "      <td>5%</td>\n",
       "      <td>592</td>\n",
       "      <td>576</td>\n",
       "      <td>1169</td>\n",
       "    </tr>\n",
       "    <tr>\n",
       "      <th>4</th>\n",
       "      <td>California</td>\n",
       "      <td>60%</td>\n",
       "      <td>540</td>\n",
       "      <td>536</td>\n",
       "      <td>1076</td>\n",
       "    </tr>\n",
       "    <tr>\n",
       "      <th>5</th>\n",
       "      <td>Colorado</td>\n",
       "      <td>100%</td>\n",
       "      <td>519</td>\n",
       "      <td>506</td>\n",
       "      <td>1025</td>\n",
       "    </tr>\n",
       "    <tr>\n",
       "      <th>6</th>\n",
       "      <td>Connecticut</td>\n",
       "      <td>100%</td>\n",
       "      <td>535</td>\n",
       "      <td>519</td>\n",
       "      <td>1053</td>\n",
       "    </tr>\n",
       "    <tr>\n",
       "      <th>7</th>\n",
       "      <td>Delaware</td>\n",
       "      <td>100%</td>\n",
       "      <td>505</td>\n",
       "      <td>492</td>\n",
       "      <td>998</td>\n",
       "    </tr>\n",
       "    <tr>\n",
       "      <th>8</th>\n",
       "      <td>District of Columbia</td>\n",
       "      <td>92%</td>\n",
       "      <td>497</td>\n",
       "      <td>480</td>\n",
       "      <td>977</td>\n",
       "    </tr>\n",
       "    <tr>\n",
       "      <th>9</th>\n",
       "      <td>Florida</td>\n",
       "      <td>56%</td>\n",
       "      <td>550</td>\n",
       "      <td>549</td>\n",
       "      <td>1099</td>\n",
       "    </tr>\n",
       "    <tr>\n",
       "      <th>10</th>\n",
       "      <td>Georgia</td>\n",
       "      <td>70%</td>\n",
       "      <td>542</td>\n",
       "      <td>522</td>\n",
       "      <td>1064</td>\n",
       "    </tr>\n",
       "    <tr>\n",
       "      <th>11</th>\n",
       "      <td>Hawaii</td>\n",
       "      <td>56%</td>\n",
       "      <td>480</td>\n",
       "      <td>530</td>\n",
       "      <td>1010</td>\n",
       "    </tr>\n",
       "    <tr>\n",
       "      <th>12</th>\n",
       "      <td>Idaho</td>\n",
       "      <td>100%</td>\n",
       "      <td>508</td>\n",
       "      <td>493</td>\n",
       "      <td>1001</td>\n",
       "    </tr>\n",
       "    <tr>\n",
       "      <th>13</th>\n",
       "      <td>Illinois</td>\n",
       "      <td>99%</td>\n",
       "      <td>513</td>\n",
       "      <td>506</td>\n",
       "      <td>1019</td>\n",
       "    </tr>\n",
       "    <tr>\n",
       "      <th>14</th>\n",
       "      <td>Indiana</td>\n",
       "      <td>63%</td>\n",
       "      <td>542</td>\n",
       "      <td>532</td>\n",
       "      <td>1074</td>\n",
       "    </tr>\n",
       "    <tr>\n",
       "      <th>15</th>\n",
       "      <td>Iowa</td>\n",
       "      <td>3%</td>\n",
       "      <td>634</td>\n",
       "      <td>631</td>\n",
       "      <td>1265</td>\n",
       "    </tr>\n",
       "    <tr>\n",
       "      <th>16</th>\n",
       "      <td>Kansas</td>\n",
       "      <td>4%</td>\n",
       "      <td>633</td>\n",
       "      <td>631</td>\n",
       "      <td>1265</td>\n",
       "    </tr>\n",
       "    <tr>\n",
       "      <th>17</th>\n",
       "      <td>Kentucky</td>\n",
       "      <td>4%</td>\n",
       "      <td>630</td>\n",
       "      <td>618</td>\n",
       "      <td>1248</td>\n",
       "    </tr>\n",
       "    <tr>\n",
       "      <th>18</th>\n",
       "      <td>Louisiana</td>\n",
       "      <td>4%</td>\n",
       "      <td>615</td>\n",
       "      <td>595</td>\n",
       "      <td>1210</td>\n",
       "    </tr>\n",
       "    <tr>\n",
       "      <th>19</th>\n",
       "      <td>Maine</td>\n",
       "      <td>99%</td>\n",
       "      <td>512</td>\n",
       "      <td>501</td>\n",
       "      <td>1013</td>\n",
       "    </tr>\n",
       "    <tr>\n",
       "      <th>20</th>\n",
       "      <td>Maryland</td>\n",
       "      <td>76%</td>\n",
       "      <td>545</td>\n",
       "      <td>535</td>\n",
       "      <td>1080</td>\n",
       "    </tr>\n",
       "    <tr>\n",
       "      <th>21</th>\n",
       "      <td>Massachusetts</td>\n",
       "      <td>80%</td>\n",
       "      <td>562</td>\n",
       "      <td>563</td>\n",
       "      <td>1125</td>\n",
       "    </tr>\n",
       "    <tr>\n",
       "      <th>22</th>\n",
       "      <td>Michigan</td>\n",
       "      <td>100%</td>\n",
       "      <td>511</td>\n",
       "      <td>499</td>\n",
       "      <td>1011</td>\n",
       "    </tr>\n",
       "    <tr>\n",
       "      <th>23</th>\n",
       "      <td>Minnesota</td>\n",
       "      <td>4%</td>\n",
       "      <td>643</td>\n",
       "      <td>655</td>\n",
       "      <td>1298</td>\n",
       "    </tr>\n",
       "    <tr>\n",
       "      <th>24</th>\n",
       "      <td>Mississippi</td>\n",
       "      <td>3%</td>\n",
       "      <td>630</td>\n",
       "      <td>606</td>\n",
       "      <td>1236</td>\n",
       "    </tr>\n",
       "    <tr>\n",
       "      <th>25</th>\n",
       "      <td>Missouri</td>\n",
       "      <td>4%</td>\n",
       "      <td>633</td>\n",
       "      <td>629</td>\n",
       "      <td>1262</td>\n",
       "    </tr>\n",
       "    <tr>\n",
       "      <th>26</th>\n",
       "      <td>Montana</td>\n",
       "      <td>10%</td>\n",
       "      <td>606</td>\n",
       "      <td>592</td>\n",
       "      <td>1198</td>\n",
       "    </tr>\n",
       "    <tr>\n",
       "      <th>27</th>\n",
       "      <td>Nebraska</td>\n",
       "      <td>3%</td>\n",
       "      <td>629</td>\n",
       "      <td>623</td>\n",
       "      <td>1252</td>\n",
       "    </tr>\n",
       "    <tr>\n",
       "      <th>28</th>\n",
       "      <td>Nevada</td>\n",
       "      <td>23%</td>\n",
       "      <td>574</td>\n",
       "      <td>566</td>\n",
       "      <td>1140</td>\n",
       "    </tr>\n",
       "    <tr>\n",
       "      <th>29</th>\n",
       "      <td>New Hampshire</td>\n",
       "      <td>96%</td>\n",
       "      <td>535</td>\n",
       "      <td>528</td>\n",
       "      <td>1063</td>\n",
       "    </tr>\n",
       "    <tr>\n",
       "      <th>30</th>\n",
       "      <td>New Jersey</td>\n",
       "      <td>82%</td>\n",
       "      <td>547</td>\n",
       "      <td>547</td>\n",
       "      <td>1094</td>\n",
       "    </tr>\n",
       "    <tr>\n",
       "      <th>31</th>\n",
       "      <td>New Mexico</td>\n",
       "      <td>16%</td>\n",
       "      <td>552</td>\n",
       "      <td>540</td>\n",
       "      <td>1093</td>\n",
       "    </tr>\n",
       "    <tr>\n",
       "      <th>32</th>\n",
       "      <td>New York</td>\n",
       "      <td>79%</td>\n",
       "      <td>534</td>\n",
       "      <td>534</td>\n",
       "      <td>1068</td>\n",
       "    </tr>\n",
       "    <tr>\n",
       "      <th>33</th>\n",
       "      <td>North Carolina</td>\n",
       "      <td>52%</td>\n",
       "      <td>554</td>\n",
       "      <td>543</td>\n",
       "      <td>1098</td>\n",
       "    </tr>\n",
       "    <tr>\n",
       "      <th>34</th>\n",
       "      <td>North Dakota</td>\n",
       "      <td>2%</td>\n",
       "      <td>640</td>\n",
       "      <td>643</td>\n",
       "      <td>1283</td>\n",
       "    </tr>\n",
       "    <tr>\n",
       "      <th>35</th>\n",
       "      <td>Ohio</td>\n",
       "      <td>18%</td>\n",
       "      <td>552</td>\n",
       "      <td>547</td>\n",
       "      <td>1099</td>\n",
       "    </tr>\n",
       "    <tr>\n",
       "      <th>36</th>\n",
       "      <td>Oklahoma</td>\n",
       "      <td>8%</td>\n",
       "      <td>541</td>\n",
       "      <td>521</td>\n",
       "      <td>1062</td>\n",
       "    </tr>\n",
       "    <tr>\n",
       "      <th>37</th>\n",
       "      <td>Oregon</td>\n",
       "      <td>48%</td>\n",
       "      <td>564</td>\n",
       "      <td>553</td>\n",
       "      <td>1117</td>\n",
       "    </tr>\n",
       "    <tr>\n",
       "      <th>38</th>\n",
       "      <td>Pennsylvania</td>\n",
       "      <td>70%</td>\n",
       "      <td>547</td>\n",
       "      <td>539</td>\n",
       "      <td>1086</td>\n",
       "    </tr>\n",
       "    <tr>\n",
       "      <th>39</th>\n",
       "      <td>Rhode Island</td>\n",
       "      <td>97%</td>\n",
       "      <td>513</td>\n",
       "      <td>505</td>\n",
       "      <td>1018</td>\n",
       "    </tr>\n",
       "    <tr>\n",
       "      <th>40</th>\n",
       "      <td>South Carolina</td>\n",
       "      <td>55%</td>\n",
       "      <td>547</td>\n",
       "      <td>523</td>\n",
       "      <td>1070</td>\n",
       "    </tr>\n",
       "    <tr>\n",
       "      <th>41</th>\n",
       "      <td>South Dakota</td>\n",
       "      <td>3%</td>\n",
       "      <td>622</td>\n",
       "      <td>618</td>\n",
       "      <td>1240</td>\n",
       "    </tr>\n",
       "    <tr>\n",
       "      <th>42</th>\n",
       "      <td>Tennessee</td>\n",
       "      <td>6%</td>\n",
       "      <td>624</td>\n",
       "      <td>607</td>\n",
       "      <td>1231</td>\n",
       "    </tr>\n",
       "    <tr>\n",
       "      <th>43</th>\n",
       "      <td>Texas</td>\n",
       "      <td>66%</td>\n",
       "      <td>520</td>\n",
       "      <td>512</td>\n",
       "      <td>1032</td>\n",
       "    </tr>\n",
       "    <tr>\n",
       "      <th>44</th>\n",
       "      <td>Utah</td>\n",
       "      <td>4%</td>\n",
       "      <td>480</td>\n",
       "      <td>530</td>\n",
       "      <td>1010</td>\n",
       "    </tr>\n",
       "    <tr>\n",
       "      <th>45</th>\n",
       "      <td>Vermont</td>\n",
       "      <td>64%</td>\n",
       "      <td>565</td>\n",
       "      <td>554</td>\n",
       "      <td>1120</td>\n",
       "    </tr>\n",
       "    <tr>\n",
       "      <th>46</th>\n",
       "      <td>Virginia</td>\n",
       "      <td>68%</td>\n",
       "      <td>567</td>\n",
       "      <td>550</td>\n",
       "      <td>1117</td>\n",
       "    </tr>\n",
       "    <tr>\n",
       "      <th>47</th>\n",
       "      <td>Washington</td>\n",
       "      <td>69%</td>\n",
       "      <td>543</td>\n",
       "      <td>538</td>\n",
       "      <td>1081</td>\n",
       "    </tr>\n",
       "    <tr>\n",
       "      <th>48</th>\n",
       "      <td>West Virginia</td>\n",
       "      <td>28%</td>\n",
       "      <td>513</td>\n",
       "      <td>486</td>\n",
       "      <td>999</td>\n",
       "    </tr>\n",
       "    <tr>\n",
       "      <th>49</th>\n",
       "      <td>Wisconsin</td>\n",
       "      <td>3%</td>\n",
       "      <td>641</td>\n",
       "      <td>653</td>\n",
       "      <td>1294</td>\n",
       "    </tr>\n",
       "    <tr>\n",
       "      <th>50</th>\n",
       "      <td>Wyoming</td>\n",
       "      <td>3%</td>\n",
       "      <td>633</td>\n",
       "      <td>625</td>\n",
       "      <td>1257</td>\n",
       "    </tr>\n",
       "  </tbody>\n",
       "</table>\n",
       "</div>"
      ],
      "text/plain": [
       "                   State Participation  Evidence-Based Reading and Writing  \\\n",
       "0                Alabama            6%                                 595   \n",
       "1                 Alaska           43%                                 562   \n",
       "2                Arizona           29%                                 577   \n",
       "3               Arkansas            5%                                 592   \n",
       "4             California           60%                                 540   \n",
       "5               Colorado          100%                                 519   \n",
       "6            Connecticut          100%                                 535   \n",
       "7               Delaware          100%                                 505   \n",
       "8   District of Columbia           92%                                 497   \n",
       "9                Florida           56%                                 550   \n",
       "10               Georgia           70%                                 542   \n",
       "11                Hawaii           56%                                 480   \n",
       "12                 Idaho          100%                                 508   \n",
       "13              Illinois           99%                                 513   \n",
       "14               Indiana           63%                                 542   \n",
       "15                  Iowa            3%                                 634   \n",
       "16                Kansas            4%                                 633   \n",
       "17              Kentucky            4%                                 630   \n",
       "18             Louisiana            4%                                 615   \n",
       "19                 Maine           99%                                 512   \n",
       "20              Maryland           76%                                 545   \n",
       "21         Massachusetts           80%                                 562   \n",
       "22              Michigan          100%                                 511   \n",
       "23             Minnesota            4%                                 643   \n",
       "24           Mississippi            3%                                 630   \n",
       "25              Missouri            4%                                 633   \n",
       "26               Montana           10%                                 606   \n",
       "27              Nebraska            3%                                 629   \n",
       "28                Nevada           23%                                 574   \n",
       "29         New Hampshire           96%                                 535   \n",
       "30            New Jersey           82%                                 547   \n",
       "31            New Mexico           16%                                 552   \n",
       "32              New York           79%                                 534   \n",
       "33        North Carolina           52%                                 554   \n",
       "34          North Dakota            2%                                 640   \n",
       "35                  Ohio           18%                                 552   \n",
       "36              Oklahoma            8%                                 541   \n",
       "37                Oregon           48%                                 564   \n",
       "38          Pennsylvania           70%                                 547   \n",
       "39          Rhode Island           97%                                 513   \n",
       "40        South Carolina           55%                                 547   \n",
       "41          South Dakota            3%                                 622   \n",
       "42             Tennessee            6%                                 624   \n",
       "43                 Texas           66%                                 520   \n",
       "44                  Utah            4%                                 480   \n",
       "45               Vermont           64%                                 565   \n",
       "46              Virginia           68%                                 567   \n",
       "47            Washington           69%                                 543   \n",
       "48         West Virginia           28%                                 513   \n",
       "49             Wisconsin            3%                                 641   \n",
       "50               Wyoming            3%                                 633   \n",
       "\n",
       "    Math  Total  \n",
       "0    571   1166  \n",
       "1    544   1106  \n",
       "2    572   1149  \n",
       "3    576   1169  \n",
       "4    536   1076  \n",
       "5    506   1025  \n",
       "6    519   1053  \n",
       "7    492    998  \n",
       "8    480    977  \n",
       "9    549   1099  \n",
       "10   522   1064  \n",
       "11   530   1010  \n",
       "12   493   1001  \n",
       "13   506   1019  \n",
       "14   532   1074  \n",
       "15   631   1265  \n",
       "16   631   1265  \n",
       "17   618   1248  \n",
       "18   595   1210  \n",
       "19   501   1013  \n",
       "20   535   1080  \n",
       "21   563   1125  \n",
       "22   499   1011  \n",
       "23   655   1298  \n",
       "24   606   1236  \n",
       "25   629   1262  \n",
       "26   592   1198  \n",
       "27   623   1252  \n",
       "28   566   1140  \n",
       "29   528   1063  \n",
       "30   547   1094  \n",
       "31   540   1093  \n",
       "32   534   1068  \n",
       "33   543   1098  \n",
       "34   643   1283  \n",
       "35   547   1099  \n",
       "36   521   1062  \n",
       "37   553   1117  \n",
       "38   539   1086  \n",
       "39   505   1018  \n",
       "40   523   1070  \n",
       "41   618   1240  \n",
       "42   607   1231  \n",
       "43   512   1032  \n",
       "44   530   1010  \n",
       "45   554   1120  \n",
       "46   550   1117  \n",
       "47   538   1081  \n",
       "48   486    999  \n",
       "49   653   1294  \n",
       "50   625   1257  "
      ]
     },
     "execution_count": 59,
     "metadata": {},
     "output_type": "execute_result"
    }
   ],
   "source": [
    "sat_2018"
   ]
  },
  {
   "cell_type": "code",
   "execution_count": 60,
   "metadata": {},
   "outputs": [
    {
     "data": {
      "text/html": [
       "<div>\n",
       "<style scoped>\n",
       "    .dataframe tbody tr th:only-of-type {\n",
       "        vertical-align: middle;\n",
       "    }\n",
       "\n",
       "    .dataframe tbody tr th {\n",
       "        vertical-align: top;\n",
       "    }\n",
       "\n",
       "    .dataframe thead th {\n",
       "        text-align: right;\n",
       "    }\n",
       "</style>\n",
       "<table border=\"1\" class=\"dataframe\">\n",
       "  <thead>\n",
       "    <tr style=\"text-align: right;\">\n",
       "      <th></th>\n",
       "      <th>State</th>\n",
       "      <th>Participation</th>\n",
       "      <th>Composite</th>\n",
       "    </tr>\n",
       "  </thead>\n",
       "  <tbody>\n",
       "    <tr>\n",
       "      <th>0</th>\n",
       "      <td>Alabama</td>\n",
       "      <td>100%</td>\n",
       "      <td>19.1</td>\n",
       "    </tr>\n",
       "    <tr>\n",
       "      <th>1</th>\n",
       "      <td>Alaska</td>\n",
       "      <td>33%</td>\n",
       "      <td>20.8</td>\n",
       "    </tr>\n",
       "    <tr>\n",
       "      <th>2</th>\n",
       "      <td>Arizona</td>\n",
       "      <td>66%</td>\n",
       "      <td>19.2</td>\n",
       "    </tr>\n",
       "    <tr>\n",
       "      <th>3</th>\n",
       "      <td>Arkansas</td>\n",
       "      <td>100%</td>\n",
       "      <td>19.4</td>\n",
       "    </tr>\n",
       "    <tr>\n",
       "      <th>4</th>\n",
       "      <td>California</td>\n",
       "      <td>27%</td>\n",
       "      <td>22.7</td>\n",
       "    </tr>\n",
       "    <tr>\n",
       "      <th>5</th>\n",
       "      <td>Colorado</td>\n",
       "      <td>30%</td>\n",
       "      <td>23.9</td>\n",
       "    </tr>\n",
       "    <tr>\n",
       "      <th>6</th>\n",
       "      <td>Connecticut</td>\n",
       "      <td>26%</td>\n",
       "      <td>25.6</td>\n",
       "    </tr>\n",
       "    <tr>\n",
       "      <th>7</th>\n",
       "      <td>Delaware</td>\n",
       "      <td>17%</td>\n",
       "      <td>23.8</td>\n",
       "    </tr>\n",
       "    <tr>\n",
       "      <th>8</th>\n",
       "      <td>District of Columbia</td>\n",
       "      <td>32%</td>\n",
       "      <td>23.6</td>\n",
       "    </tr>\n",
       "    <tr>\n",
       "      <th>9</th>\n",
       "      <td>Florida</td>\n",
       "      <td>66%</td>\n",
       "      <td>19.9</td>\n",
       "    </tr>\n",
       "    <tr>\n",
       "      <th>10</th>\n",
       "      <td>Georgia</td>\n",
       "      <td>53%</td>\n",
       "      <td>21.4</td>\n",
       "    </tr>\n",
       "    <tr>\n",
       "      <th>11</th>\n",
       "      <td>Hawaii</td>\n",
       "      <td>89%</td>\n",
       "      <td>18.9</td>\n",
       "    </tr>\n",
       "    <tr>\n",
       "      <th>12</th>\n",
       "      <td>Idaho</td>\n",
       "      <td>36%</td>\n",
       "      <td>22.3</td>\n",
       "    </tr>\n",
       "    <tr>\n",
       "      <th>13</th>\n",
       "      <td>Illinois</td>\n",
       "      <td>43%</td>\n",
       "      <td>23.9</td>\n",
       "    </tr>\n",
       "    <tr>\n",
       "      <th>14</th>\n",
       "      <td>Indiana</td>\n",
       "      <td>32%</td>\n",
       "      <td>22.5</td>\n",
       "    </tr>\n",
       "    <tr>\n",
       "      <th>15</th>\n",
       "      <td>Iowa</td>\n",
       "      <td>68%</td>\n",
       "      <td>21.8</td>\n",
       "    </tr>\n",
       "    <tr>\n",
       "      <th>16</th>\n",
       "      <td>Kansas</td>\n",
       "      <td>71%</td>\n",
       "      <td>21.6</td>\n",
       "    </tr>\n",
       "    <tr>\n",
       "      <th>17</th>\n",
       "      <td>Kentucky</td>\n",
       "      <td>100%</td>\n",
       "      <td>20.2</td>\n",
       "    </tr>\n",
       "    <tr>\n",
       "      <th>18</th>\n",
       "      <td>Louisiana</td>\n",
       "      <td>100%</td>\n",
       "      <td>19.2</td>\n",
       "    </tr>\n",
       "    <tr>\n",
       "      <th>19</th>\n",
       "      <td>Maine</td>\n",
       "      <td>7%</td>\n",
       "      <td>24.0</td>\n",
       "    </tr>\n",
       "    <tr>\n",
       "      <th>20</th>\n",
       "      <td>Maine</td>\n",
       "      <td>7%</td>\n",
       "      <td>24.0</td>\n",
       "    </tr>\n",
       "    <tr>\n",
       "      <th>21</th>\n",
       "      <td>Maryland</td>\n",
       "      <td>31%</td>\n",
       "      <td>22.5</td>\n",
       "    </tr>\n",
       "    <tr>\n",
       "      <th>22</th>\n",
       "      <td>Massachusetts</td>\n",
       "      <td>25%</td>\n",
       "      <td>25.5</td>\n",
       "    </tr>\n",
       "    <tr>\n",
       "      <th>23</th>\n",
       "      <td>Michigan</td>\n",
       "      <td>22%</td>\n",
       "      <td>24.2</td>\n",
       "    </tr>\n",
       "    <tr>\n",
       "      <th>24</th>\n",
       "      <td>Minnesota</td>\n",
       "      <td>99%</td>\n",
       "      <td>21.3</td>\n",
       "    </tr>\n",
       "    <tr>\n",
       "      <th>25</th>\n",
       "      <td>Mississippi</td>\n",
       "      <td>100%</td>\n",
       "      <td>18.6</td>\n",
       "    </tr>\n",
       "    <tr>\n",
       "      <th>26</th>\n",
       "      <td>Missouri</td>\n",
       "      <td>100%</td>\n",
       "      <td>20.0</td>\n",
       "    </tr>\n",
       "    <tr>\n",
       "      <th>27</th>\n",
       "      <td>Montana</td>\n",
       "      <td>100%</td>\n",
       "      <td>20.0</td>\n",
       "    </tr>\n",
       "    <tr>\n",
       "      <th>28</th>\n",
       "      <td>Nebraska</td>\n",
       "      <td>100%</td>\n",
       "      <td>20.1</td>\n",
       "    </tr>\n",
       "    <tr>\n",
       "      <th>29</th>\n",
       "      <td>Nevada</td>\n",
       "      <td>100%</td>\n",
       "      <td>17.7</td>\n",
       "    </tr>\n",
       "    <tr>\n",
       "      <th>30</th>\n",
       "      <td>New Hampshire</td>\n",
       "      <td>16%</td>\n",
       "      <td>25.1</td>\n",
       "    </tr>\n",
       "    <tr>\n",
       "      <th>31</th>\n",
       "      <td>New Jersey</td>\n",
       "      <td>31%</td>\n",
       "      <td>23.7</td>\n",
       "    </tr>\n",
       "    <tr>\n",
       "      <th>32</th>\n",
       "      <td>New Mexico</td>\n",
       "      <td>67%</td>\n",
       "      <td>19.4</td>\n",
       "    </tr>\n",
       "    <tr>\n",
       "      <th>33</th>\n",
       "      <td>New York</td>\n",
       "      <td>27%</td>\n",
       "      <td>24.5</td>\n",
       "    </tr>\n",
       "    <tr>\n",
       "      <th>34</th>\n",
       "      <td>North Carolina</td>\n",
       "      <td>100%</td>\n",
       "      <td>19.1</td>\n",
       "    </tr>\n",
       "    <tr>\n",
       "      <th>35</th>\n",
       "      <td>North Dakota</td>\n",
       "      <td>98%</td>\n",
       "      <td>20.3</td>\n",
       "    </tr>\n",
       "    <tr>\n",
       "      <th>36</th>\n",
       "      <td>Ohio</td>\n",
       "      <td>100%</td>\n",
       "      <td>20.3</td>\n",
       "    </tr>\n",
       "    <tr>\n",
       "      <th>37</th>\n",
       "      <td>Oklahoma</td>\n",
       "      <td>100%</td>\n",
       "      <td>19.3</td>\n",
       "    </tr>\n",
       "    <tr>\n",
       "      <th>38</th>\n",
       "      <td>Oregon</td>\n",
       "      <td>42%</td>\n",
       "      <td>21.3</td>\n",
       "    </tr>\n",
       "    <tr>\n",
       "      <th>39</th>\n",
       "      <td>Pennsylvania</td>\n",
       "      <td>20%</td>\n",
       "      <td>23.5</td>\n",
       "    </tr>\n",
       "    <tr>\n",
       "      <th>40</th>\n",
       "      <td>Rhode Island</td>\n",
       "      <td>15%</td>\n",
       "      <td>24.2</td>\n",
       "    </tr>\n",
       "    <tr>\n",
       "      <th>41</th>\n",
       "      <td>South Carolina</td>\n",
       "      <td>100%</td>\n",
       "      <td>18.3</td>\n",
       "    </tr>\n",
       "    <tr>\n",
       "      <th>42</th>\n",
       "      <td>South Dakota</td>\n",
       "      <td>77%</td>\n",
       "      <td>21.9</td>\n",
       "    </tr>\n",
       "    <tr>\n",
       "      <th>43</th>\n",
       "      <td>Tennessee</td>\n",
       "      <td>100%</td>\n",
       "      <td>19.6</td>\n",
       "    </tr>\n",
       "    <tr>\n",
       "      <th>44</th>\n",
       "      <td>Texas</td>\n",
       "      <td>45%</td>\n",
       "      <td>20.7</td>\n",
       "    </tr>\n",
       "    <tr>\n",
       "      <th>45</th>\n",
       "      <td>Utah</td>\n",
       "      <td>100%</td>\n",
       "      <td>20.4</td>\n",
       "    </tr>\n",
       "    <tr>\n",
       "      <th>46</th>\n",
       "      <td>Vermont</td>\n",
       "      <td>24%</td>\n",
       "      <td>24.1</td>\n",
       "    </tr>\n",
       "    <tr>\n",
       "      <th>47</th>\n",
       "      <td>Virginia</td>\n",
       "      <td>24%</td>\n",
       "      <td>23.9</td>\n",
       "    </tr>\n",
       "    <tr>\n",
       "      <th>48</th>\n",
       "      <td>Washington</td>\n",
       "      <td>24%</td>\n",
       "      <td>22.2</td>\n",
       "    </tr>\n",
       "    <tr>\n",
       "      <th>49</th>\n",
       "      <td>West Virginia</td>\n",
       "      <td>65%</td>\n",
       "      <td>20.3</td>\n",
       "    </tr>\n",
       "  </tbody>\n",
       "</table>\n",
       "</div>"
      ],
      "text/plain": [
       "                   State Participation  Composite\n",
       "0                Alabama          100%       19.1\n",
       "1                 Alaska           33%       20.8\n",
       "2                Arizona           66%       19.2\n",
       "3               Arkansas          100%       19.4\n",
       "4             California           27%       22.7\n",
       "5               Colorado           30%       23.9\n",
       "6            Connecticut           26%       25.6\n",
       "7               Delaware           17%       23.8\n",
       "8   District of Columbia           32%       23.6\n",
       "9                Florida           66%       19.9\n",
       "10               Georgia           53%       21.4\n",
       "11                Hawaii           89%       18.9\n",
       "12                 Idaho           36%       22.3\n",
       "13              Illinois           43%       23.9\n",
       "14               Indiana           32%       22.5\n",
       "15                  Iowa           68%       21.8\n",
       "16                Kansas           71%       21.6\n",
       "17              Kentucky          100%       20.2\n",
       "18             Louisiana          100%       19.2\n",
       "19                 Maine            7%       24.0\n",
       "20                 Maine            7%       24.0\n",
       "21              Maryland           31%       22.5\n",
       "22         Massachusetts           25%       25.5\n",
       "23              Michigan           22%       24.2\n",
       "24             Minnesota           99%       21.3\n",
       "25           Mississippi          100%       18.6\n",
       "26              Missouri          100%       20.0\n",
       "27               Montana          100%       20.0\n",
       "28              Nebraska          100%       20.1\n",
       "29                Nevada          100%       17.7\n",
       "30         New Hampshire           16%       25.1\n",
       "31            New Jersey           31%       23.7\n",
       "32            New Mexico           67%       19.4\n",
       "33              New York           27%       24.5\n",
       "34        North Carolina          100%       19.1\n",
       "35          North Dakota           98%       20.3\n",
       "36                  Ohio          100%       20.3\n",
       "37              Oklahoma          100%       19.3\n",
       "38                Oregon           42%       21.3\n",
       "39          Pennsylvania           20%       23.5\n",
       "40          Rhode Island           15%       24.2\n",
       "41        South Carolina          100%       18.3\n",
       "42          South Dakota           77%       21.9\n",
       "43             Tennessee          100%       19.6\n",
       "44                 Texas           45%       20.7\n",
       "45                  Utah          100%       20.4\n",
       "46               Vermont           24%       24.1\n",
       "47              Virginia           24%       23.9\n",
       "48            Washington           24%       22.2\n",
       "49         West Virginia           65%       20.3"
      ]
     },
     "execution_count": 60,
     "metadata": {},
     "output_type": "execute_result"
    }
   ],
   "source": [
    "act_2018.head(50)"
   ]
  },
  {
   "cell_type": "code",
   "execution_count": 61,
   "metadata": {},
   "outputs": [],
   "source": [
    "#Maine in act_2018 is duplicated so one row has to be removed\n",
    "act_2018.drop(19,inplace=True,axis=0)\n"
   ]
  },
  {
   "cell_type": "code",
   "execution_count": 62,
   "metadata": {},
   "outputs": [
    {
     "data": {
      "text/plain": [
       "(51, 3)"
      ]
     },
     "execution_count": 62,
     "metadata": {},
     "output_type": "execute_result"
    }
   ],
   "source": [
    "#Verifing the row count is correct\n",
    "act_2018.shape"
   ]
  },
  {
   "cell_type": "code",
   "execution_count": 63,
   "metadata": {},
   "outputs": [],
   "source": [
    "#Fix the index of the act_2018 rows\n",
    "act_2018.index=np.arange(0,len(act_2018['State']))"
   ]
  },
  {
   "cell_type": "code",
   "execution_count": 64,
   "metadata": {},
   "outputs": [
    {
     "data": {
      "text/html": [
       "<div>\n",
       "<style scoped>\n",
       "    .dataframe tbody tr th:only-of-type {\n",
       "        vertical-align: middle;\n",
       "    }\n",
       "\n",
       "    .dataframe tbody tr th {\n",
       "        vertical-align: top;\n",
       "    }\n",
       "\n",
       "    .dataframe thead th {\n",
       "        text-align: right;\n",
       "    }\n",
       "</style>\n",
       "<table border=\"1\" class=\"dataframe\">\n",
       "  <thead>\n",
       "    <tr style=\"text-align: right;\">\n",
       "      <th></th>\n",
       "      <th>State</th>\n",
       "      <th>Participation</th>\n",
       "      <th>Composite</th>\n",
       "    </tr>\n",
       "  </thead>\n",
       "  <tbody>\n",
       "    <tr>\n",
       "      <th>0</th>\n",
       "      <td>Alabama</td>\n",
       "      <td>100%</td>\n",
       "      <td>19.1</td>\n",
       "    </tr>\n",
       "    <tr>\n",
       "      <th>1</th>\n",
       "      <td>Alaska</td>\n",
       "      <td>33%</td>\n",
       "      <td>20.8</td>\n",
       "    </tr>\n",
       "    <tr>\n",
       "      <th>2</th>\n",
       "      <td>Arizona</td>\n",
       "      <td>66%</td>\n",
       "      <td>19.2</td>\n",
       "    </tr>\n",
       "    <tr>\n",
       "      <th>3</th>\n",
       "      <td>Arkansas</td>\n",
       "      <td>100%</td>\n",
       "      <td>19.4</td>\n",
       "    </tr>\n",
       "    <tr>\n",
       "      <th>4</th>\n",
       "      <td>California</td>\n",
       "      <td>27%</td>\n",
       "      <td>22.7</td>\n",
       "    </tr>\n",
       "    <tr>\n",
       "      <th>5</th>\n",
       "      <td>Colorado</td>\n",
       "      <td>30%</td>\n",
       "      <td>23.9</td>\n",
       "    </tr>\n",
       "    <tr>\n",
       "      <th>6</th>\n",
       "      <td>Connecticut</td>\n",
       "      <td>26%</td>\n",
       "      <td>25.6</td>\n",
       "    </tr>\n",
       "    <tr>\n",
       "      <th>7</th>\n",
       "      <td>Delaware</td>\n",
       "      <td>17%</td>\n",
       "      <td>23.8</td>\n",
       "    </tr>\n",
       "    <tr>\n",
       "      <th>8</th>\n",
       "      <td>District of Columbia</td>\n",
       "      <td>32%</td>\n",
       "      <td>23.6</td>\n",
       "    </tr>\n",
       "    <tr>\n",
       "      <th>9</th>\n",
       "      <td>Florida</td>\n",
       "      <td>66%</td>\n",
       "      <td>19.9</td>\n",
       "    </tr>\n",
       "    <tr>\n",
       "      <th>10</th>\n",
       "      <td>Georgia</td>\n",
       "      <td>53%</td>\n",
       "      <td>21.4</td>\n",
       "    </tr>\n",
       "    <tr>\n",
       "      <th>11</th>\n",
       "      <td>Hawaii</td>\n",
       "      <td>89%</td>\n",
       "      <td>18.9</td>\n",
       "    </tr>\n",
       "    <tr>\n",
       "      <th>12</th>\n",
       "      <td>Idaho</td>\n",
       "      <td>36%</td>\n",
       "      <td>22.3</td>\n",
       "    </tr>\n",
       "    <tr>\n",
       "      <th>13</th>\n",
       "      <td>Illinois</td>\n",
       "      <td>43%</td>\n",
       "      <td>23.9</td>\n",
       "    </tr>\n",
       "    <tr>\n",
       "      <th>14</th>\n",
       "      <td>Indiana</td>\n",
       "      <td>32%</td>\n",
       "      <td>22.5</td>\n",
       "    </tr>\n",
       "    <tr>\n",
       "      <th>15</th>\n",
       "      <td>Iowa</td>\n",
       "      <td>68%</td>\n",
       "      <td>21.8</td>\n",
       "    </tr>\n",
       "    <tr>\n",
       "      <th>16</th>\n",
       "      <td>Kansas</td>\n",
       "      <td>71%</td>\n",
       "      <td>21.6</td>\n",
       "    </tr>\n",
       "    <tr>\n",
       "      <th>17</th>\n",
       "      <td>Kentucky</td>\n",
       "      <td>100%</td>\n",
       "      <td>20.2</td>\n",
       "    </tr>\n",
       "    <tr>\n",
       "      <th>18</th>\n",
       "      <td>Louisiana</td>\n",
       "      <td>100%</td>\n",
       "      <td>19.2</td>\n",
       "    </tr>\n",
       "    <tr>\n",
       "      <th>19</th>\n",
       "      <td>Maine</td>\n",
       "      <td>7%</td>\n",
       "      <td>24.0</td>\n",
       "    </tr>\n",
       "    <tr>\n",
       "      <th>20</th>\n",
       "      <td>Maryland</td>\n",
       "      <td>31%</td>\n",
       "      <td>22.5</td>\n",
       "    </tr>\n",
       "    <tr>\n",
       "      <th>21</th>\n",
       "      <td>Massachusetts</td>\n",
       "      <td>25%</td>\n",
       "      <td>25.5</td>\n",
       "    </tr>\n",
       "    <tr>\n",
       "      <th>22</th>\n",
       "      <td>Michigan</td>\n",
       "      <td>22%</td>\n",
       "      <td>24.2</td>\n",
       "    </tr>\n",
       "    <tr>\n",
       "      <th>23</th>\n",
       "      <td>Minnesota</td>\n",
       "      <td>99%</td>\n",
       "      <td>21.3</td>\n",
       "    </tr>\n",
       "    <tr>\n",
       "      <th>24</th>\n",
       "      <td>Mississippi</td>\n",
       "      <td>100%</td>\n",
       "      <td>18.6</td>\n",
       "    </tr>\n",
       "    <tr>\n",
       "      <th>25</th>\n",
       "      <td>Missouri</td>\n",
       "      <td>100%</td>\n",
       "      <td>20.0</td>\n",
       "    </tr>\n",
       "    <tr>\n",
       "      <th>26</th>\n",
       "      <td>Montana</td>\n",
       "      <td>100%</td>\n",
       "      <td>20.0</td>\n",
       "    </tr>\n",
       "    <tr>\n",
       "      <th>27</th>\n",
       "      <td>Nebraska</td>\n",
       "      <td>100%</td>\n",
       "      <td>20.1</td>\n",
       "    </tr>\n",
       "    <tr>\n",
       "      <th>28</th>\n",
       "      <td>Nevada</td>\n",
       "      <td>100%</td>\n",
       "      <td>17.7</td>\n",
       "    </tr>\n",
       "    <tr>\n",
       "      <th>29</th>\n",
       "      <td>New Hampshire</td>\n",
       "      <td>16%</td>\n",
       "      <td>25.1</td>\n",
       "    </tr>\n",
       "    <tr>\n",
       "      <th>30</th>\n",
       "      <td>New Jersey</td>\n",
       "      <td>31%</td>\n",
       "      <td>23.7</td>\n",
       "    </tr>\n",
       "    <tr>\n",
       "      <th>31</th>\n",
       "      <td>New Mexico</td>\n",
       "      <td>67%</td>\n",
       "      <td>19.4</td>\n",
       "    </tr>\n",
       "    <tr>\n",
       "      <th>32</th>\n",
       "      <td>New York</td>\n",
       "      <td>27%</td>\n",
       "      <td>24.5</td>\n",
       "    </tr>\n",
       "    <tr>\n",
       "      <th>33</th>\n",
       "      <td>North Carolina</td>\n",
       "      <td>100%</td>\n",
       "      <td>19.1</td>\n",
       "    </tr>\n",
       "    <tr>\n",
       "      <th>34</th>\n",
       "      <td>North Dakota</td>\n",
       "      <td>98%</td>\n",
       "      <td>20.3</td>\n",
       "    </tr>\n",
       "    <tr>\n",
       "      <th>35</th>\n",
       "      <td>Ohio</td>\n",
       "      <td>100%</td>\n",
       "      <td>20.3</td>\n",
       "    </tr>\n",
       "    <tr>\n",
       "      <th>36</th>\n",
       "      <td>Oklahoma</td>\n",
       "      <td>100%</td>\n",
       "      <td>19.3</td>\n",
       "    </tr>\n",
       "    <tr>\n",
       "      <th>37</th>\n",
       "      <td>Oregon</td>\n",
       "      <td>42%</td>\n",
       "      <td>21.3</td>\n",
       "    </tr>\n",
       "    <tr>\n",
       "      <th>38</th>\n",
       "      <td>Pennsylvania</td>\n",
       "      <td>20%</td>\n",
       "      <td>23.5</td>\n",
       "    </tr>\n",
       "    <tr>\n",
       "      <th>39</th>\n",
       "      <td>Rhode Island</td>\n",
       "      <td>15%</td>\n",
       "      <td>24.2</td>\n",
       "    </tr>\n",
       "    <tr>\n",
       "      <th>40</th>\n",
       "      <td>South Carolina</td>\n",
       "      <td>100%</td>\n",
       "      <td>18.3</td>\n",
       "    </tr>\n",
       "    <tr>\n",
       "      <th>41</th>\n",
       "      <td>South Dakota</td>\n",
       "      <td>77%</td>\n",
       "      <td>21.9</td>\n",
       "    </tr>\n",
       "    <tr>\n",
       "      <th>42</th>\n",
       "      <td>Tennessee</td>\n",
       "      <td>100%</td>\n",
       "      <td>19.6</td>\n",
       "    </tr>\n",
       "    <tr>\n",
       "      <th>43</th>\n",
       "      <td>Texas</td>\n",
       "      <td>45%</td>\n",
       "      <td>20.7</td>\n",
       "    </tr>\n",
       "    <tr>\n",
       "      <th>44</th>\n",
       "      <td>Utah</td>\n",
       "      <td>100%</td>\n",
       "      <td>20.4</td>\n",
       "    </tr>\n",
       "    <tr>\n",
       "      <th>45</th>\n",
       "      <td>Vermont</td>\n",
       "      <td>24%</td>\n",
       "      <td>24.1</td>\n",
       "    </tr>\n",
       "    <tr>\n",
       "      <th>46</th>\n",
       "      <td>Virginia</td>\n",
       "      <td>24%</td>\n",
       "      <td>23.9</td>\n",
       "    </tr>\n",
       "    <tr>\n",
       "      <th>47</th>\n",
       "      <td>Washington</td>\n",
       "      <td>24%</td>\n",
       "      <td>22.2</td>\n",
       "    </tr>\n",
       "    <tr>\n",
       "      <th>48</th>\n",
       "      <td>West Virginia</td>\n",
       "      <td>65%</td>\n",
       "      <td>20.3</td>\n",
       "    </tr>\n",
       "    <tr>\n",
       "      <th>49</th>\n",
       "      <td>Wisconsin</td>\n",
       "      <td>100%</td>\n",
       "      <td>20.5</td>\n",
       "    </tr>\n",
       "    <tr>\n",
       "      <th>50</th>\n",
       "      <td>Wyoming</td>\n",
       "      <td>100%</td>\n",
       "      <td>20.0</td>\n",
       "    </tr>\n",
       "  </tbody>\n",
       "</table>\n",
       "</div>"
      ],
      "text/plain": [
       "                   State Participation  Composite\n",
       "0                Alabama          100%       19.1\n",
       "1                 Alaska           33%       20.8\n",
       "2                Arizona           66%       19.2\n",
       "3               Arkansas          100%       19.4\n",
       "4             California           27%       22.7\n",
       "5               Colorado           30%       23.9\n",
       "6            Connecticut           26%       25.6\n",
       "7               Delaware           17%       23.8\n",
       "8   District of Columbia           32%       23.6\n",
       "9                Florida           66%       19.9\n",
       "10               Georgia           53%       21.4\n",
       "11                Hawaii           89%       18.9\n",
       "12                 Idaho           36%       22.3\n",
       "13              Illinois           43%       23.9\n",
       "14               Indiana           32%       22.5\n",
       "15                  Iowa           68%       21.8\n",
       "16                Kansas           71%       21.6\n",
       "17              Kentucky          100%       20.2\n",
       "18             Louisiana          100%       19.2\n",
       "19                 Maine            7%       24.0\n",
       "20              Maryland           31%       22.5\n",
       "21         Massachusetts           25%       25.5\n",
       "22              Michigan           22%       24.2\n",
       "23             Minnesota           99%       21.3\n",
       "24           Mississippi          100%       18.6\n",
       "25              Missouri          100%       20.0\n",
       "26               Montana          100%       20.0\n",
       "27              Nebraska          100%       20.1\n",
       "28                Nevada          100%       17.7\n",
       "29         New Hampshire           16%       25.1\n",
       "30            New Jersey           31%       23.7\n",
       "31            New Mexico           67%       19.4\n",
       "32              New York           27%       24.5\n",
       "33        North Carolina          100%       19.1\n",
       "34          North Dakota           98%       20.3\n",
       "35                  Ohio          100%       20.3\n",
       "36              Oklahoma          100%       19.3\n",
       "37                Oregon           42%       21.3\n",
       "38          Pennsylvania           20%       23.5\n",
       "39          Rhode Island           15%       24.2\n",
       "40        South Carolina          100%       18.3\n",
       "41          South Dakota           77%       21.9\n",
       "42             Tennessee          100%       19.6\n",
       "43                 Texas           45%       20.7\n",
       "44                  Utah          100%       20.4\n",
       "45               Vermont           24%       24.1\n",
       "46              Virginia           24%       23.9\n",
       "47            Washington           24%       22.2\n",
       "48         West Virginia           65%       20.3\n",
       "49             Wisconsin          100%       20.5\n",
       "50               Wyoming          100%       20.0"
      ]
     },
     "execution_count": 64,
     "metadata": {},
     "output_type": "execute_result"
    }
   ],
   "source": [
    "act_2018.head(51)"
   ]
  },
  {
   "cell_type": "code",
   "execution_count": 65,
   "metadata": {},
   "outputs": [
    {
     "data": {
      "text/plain": [
       "State             object\n",
       "Participation     object\n",
       "Composite        float64\n",
       "dtype: object"
      ]
     },
     "execution_count": 65,
     "metadata": {},
     "output_type": "execute_result"
    }
   ],
   "source": [
    "#Checking data types\n",
    "act_2018.dtypes"
   ]
  },
  {
   "cell_type": "code",
   "execution_count": 66,
   "metadata": {},
   "outputs": [
    {
     "data": {
      "text/plain": [
       "State                                 object\n",
       "Participation                         object\n",
       "Evidence-Based Reading and Writing     int64\n",
       "Math                                   int64\n",
       "Total                                  int64\n",
       "dtype: object"
      ]
     },
     "execution_count": 66,
     "metadata": {},
     "output_type": "execute_result"
    }
   ],
   "source": [
    "#Checking data types\n",
    "sat_2018.dtypes"
   ]
  },
  {
   "cell_type": "code",
   "execution_count": 67,
   "metadata": {},
   "outputs": [],
   "source": [
    "#converting participation into floats\n",
    "covert_percent_to_float(sat_2018,\"Participation\")\n",
    "covert_percent_to_float(act_2018,\"Participation\")"
   ]
  },
  {
   "cell_type": "code",
   "execution_count": 68,
   "metadata": {},
   "outputs": [
    {
     "data": {
      "text/plain": [
       "State                                  object\n",
       "Participation                         float64\n",
       "Evidence-Based Reading and Writing      int64\n",
       "Math                                    int64\n",
       "Total                                   int64\n",
       "dtype: object"
      ]
     },
     "execution_count": 68,
     "metadata": {},
     "output_type": "execute_result"
    }
   ],
   "source": [
    "#Verifying datatypes\n",
    "sat_2018.dtypes"
   ]
  },
  {
   "cell_type": "code",
   "execution_count": 69,
   "metadata": {},
   "outputs": [
    {
     "data": {
      "text/plain": [
       "State             object\n",
       "Participation    float64\n",
       "Composite        float64\n",
       "dtype: object"
      ]
     },
     "execution_count": 69,
     "metadata": {},
     "output_type": "execute_result"
    }
   ],
   "source": [
    "#Verifying datatypes\n",
    "act_2018.dtypes"
   ]
  },
  {
   "cell_type": "code",
   "execution_count": 70,
   "metadata": {},
   "outputs": [],
   "source": [
    "#Renaming sat_2018 and act_2018  headings\n",
    "act_2018.rename(columns = {\"State\": \"state\",\n",
    "                           \"Participation\": \"act_2018_participation_%\",\n",
    "                           \"Composite\": \"act_2018_composite\"\n",
    "                          }, inplace = True)"
   ]
  },
  {
   "cell_type": "code",
   "execution_count": 71,
   "metadata": {},
   "outputs": [],
   "source": [
    "sat_2018.rename(columns = {\"State\": \"state\",\n",
    "                           \"Participation\": \"sat_2018_participation_%\",\n",
    "                           \"Evidence-Based Reading and Writing\":\"sat_2018_read_write\",\n",
    "                           \"Math\":\"sat_2018_math\",\n",
    "                           \"Total\":\"sat_2018_total\"\n",
    "                          }, inplace = True)"
   ]
  },
  {
   "cell_type": "code",
   "execution_count": 72,
   "metadata": {},
   "outputs": [
    {
     "data": {
      "text/html": [
       "<div>\n",
       "<style scoped>\n",
       "    .dataframe tbody tr th:only-of-type {\n",
       "        vertical-align: middle;\n",
       "    }\n",
       "\n",
       "    .dataframe tbody tr th {\n",
       "        vertical-align: top;\n",
       "    }\n",
       "\n",
       "    .dataframe thead th {\n",
       "        text-align: right;\n",
       "    }\n",
       "</style>\n",
       "<table border=\"1\" class=\"dataframe\">\n",
       "  <thead>\n",
       "    <tr style=\"text-align: right;\">\n",
       "      <th></th>\n",
       "      <th>state</th>\n",
       "      <th>sat_2018_participation_%</th>\n",
       "      <th>sat_2018_read_write</th>\n",
       "      <th>sat_2018_math</th>\n",
       "      <th>sat_2018_total</th>\n",
       "    </tr>\n",
       "  </thead>\n",
       "  <tbody>\n",
       "    <tr>\n",
       "      <th>0</th>\n",
       "      <td>Alabama</td>\n",
       "      <td>0.06</td>\n",
       "      <td>595</td>\n",
       "      <td>571</td>\n",
       "      <td>1166</td>\n",
       "    </tr>\n",
       "    <tr>\n",
       "      <th>1</th>\n",
       "      <td>Alaska</td>\n",
       "      <td>0.43</td>\n",
       "      <td>562</td>\n",
       "      <td>544</td>\n",
       "      <td>1106</td>\n",
       "    </tr>\n",
       "    <tr>\n",
       "      <th>2</th>\n",
       "      <td>Arizona</td>\n",
       "      <td>0.29</td>\n",
       "      <td>577</td>\n",
       "      <td>572</td>\n",
       "      <td>1149</td>\n",
       "    </tr>\n",
       "    <tr>\n",
       "      <th>3</th>\n",
       "      <td>Arkansas</td>\n",
       "      <td>0.05</td>\n",
       "      <td>592</td>\n",
       "      <td>576</td>\n",
       "      <td>1169</td>\n",
       "    </tr>\n",
       "    <tr>\n",
       "      <th>4</th>\n",
       "      <td>California</td>\n",
       "      <td>0.60</td>\n",
       "      <td>540</td>\n",
       "      <td>536</td>\n",
       "      <td>1076</td>\n",
       "    </tr>\n",
       "  </tbody>\n",
       "</table>\n",
       "</div>"
      ],
      "text/plain": [
       "        state  sat_2018_participation_%  sat_2018_read_write  sat_2018_math  \\\n",
       "0     Alabama                      0.06                  595            571   \n",
       "1      Alaska                      0.43                  562            544   \n",
       "2     Arizona                      0.29                  577            572   \n",
       "3    Arkansas                      0.05                  592            576   \n",
       "4  California                      0.60                  540            536   \n",
       "\n",
       "   sat_2018_total  \n",
       "0            1166  \n",
       "1            1106  \n",
       "2            1149  \n",
       "3            1169  \n",
       "4            1076  "
      ]
     },
     "execution_count": 72,
     "metadata": {},
     "output_type": "execute_result"
    }
   ],
   "source": [
    "#Verifying headings\n",
    "sat_2018.head()"
   ]
  },
  {
   "cell_type": "code",
   "execution_count": 73,
   "metadata": {},
   "outputs": [
    {
     "data": {
      "text/html": [
       "<div>\n",
       "<style scoped>\n",
       "    .dataframe tbody tr th:only-of-type {\n",
       "        vertical-align: middle;\n",
       "    }\n",
       "\n",
       "    .dataframe tbody tr th {\n",
       "        vertical-align: top;\n",
       "    }\n",
       "\n",
       "    .dataframe thead th {\n",
       "        text-align: right;\n",
       "    }\n",
       "</style>\n",
       "<table border=\"1\" class=\"dataframe\">\n",
       "  <thead>\n",
       "    <tr style=\"text-align: right;\">\n",
       "      <th></th>\n",
       "      <th>state</th>\n",
       "      <th>act_2018_participation_%</th>\n",
       "      <th>act_2018_composite</th>\n",
       "    </tr>\n",
       "  </thead>\n",
       "  <tbody>\n",
       "    <tr>\n",
       "      <th>0</th>\n",
       "      <td>Alabama</td>\n",
       "      <td>1.00</td>\n",
       "      <td>19.1</td>\n",
       "    </tr>\n",
       "    <tr>\n",
       "      <th>1</th>\n",
       "      <td>Alaska</td>\n",
       "      <td>0.33</td>\n",
       "      <td>20.8</td>\n",
       "    </tr>\n",
       "    <tr>\n",
       "      <th>2</th>\n",
       "      <td>Arizona</td>\n",
       "      <td>0.66</td>\n",
       "      <td>19.2</td>\n",
       "    </tr>\n",
       "    <tr>\n",
       "      <th>3</th>\n",
       "      <td>Arkansas</td>\n",
       "      <td>1.00</td>\n",
       "      <td>19.4</td>\n",
       "    </tr>\n",
       "    <tr>\n",
       "      <th>4</th>\n",
       "      <td>California</td>\n",
       "      <td>0.27</td>\n",
       "      <td>22.7</td>\n",
       "    </tr>\n",
       "  </tbody>\n",
       "</table>\n",
       "</div>"
      ],
      "text/plain": [
       "        state  act_2018_participation_%  act_2018_composite\n",
       "0     Alabama                      1.00                19.1\n",
       "1      Alaska                      0.33                20.8\n",
       "2     Arizona                      0.66                19.2\n",
       "3    Arkansas                      1.00                19.4\n",
       "4  California                      0.27                22.7"
      ]
     },
     "execution_count": 73,
     "metadata": {},
     "output_type": "execute_result"
    }
   ],
   "source": [
    "#Verifying headings\n",
    "act_2018.head()"
   ]
  },
  {
   "cell_type": "markdown",
   "metadata": {},
   "source": [
    "#### Summary of 2018 Data Set changes\n",
    "- ACT 2018 District of Columbia was updated\n",
    "- ACT 2018 extra 'Maine' row was dropped and indices were fixed.\n",
    "- Participation values were converted to floats\n",
    "- Oklahoma and Ohio were switched to follow proper alphabetical order\n",
    "- Column names were changed to cleaner format"
   ]
  },
  {
   "cell_type": "code",
   "execution_count": 74,
   "metadata": {},
   "outputs": [],
   "source": [
    "#Combining the two datasets\n",
    "combined_2018=pd.merge(left=act_2018,right=sat_2018,on=\"state\",how='outer')"
   ]
  },
  {
   "cell_type": "code",
   "execution_count": 75,
   "metadata": {},
   "outputs": [],
   "source": [
    "#Exporting the combined 2018 csv\n",
    "combined_2018.to_csv('../data/combined_2018.csv',sep=\",\",index=False)"
   ]
  },
  {
   "cell_type": "markdown",
   "metadata": {},
   "source": [
    "#### Combine your 2017 and 2018 data into a single dataframe\n",
    "Joining on state names should work, assuming you formatted all your state names identically. Make sure none of your columns (other than state) have identical names. Do yourself a favor and decide if you're encoding participation rates as floats or integers and standardize this across your datasets.\n",
    "\n",
    "Save the contents of this merged dataframe as `final.csv`.\n",
    "\n",
    "**Use this combined dataframe for the remainder of the project**."
   ]
  },
  {
   "cell_type": "code",
   "execution_count": 95,
   "metadata": {},
   "outputs": [],
   "source": [
    "#Combined final dataframe\n",
    "final=pd.merge(left=combined_2017,right=combined_2018,on=\"state\",how='outer')"
   ]
  },
  {
   "cell_type": "code",
   "execution_count": 96,
   "metadata": {},
   "outputs": [
    {
     "data": {
      "text/html": [
       "<div>\n",
       "<style scoped>\n",
       "    .dataframe tbody tr th:only-of-type {\n",
       "        vertical-align: middle;\n",
       "    }\n",
       "\n",
       "    .dataframe tbody tr th {\n",
       "        vertical-align: top;\n",
       "    }\n",
       "\n",
       "    .dataframe thead th {\n",
       "        text-align: right;\n",
       "    }\n",
       "</style>\n",
       "<table border=\"1\" class=\"dataframe\">\n",
       "  <thead>\n",
       "    <tr style=\"text-align: right;\">\n",
       "      <th></th>\n",
       "      <th>state</th>\n",
       "      <th>act_2017_participation_%</th>\n",
       "      <th>act_2017_english</th>\n",
       "      <th>act_2017_math</th>\n",
       "      <th>act_2017_reading</th>\n",
       "      <th>act_2017_science</th>\n",
       "      <th>act_2017_composite</th>\n",
       "      <th>sat_2017_participation_%</th>\n",
       "      <th>sat_2017_read_write</th>\n",
       "      <th>sat_2017_math</th>\n",
       "      <th>sat_2017_total</th>\n",
       "      <th>act_2018_participation_%</th>\n",
       "      <th>act_2018_composite</th>\n",
       "      <th>sat_2018_participation_%</th>\n",
       "      <th>sat_2018_read_write</th>\n",
       "      <th>sat_2018_math</th>\n",
       "      <th>sat_2018_total</th>\n",
       "    </tr>\n",
       "  </thead>\n",
       "  <tbody>\n",
       "    <tr>\n",
       "      <th>0</th>\n",
       "      <td>Alabama</td>\n",
       "      <td>1.00</td>\n",
       "      <td>18.9</td>\n",
       "      <td>18.4</td>\n",
       "      <td>19.7</td>\n",
       "      <td>19.4</td>\n",
       "      <td>19.2</td>\n",
       "      <td>0.05</td>\n",
       "      <td>593</td>\n",
       "      <td>572</td>\n",
       "      <td>1165</td>\n",
       "      <td>1.00</td>\n",
       "      <td>19.1</td>\n",
       "      <td>0.06</td>\n",
       "      <td>595</td>\n",
       "      <td>571</td>\n",
       "      <td>1166</td>\n",
       "    </tr>\n",
       "    <tr>\n",
       "      <th>1</th>\n",
       "      <td>Alaska</td>\n",
       "      <td>0.65</td>\n",
       "      <td>18.7</td>\n",
       "      <td>19.8</td>\n",
       "      <td>20.4</td>\n",
       "      <td>19.9</td>\n",
       "      <td>19.8</td>\n",
       "      <td>0.38</td>\n",
       "      <td>547</td>\n",
       "      <td>533</td>\n",
       "      <td>1080</td>\n",
       "      <td>0.33</td>\n",
       "      <td>20.8</td>\n",
       "      <td>0.43</td>\n",
       "      <td>562</td>\n",
       "      <td>544</td>\n",
       "      <td>1106</td>\n",
       "    </tr>\n",
       "    <tr>\n",
       "      <th>2</th>\n",
       "      <td>Arizona</td>\n",
       "      <td>0.62</td>\n",
       "      <td>18.6</td>\n",
       "      <td>19.8</td>\n",
       "      <td>20.1</td>\n",
       "      <td>19.8</td>\n",
       "      <td>19.7</td>\n",
       "      <td>0.30</td>\n",
       "      <td>563</td>\n",
       "      <td>553</td>\n",
       "      <td>1116</td>\n",
       "      <td>0.66</td>\n",
       "      <td>19.2</td>\n",
       "      <td>0.29</td>\n",
       "      <td>577</td>\n",
       "      <td>572</td>\n",
       "      <td>1149</td>\n",
       "    </tr>\n",
       "    <tr>\n",
       "      <th>3</th>\n",
       "      <td>Arkansas</td>\n",
       "      <td>1.00</td>\n",
       "      <td>18.9</td>\n",
       "      <td>19.0</td>\n",
       "      <td>19.7</td>\n",
       "      <td>19.5</td>\n",
       "      <td>19.4</td>\n",
       "      <td>0.03</td>\n",
       "      <td>614</td>\n",
       "      <td>594</td>\n",
       "      <td>1208</td>\n",
       "      <td>1.00</td>\n",
       "      <td>19.4</td>\n",
       "      <td>0.05</td>\n",
       "      <td>592</td>\n",
       "      <td>576</td>\n",
       "      <td>1169</td>\n",
       "    </tr>\n",
       "    <tr>\n",
       "      <th>4</th>\n",
       "      <td>California</td>\n",
       "      <td>0.31</td>\n",
       "      <td>22.5</td>\n",
       "      <td>22.7</td>\n",
       "      <td>23.1</td>\n",
       "      <td>22.2</td>\n",
       "      <td>22.8</td>\n",
       "      <td>0.53</td>\n",
       "      <td>531</td>\n",
       "      <td>524</td>\n",
       "      <td>1055</td>\n",
       "      <td>0.27</td>\n",
       "      <td>22.7</td>\n",
       "      <td>0.60</td>\n",
       "      <td>540</td>\n",
       "      <td>536</td>\n",
       "      <td>1076</td>\n",
       "    </tr>\n",
       "  </tbody>\n",
       "</table>\n",
       "</div>"
      ],
      "text/plain": [
       "        state  act_2017_participation_%  act_2017_english  act_2017_math  \\\n",
       "0     Alabama                      1.00              18.9           18.4   \n",
       "1      Alaska                      0.65              18.7           19.8   \n",
       "2     Arizona                      0.62              18.6           19.8   \n",
       "3    Arkansas                      1.00              18.9           19.0   \n",
       "4  California                      0.31              22.5           22.7   \n",
       "\n",
       "   act_2017_reading  act_2017_science  act_2017_composite  \\\n",
       "0              19.7              19.4                19.2   \n",
       "1              20.4              19.9                19.8   \n",
       "2              20.1              19.8                19.7   \n",
       "3              19.7              19.5                19.4   \n",
       "4              23.1              22.2                22.8   \n",
       "\n",
       "   sat_2017_participation_%  sat_2017_read_write  sat_2017_math  \\\n",
       "0                      0.05                  593            572   \n",
       "1                      0.38                  547            533   \n",
       "2                      0.30                  563            553   \n",
       "3                      0.03                  614            594   \n",
       "4                      0.53                  531            524   \n",
       "\n",
       "   sat_2017_total  act_2018_participation_%  act_2018_composite  \\\n",
       "0            1165                      1.00                19.1   \n",
       "1            1080                      0.33                20.8   \n",
       "2            1116                      0.66                19.2   \n",
       "3            1208                      1.00                19.4   \n",
       "4            1055                      0.27                22.7   \n",
       "\n",
       "   sat_2018_participation_%  sat_2018_read_write  sat_2018_math  \\\n",
       "0                      0.06                  595            571   \n",
       "1                      0.43                  562            544   \n",
       "2                      0.29                  577            572   \n",
       "3                      0.05                  592            576   \n",
       "4                      0.60                  540            536   \n",
       "\n",
       "   sat_2018_total  \n",
       "0            1166  \n",
       "1            1106  \n",
       "2            1149  \n",
       "3            1169  \n",
       "4            1076  "
      ]
     },
     "execution_count": 96,
     "metadata": {},
     "output_type": "execute_result"
    }
   ],
   "source": [
    "final.head()"
   ]
  },
  {
   "cell_type": "code",
   "execution_count": 97,
   "metadata": {},
   "outputs": [],
   "source": [
    "#Exporting the combined 2018 csv\n",
    "final.to_csv('../data/final.csv',sep=\",\",index=False)"
   ]
  },
  {
   "cell_type": "markdown",
   "metadata": {},
   "source": [
    "## Exploratory Data Analysis\n",
    "\n",
    "\n",
    "### Summary Statistics\n",
    "Transpose the output of pandas `describe` method to create a quick overview of each numeric feature."
   ]
  },
  {
   "cell_type": "code",
   "execution_count": 98,
   "metadata": {},
   "outputs": [
    {
     "data": {
      "text/html": [
       "<div>\n",
       "<style scoped>\n",
       "    .dataframe tbody tr th:only-of-type {\n",
       "        vertical-align: middle;\n",
       "    }\n",
       "\n",
       "    .dataframe tbody tr th {\n",
       "        vertical-align: top;\n",
       "    }\n",
       "\n",
       "    .dataframe thead th {\n",
       "        text-align: right;\n",
       "    }\n",
       "</style>\n",
       "<table border=\"1\" class=\"dataframe\">\n",
       "  <thead>\n",
       "    <tr style=\"text-align: right;\">\n",
       "      <th></th>\n",
       "      <th>count</th>\n",
       "      <th>mean</th>\n",
       "      <th>std</th>\n",
       "      <th>min</th>\n",
       "      <th>25%</th>\n",
       "      <th>50%</th>\n",
       "      <th>75%</th>\n",
       "      <th>max</th>\n",
       "    </tr>\n",
       "  </thead>\n",
       "  <tbody>\n",
       "    <tr>\n",
       "      <th>act_2017_participation_%</th>\n",
       "      <td>51.0</td>\n",
       "      <td>0.652549</td>\n",
       "      <td>0.321408</td>\n",
       "      <td>0.08</td>\n",
       "      <td>0.310</td>\n",
       "      <td>0.69</td>\n",
       "      <td>1.000</td>\n",
       "      <td>1.0</td>\n",
       "    </tr>\n",
       "    <tr>\n",
       "      <th>act_2017_english</th>\n",
       "      <td>51.0</td>\n",
       "      <td>20.931373</td>\n",
       "      <td>2.353677</td>\n",
       "      <td>16.30</td>\n",
       "      <td>19.000</td>\n",
       "      <td>20.70</td>\n",
       "      <td>23.300</td>\n",
       "      <td>25.5</td>\n",
       "    </tr>\n",
       "    <tr>\n",
       "      <th>act_2017_math</th>\n",
       "      <td>51.0</td>\n",
       "      <td>21.182353</td>\n",
       "      <td>1.981989</td>\n",
       "      <td>18.00</td>\n",
       "      <td>19.400</td>\n",
       "      <td>20.90</td>\n",
       "      <td>23.100</td>\n",
       "      <td>25.3</td>\n",
       "    </tr>\n",
       "    <tr>\n",
       "      <th>act_2017_reading</th>\n",
       "      <td>51.0</td>\n",
       "      <td>22.013725</td>\n",
       "      <td>2.067271</td>\n",
       "      <td>18.10</td>\n",
       "      <td>20.450</td>\n",
       "      <td>21.80</td>\n",
       "      <td>24.150</td>\n",
       "      <td>26.0</td>\n",
       "    </tr>\n",
       "    <tr>\n",
       "      <th>act_2017_science</th>\n",
       "      <td>51.0</td>\n",
       "      <td>21.462745</td>\n",
       "      <td>1.753392</td>\n",
       "      <td>18.20</td>\n",
       "      <td>19.950</td>\n",
       "      <td>21.30</td>\n",
       "      <td>23.200</td>\n",
       "      <td>24.9</td>\n",
       "    </tr>\n",
       "    <tr>\n",
       "      <th>act_2017_composite</th>\n",
       "      <td>51.0</td>\n",
       "      <td>21.519608</td>\n",
       "      <td>2.020695</td>\n",
       "      <td>17.80</td>\n",
       "      <td>19.800</td>\n",
       "      <td>21.40</td>\n",
       "      <td>23.600</td>\n",
       "      <td>25.5</td>\n",
       "    </tr>\n",
       "    <tr>\n",
       "      <th>sat_2017_participation_%</th>\n",
       "      <td>51.0</td>\n",
       "      <td>0.398039</td>\n",
       "      <td>0.352766</td>\n",
       "      <td>0.02</td>\n",
       "      <td>0.040</td>\n",
       "      <td>0.38</td>\n",
       "      <td>0.660</td>\n",
       "      <td>1.0</td>\n",
       "    </tr>\n",
       "    <tr>\n",
       "      <th>sat_2017_read_write</th>\n",
       "      <td>51.0</td>\n",
       "      <td>569.117647</td>\n",
       "      <td>45.666901</td>\n",
       "      <td>482.00</td>\n",
       "      <td>533.500</td>\n",
       "      <td>559.00</td>\n",
       "      <td>613.000</td>\n",
       "      <td>644.0</td>\n",
       "    </tr>\n",
       "    <tr>\n",
       "      <th>sat_2017_math</th>\n",
       "      <td>51.0</td>\n",
       "      <td>556.882353</td>\n",
       "      <td>47.121395</td>\n",
       "      <td>468.00</td>\n",
       "      <td>523.500</td>\n",
       "      <td>548.00</td>\n",
       "      <td>599.000</td>\n",
       "      <td>651.0</td>\n",
       "    </tr>\n",
       "    <tr>\n",
       "      <th>sat_2017_total</th>\n",
       "      <td>51.0</td>\n",
       "      <td>1126.098039</td>\n",
       "      <td>92.494812</td>\n",
       "      <td>950.00</td>\n",
       "      <td>1055.500</td>\n",
       "      <td>1107.00</td>\n",
       "      <td>1212.000</td>\n",
       "      <td>1295.0</td>\n",
       "    </tr>\n",
       "    <tr>\n",
       "      <th>act_2018_participation_%</th>\n",
       "      <td>51.0</td>\n",
       "      <td>0.617255</td>\n",
       "      <td>0.340371</td>\n",
       "      <td>0.07</td>\n",
       "      <td>0.285</td>\n",
       "      <td>0.66</td>\n",
       "      <td>1.000</td>\n",
       "      <td>1.0</td>\n",
       "    </tr>\n",
       "    <tr>\n",
       "      <th>act_2018_composite</th>\n",
       "      <td>51.0</td>\n",
       "      <td>21.496078</td>\n",
       "      <td>2.111583</td>\n",
       "      <td>17.70</td>\n",
       "      <td>19.950</td>\n",
       "      <td>21.30</td>\n",
       "      <td>23.650</td>\n",
       "      <td>25.6</td>\n",
       "    </tr>\n",
       "    <tr>\n",
       "      <th>sat_2018_participation_%</th>\n",
       "      <td>51.0</td>\n",
       "      <td>0.457451</td>\n",
       "      <td>0.373143</td>\n",
       "      <td>0.02</td>\n",
       "      <td>0.045</td>\n",
       "      <td>0.52</td>\n",
       "      <td>0.775</td>\n",
       "      <td>1.0</td>\n",
       "    </tr>\n",
       "    <tr>\n",
       "      <th>sat_2018_read_write</th>\n",
       "      <td>51.0</td>\n",
       "      <td>563.686275</td>\n",
       "      <td>47.502627</td>\n",
       "      <td>480.00</td>\n",
       "      <td>534.500</td>\n",
       "      <td>552.00</td>\n",
       "      <td>610.500</td>\n",
       "      <td>643.0</td>\n",
       "    </tr>\n",
       "    <tr>\n",
       "      <th>sat_2018_math</th>\n",
       "      <td>51.0</td>\n",
       "      <td>556.235294</td>\n",
       "      <td>47.772623</td>\n",
       "      <td>480.00</td>\n",
       "      <td>522.500</td>\n",
       "      <td>544.00</td>\n",
       "      <td>593.500</td>\n",
       "      <td>655.0</td>\n",
       "    </tr>\n",
       "    <tr>\n",
       "      <th>sat_2018_total</th>\n",
       "      <td>51.0</td>\n",
       "      <td>1120.019608</td>\n",
       "      <td>94.155083</td>\n",
       "      <td>977.00</td>\n",
       "      <td>1057.500</td>\n",
       "      <td>1098.00</td>\n",
       "      <td>1204.000</td>\n",
       "      <td>1298.0</td>\n",
       "    </tr>\n",
       "  </tbody>\n",
       "</table>\n",
       "</div>"
      ],
      "text/plain": [
       "                          count         mean        std     min       25%  \\\n",
       "act_2017_participation_%   51.0     0.652549   0.321408    0.08     0.310   \n",
       "act_2017_english           51.0    20.931373   2.353677   16.30    19.000   \n",
       "act_2017_math              51.0    21.182353   1.981989   18.00    19.400   \n",
       "act_2017_reading           51.0    22.013725   2.067271   18.10    20.450   \n",
       "act_2017_science           51.0    21.462745   1.753392   18.20    19.950   \n",
       "act_2017_composite         51.0    21.519608   2.020695   17.80    19.800   \n",
       "sat_2017_participation_%   51.0     0.398039   0.352766    0.02     0.040   \n",
       "sat_2017_read_write        51.0   569.117647  45.666901  482.00   533.500   \n",
       "sat_2017_math              51.0   556.882353  47.121395  468.00   523.500   \n",
       "sat_2017_total             51.0  1126.098039  92.494812  950.00  1055.500   \n",
       "act_2018_participation_%   51.0     0.617255   0.340371    0.07     0.285   \n",
       "act_2018_composite         51.0    21.496078   2.111583   17.70    19.950   \n",
       "sat_2018_participation_%   51.0     0.457451   0.373143    0.02     0.045   \n",
       "sat_2018_read_write        51.0   563.686275  47.502627  480.00   534.500   \n",
       "sat_2018_math              51.0   556.235294  47.772623  480.00   522.500   \n",
       "sat_2018_total             51.0  1120.019608  94.155083  977.00  1057.500   \n",
       "\n",
       "                              50%       75%     max  \n",
       "act_2017_participation_%     0.69     1.000     1.0  \n",
       "act_2017_english            20.70    23.300    25.5  \n",
       "act_2017_math               20.90    23.100    25.3  \n",
       "act_2017_reading            21.80    24.150    26.0  \n",
       "act_2017_science            21.30    23.200    24.9  \n",
       "act_2017_composite          21.40    23.600    25.5  \n",
       "sat_2017_participation_%     0.38     0.660     1.0  \n",
       "sat_2017_read_write        559.00   613.000   644.0  \n",
       "sat_2017_math              548.00   599.000   651.0  \n",
       "sat_2017_total            1107.00  1212.000  1295.0  \n",
       "act_2018_participation_%     0.66     1.000     1.0  \n",
       "act_2018_composite          21.30    23.650    25.6  \n",
       "sat_2018_participation_%     0.52     0.775     1.0  \n",
       "sat_2018_read_write        552.00   610.500   643.0  \n",
       "sat_2018_math              544.00   593.500   655.0  \n",
       "sat_2018_total            1098.00  1204.000  1298.0  "
      ]
     },
     "execution_count": 98,
     "metadata": {},
     "output_type": "execute_result"
    }
   ],
   "source": [
    "#Code:\n",
    "final.describe().T\n"
   ]
  },
  {
   "cell_type": "code",
   "execution_count": 99,
   "metadata": {},
   "outputs": [
    {
     "data": {
      "text/plain": [
       "act_2017_participation_%     0.321408\n",
       "act_2017_english             2.353677\n",
       "act_2017_math                1.981989\n",
       "act_2017_reading             2.067271\n",
       "act_2017_science             1.753392\n",
       "act_2017_composite           2.020695\n",
       "sat_2017_participation_%     0.352766\n",
       "sat_2017_read_write         45.666901\n",
       "sat_2017_math               47.121395\n",
       "sat_2017_total              92.494812\n",
       "act_2018_participation_%     0.340371\n",
       "act_2018_composite           2.111583\n",
       "sat_2018_participation_%     0.373143\n",
       "sat_2018_read_write         47.502627\n",
       "sat_2018_math               47.772623\n",
       "sat_2018_total              94.155083\n",
       "dtype: float64"
      ]
     },
     "execution_count": 99,
     "metadata": {},
     "output_type": "execute_result"
    }
   ],
   "source": [
    "#Standard deviation\n",
    "final.std().T"
   ]
  },
  {
   "cell_type": "markdown",
   "metadata": {},
   "source": [
    "#### Manually calculate standard deviation\n",
    "\n",
    "$$\\sigma = \\sqrt{\\frac{1}{n}\\sum_{i=1}^n(x_i - \\mu)^2}$$\n",
    "\n",
    "- Write a function to calculate standard deviation using the formula above"
   ]
  },
  {
   "cell_type": "code",
   "execution_count": 100,
   "metadata": {},
   "outputs": [],
   "source": [
    "#code\n",
    "def standard_deviation(column):\n",
    "    mean=column.mean()\n",
    "    sample_var=sum([(i-mean)**2 for i in column])/len(column)\n",
    "    return np.sqrt(sample_var)\n",
    "   "
   ]
  },
  {
   "cell_type": "code",
   "execution_count": 101,
   "metadata": {},
   "outputs": [
    {
     "data": {
      "text/plain": [
       "46.65713364485503"
      ]
     },
     "execution_count": 101,
     "metadata": {},
     "output_type": "execute_result"
    }
   ],
   "source": [
    "#checking the std dev function\n",
    "standard_deviation(final['sat_2017_math'])"
   ]
  },
  {
   "cell_type": "code",
   "execution_count": 102,
   "metadata": {},
   "outputs": [
    {
     "data": {
      "text/html": [
       "<div>\n",
       "<style scoped>\n",
       "    .dataframe tbody tr th:only-of-type {\n",
       "        vertical-align: middle;\n",
       "    }\n",
       "\n",
       "    .dataframe tbody tr th {\n",
       "        vertical-align: top;\n",
       "    }\n",
       "\n",
       "    .dataframe thead th {\n",
       "        text-align: right;\n",
       "    }\n",
       "</style>\n",
       "<table border=\"1\" class=\"dataframe\">\n",
       "  <thead>\n",
       "    <tr style=\"text-align: right;\">\n",
       "      <th></th>\n",
       "      <th>state</th>\n",
       "      <th>act_2017_participation_%</th>\n",
       "      <th>act_2017_english</th>\n",
       "      <th>act_2017_math</th>\n",
       "      <th>act_2017_reading</th>\n",
       "      <th>act_2017_science</th>\n",
       "      <th>act_2017_composite</th>\n",
       "      <th>sat_2017_participation_%</th>\n",
       "      <th>sat_2017_read_write</th>\n",
       "      <th>sat_2017_math</th>\n",
       "      <th>sat_2017_total</th>\n",
       "      <th>act_2018_participation_%</th>\n",
       "      <th>act_2018_composite</th>\n",
       "      <th>sat_2018_participation_%</th>\n",
       "      <th>sat_2018_read_write</th>\n",
       "      <th>sat_2018_math</th>\n",
       "      <th>sat_2018_total</th>\n",
       "    </tr>\n",
       "  </thead>\n",
       "  <tbody>\n",
       "    <tr>\n",
       "      <th>0</th>\n",
       "      <td>Alabama</td>\n",
       "      <td>1.00</td>\n",
       "      <td>18.9</td>\n",
       "      <td>18.4</td>\n",
       "      <td>19.7</td>\n",
       "      <td>19.4</td>\n",
       "      <td>19.2</td>\n",
       "      <td>0.05</td>\n",
       "      <td>593</td>\n",
       "      <td>572</td>\n",
       "      <td>1165</td>\n",
       "      <td>1.00</td>\n",
       "      <td>19.1</td>\n",
       "      <td>0.06</td>\n",
       "      <td>595</td>\n",
       "      <td>571</td>\n",
       "      <td>1166</td>\n",
       "    </tr>\n",
       "    <tr>\n",
       "      <th>1</th>\n",
       "      <td>Alaska</td>\n",
       "      <td>0.65</td>\n",
       "      <td>18.7</td>\n",
       "      <td>19.8</td>\n",
       "      <td>20.4</td>\n",
       "      <td>19.9</td>\n",
       "      <td>19.8</td>\n",
       "      <td>0.38</td>\n",
       "      <td>547</td>\n",
       "      <td>533</td>\n",
       "      <td>1080</td>\n",
       "      <td>0.33</td>\n",
       "      <td>20.8</td>\n",
       "      <td>0.43</td>\n",
       "      <td>562</td>\n",
       "      <td>544</td>\n",
       "      <td>1106</td>\n",
       "    </tr>\n",
       "    <tr>\n",
       "      <th>2</th>\n",
       "      <td>Arizona</td>\n",
       "      <td>0.62</td>\n",
       "      <td>18.6</td>\n",
       "      <td>19.8</td>\n",
       "      <td>20.1</td>\n",
       "      <td>19.8</td>\n",
       "      <td>19.7</td>\n",
       "      <td>0.30</td>\n",
       "      <td>563</td>\n",
       "      <td>553</td>\n",
       "      <td>1116</td>\n",
       "      <td>0.66</td>\n",
       "      <td>19.2</td>\n",
       "      <td>0.29</td>\n",
       "      <td>577</td>\n",
       "      <td>572</td>\n",
       "      <td>1149</td>\n",
       "    </tr>\n",
       "    <tr>\n",
       "      <th>3</th>\n",
       "      <td>Arkansas</td>\n",
       "      <td>1.00</td>\n",
       "      <td>18.9</td>\n",
       "      <td>19.0</td>\n",
       "      <td>19.7</td>\n",
       "      <td>19.5</td>\n",
       "      <td>19.4</td>\n",
       "      <td>0.03</td>\n",
       "      <td>614</td>\n",
       "      <td>594</td>\n",
       "      <td>1208</td>\n",
       "      <td>1.00</td>\n",
       "      <td>19.4</td>\n",
       "      <td>0.05</td>\n",
       "      <td>592</td>\n",
       "      <td>576</td>\n",
       "      <td>1169</td>\n",
       "    </tr>\n",
       "    <tr>\n",
       "      <th>4</th>\n",
       "      <td>California</td>\n",
       "      <td>0.31</td>\n",
       "      <td>22.5</td>\n",
       "      <td>22.7</td>\n",
       "      <td>23.1</td>\n",
       "      <td>22.2</td>\n",
       "      <td>22.8</td>\n",
       "      <td>0.53</td>\n",
       "      <td>531</td>\n",
       "      <td>524</td>\n",
       "      <td>1055</td>\n",
       "      <td>0.27</td>\n",
       "      <td>22.7</td>\n",
       "      <td>0.60</td>\n",
       "      <td>540</td>\n",
       "      <td>536</td>\n",
       "      <td>1076</td>\n",
       "    </tr>\n",
       "  </tbody>\n",
       "</table>\n",
       "</div>"
      ],
      "text/plain": [
       "        state  act_2017_participation_%  act_2017_english  act_2017_math  \\\n",
       "0     Alabama                      1.00              18.9           18.4   \n",
       "1      Alaska                      0.65              18.7           19.8   \n",
       "2     Arizona                      0.62              18.6           19.8   \n",
       "3    Arkansas                      1.00              18.9           19.0   \n",
       "4  California                      0.31              22.5           22.7   \n",
       "\n",
       "   act_2017_reading  act_2017_science  act_2017_composite  \\\n",
       "0              19.7              19.4                19.2   \n",
       "1              20.4              19.9                19.8   \n",
       "2              20.1              19.8                19.7   \n",
       "3              19.7              19.5                19.4   \n",
       "4              23.1              22.2                22.8   \n",
       "\n",
       "   sat_2017_participation_%  sat_2017_read_write  sat_2017_math  \\\n",
       "0                      0.05                  593            572   \n",
       "1                      0.38                  547            533   \n",
       "2                      0.30                  563            553   \n",
       "3                      0.03                  614            594   \n",
       "4                      0.53                  531            524   \n",
       "\n",
       "   sat_2017_total  act_2018_participation_%  act_2018_composite  \\\n",
       "0            1165                      1.00                19.1   \n",
       "1            1080                      0.33                20.8   \n",
       "2            1116                      0.66                19.2   \n",
       "3            1208                      1.00                19.4   \n",
       "4            1055                      0.27                22.7   \n",
       "\n",
       "   sat_2018_participation_%  sat_2018_read_write  sat_2018_math  \\\n",
       "0                      0.06                  595            571   \n",
       "1                      0.43                  562            544   \n",
       "2                      0.29                  577            572   \n",
       "3                      0.05                  592            576   \n",
       "4                      0.60                  540            536   \n",
       "\n",
       "   sat_2018_total  \n",
       "0            1166  \n",
       "1            1106  \n",
       "2            1149  \n",
       "3            1169  \n",
       "4            1076  "
      ]
     },
     "execution_count": 102,
     "metadata": {},
     "output_type": "execute_result"
    }
   ],
   "source": [
    "final.shape\n",
    "final.head()"
   ]
  },
  {
   "cell_type": "markdown",
   "metadata": {},
   "source": [
    "- Use a **dictionary comprehension** to apply your standard deviation function to each numeric column in the dataframe.  **No loops**  \n",
    "- Assign the output to variable `sd` as a dictionary where: \n",
    "    - Each column name is now a key \n",
    "    - That standard deviation of the column is the value \n",
    "     \n",
    "*Example Output :* `{'ACT_Math': 120, 'ACT_Reading': 120, ...}`"
   ]
  },
  {
   "cell_type": "code",
   "execution_count": 103,
   "metadata": {},
   "outputs": [],
   "source": [
    "#Code:\n",
    "std_dev_dict={i:standard_deviation(final[i]) for i in final.columns.tolist() if i!='state'}"
   ]
  },
  {
   "cell_type": "code",
   "execution_count": 104,
   "metadata": {},
   "outputs": [
    {
     "data": {
      "text/plain": [
       "{'act_2017_participation_%': 0.3182417575123181,\n",
       " 'act_2017_english': 2.3304876369363363,\n",
       " 'act_2017_math': 1.9624620273436781,\n",
       " 'act_2017_reading': 2.0469029314842646,\n",
       " 'act_2017_science': 1.7361170088327353,\n",
       " 'act_2017_composite': 2.000786081581989,\n",
       " 'sat_2017_participation_%': 0.3492907076664507,\n",
       " 'sat_2017_read_write': 45.21697020437866,\n",
       " 'sat_2017_math': 46.65713364485503,\n",
       " 'sat_2017_total': 91.58351056778743,\n",
       " 'act_2018_participation_%': 0.33701735820410317,\n",
       " 'act_2018_composite': 2.090779082141178,\n",
       " 'sat_2018_participation_%': 0.3694661922353942,\n",
       " 'sat_2018_read_write': 47.03460978357609,\n",
       " 'sat_2018_math': 47.30194550378352,\n",
       " 'sat_2018_total': 93.22742384464433}"
      ]
     },
     "execution_count": 104,
     "metadata": {},
     "output_type": "execute_result"
    }
   ],
   "source": [
    "std_dev_dict"
   ]
  },
  {
   "cell_type": "markdown",
   "metadata": {},
   "source": [
    "Do your manually calculated standard deviations match up with the output from pandas `describe`? What about numpy's `std` method?"
   ]
  },
  {
   "cell_type": "code",
   "execution_count": 161,
   "metadata": {},
   "outputs": [
    {
     "data": {
      "text/plain": [
       "[0.3182417575123181,\n",
       " 2.3304876369363363,\n",
       " 1.9624620273436781,\n",
       " 2.0469029314842646,\n",
       " 1.7361170088327353,\n",
       " 2.000786081581989,\n",
       " 0.3492907076664507,\n",
       " 45.21697020437866,\n",
       " 46.65713364485503,\n",
       " 91.58351056778743,\n",
       " 0.33701735820410317,\n",
       " 2.090779082141178,\n",
       " 0.3694661922353942,\n",
       " 47.03460978357609,\n",
       " 47.30194550378352,\n",
       " 93.22742384464433,\n",
       " 0.18091718140701388,\n",
       " 0.13324535736570928]"
      ]
     },
     "execution_count": 161,
     "metadata": {},
     "output_type": "execute_result"
    }
   ],
   "source": [
    "#Calculating standard deviation using numpy's std method\n",
    "std_dev_numpy=list(np.std(final[i]) for i in final.columns.tolist() if i!='state')\n",
    "std_dev_numpy\n"
   ]
  },
  {
   "cell_type": "markdown",
   "metadata": {},
   "source": [
    "-The function calculated standard deviation values vary about **1%** from the standard deviation derived from **pandas** describe method. \n",
    "\n",
    "-The function calculated standard deviation values match  the standard deviation derived from **numpy** std method. "
   ]
  },
  {
   "cell_type": "markdown",
   "metadata": {},
   "source": [
    "#### Investigate trends in the data\n",
    "Using sorting and/or masking (along with the `.head` method to not print our entire dataframe), consider the following questions:\n",
    "\n",
    "- Which states have the highest and lowest participation rates for the:\n",
    "    - 2017 SAT?\n",
    "    - 2018 SAT?\n",
    "    - 2017 ACT?\n",
    "    - 2018 ACT?\n",
    "- Which states have the highest and lowest mean total/composite scores for the:\n",
    "    - 2017 SAT?\n",
    "    - 2018 SAT?\n",
    "    - 2017 ACT?\n",
    "    - 2018 ACT?\n",
    "- Do any states with 100% participation on a given test have a rate change year-to-year?\n",
    "- Do any states show have >50% participation on *both* tests either year?\n",
    "\n",
    "Based on what you've just observed, have you identified any states that you're especially interested in? **Make a note of these and state *why* you think they're interesting**.\n",
    "\n",
    "**You should comment on your findings at each step in a markdown cell below your code block**. Make sure you include at least one example of sorting your dataframe by a column, and one example of using boolean filtering (i.e., masking) to select a subset of the dataframe."
   ]
  },
  {
   "cell_type": "code",
   "execution_count": 107,
   "metadata": {},
   "outputs": [
    {
     "name": "stdout",
     "output_type": "stream",
     "text": [
      "             state  sat_2017_participation_%  sat_2017_total\n",
      "34    North Dakota                      0.02            1256\n",
      "24     Mississippi                      0.02            1242\n",
      "15            Iowa                      0.02            1275\n",
      "25        Missouri                      0.03            1271\n",
      "44            Utah                      0.03            1238\n",
      "41    South Dakota                      0.03            1216\n",
      "27        Nebraska                      0.03            1253\n",
      "49       Wisconsin                      0.03            1291\n",
      "23       Minnesota                      0.03            1295\n",
      "50         Wyoming                      0.03            1230\n",
      "3         Arkansas                      0.03            1208\n",
      "16          Kansas                      0.04            1260\n",
      "17        Kentucky                      0.04            1247\n",
      "18       Louisiana                      0.04            1198\n",
      "0          Alabama                      0.05            1165\n",
      "42       Tennessee                      0.05            1228\n",
      "36        Oklahoma                      0.07            1047\n",
      "13        Illinois                      0.09            1115\n",
      "26         Montana                      0.10            1196\n",
      "5         Colorado                      0.11            1201\n",
      "31      New Mexico                      0.11            1138\n",
      "35            Ohio                      0.12            1149\n",
      "48   West Virginia                      0.14            1086\n",
      "28          Nevada                      0.26            1116\n",
      "2          Arizona                      0.30            1116\n",
      "1           Alaska                      0.38            1080\n",
      "37          Oregon                      0.43            1108\n",
      "33  North Carolina                      0.49            1081\n",
      "40  South Carolina                      0.50            1064\n",
      "4       California                      0.53            1055\n",
      "             state  sat_2018_participation_%  sat_2018_total\n",
      "34    North Dakota                      0.02            1283\n",
      "50         Wyoming                      0.03            1257\n",
      "41    South Dakota                      0.03            1240\n",
      "27        Nebraska                      0.03            1252\n",
      "49       Wisconsin                      0.03            1294\n",
      "24     Mississippi                      0.03            1236\n",
      "15            Iowa                      0.03            1265\n",
      "44            Utah                      0.04            1010\n",
      "23       Minnesota                      0.04            1298\n",
      "18       Louisiana                      0.04            1210\n",
      "17        Kentucky                      0.04            1248\n",
      "16          Kansas                      0.04            1265\n",
      "25        Missouri                      0.04            1262\n",
      "3         Arkansas                      0.05            1169\n",
      "0          Alabama                      0.06            1166\n",
      "42       Tennessee                      0.06            1231\n",
      "36        Oklahoma                      0.08            1062\n",
      "26         Montana                      0.10            1198\n",
      "31      New Mexico                      0.16            1093\n",
      "35            Ohio                      0.18            1099\n",
      "28          Nevada                      0.23            1140\n",
      "48   West Virginia                      0.28             999\n",
      "2          Arizona                      0.29            1149\n",
      "1           Alaska                      0.43            1106\n",
      "37          Oregon                      0.48            1117\n",
      "33  North Carolina                      0.52            1098\n",
      "40  South Carolina                      0.55            1070\n",
      "11          Hawaii                      0.56            1010\n",
      "9          Florida                      0.56            1099\n",
      "4       California                      0.60            1076\n",
      "            state  act_2017_participation_%  act_2017_composite\n",
      "19          Maine                      0.08                24.3\n",
      "29  New Hampshire                      0.18                25.5\n",
      "7        Delaware                      0.18                24.1\n",
      "39   Rhode Island                      0.21                24.0\n",
      "38   Pennsylvania                      0.23                23.7\n",
      "20       Maryland                      0.28                23.6\n",
      "45        Vermont                      0.29                23.6\n",
      "21  Massachusetts                      0.29                25.4\n",
      "22       Michigan                      0.29                24.1\n",
      "46       Virginia                      0.29                23.8\n",
      "            state  act_2018_participation_%  act_2018_composite\n",
      "19          Maine                      0.07                24.0\n",
      "39   Rhode Island                      0.15                24.2\n",
      "29  New Hampshire                      0.16                25.1\n",
      "7        Delaware                      0.17                23.8\n",
      "38   Pennsylvania                      0.20                23.5\n",
      "22       Michigan                      0.22                24.2\n",
      "47     Washington                      0.24                22.2\n",
      "45        Vermont                      0.24                24.1\n",
      "46       Virginia                      0.24                23.9\n",
      "21  Massachusetts                      0.25                25.5\n",
      "6     Connecticut                      0.26                25.6\n",
      "4      California                      0.27                22.7\n",
      "32       New York                      0.27                24.5\n",
      "5        Colorado                      0.30                23.9\n",
      "20       Maryland                      0.31                22.5\n"
     ]
    }
   ],
   "source": [
    "#code\n",
    "#Lowest Participation rates-SAT 2017\n",
    "print(sat_2017.loc[:,['state','sat_2017_participation_%','sat_2017_total']].sort_values('sat_2017_participation_%',ascending=True).head(30))\n",
    "#Lowest Participation rates-SAT 201\n",
    "print(sat_2018.loc[:,['state','sat_2018_participation_%','sat_2018_total']].sort_values('sat_2018_participation_%',ascending=True).head(30))\n",
    "#Lowest Participation rates-ACT 2017\n",
    "print(act_2017.loc[:,['state','act_2017_participation_%','act_2017_composite']].sort_values('act_2017_participation_%',ascending=True).head(10))\n",
    "#Lowest Participation rates-ACT 2018\n",
    "print(act_2018.loc[:,['state','act_2018_participation_%','act_2018_composite']].sort_values('act_2018_participation_%',ascending=True).head(15))"
   ]
  },
  {
   "cell_type": "code",
   "execution_count": 108,
   "metadata": {},
   "outputs": [
    {
     "name": "stdout",
     "output_type": "stream",
     "text": [
      "                   state  sat_2017_participation_%  sat_2017_total\n",
      "8   District of Columbia                      1.00             950\n",
      "22              Michigan                      1.00            1005\n",
      "6            Connecticut                      1.00            1041\n",
      "7               Delaware                      1.00             996\n",
      "29         New Hampshire                      0.96            1052\n",
      "19                 Maine                      0.95            1012\n",
      "12                 Idaho                      0.93            1005\n",
      "9                Florida                      0.83            1017\n",
      "21         Massachusetts                      0.76            1107\n",
      "39          Rhode Island                      0.71            1062\n",
      "                   state  sat_2018_participation_%  sat_2018_total\n",
      "5               Colorado                      1.00            1025\n",
      "6            Connecticut                      1.00            1053\n",
      "7               Delaware                      1.00             998\n",
      "22              Michigan                      1.00            1011\n",
      "12                 Idaho                      1.00            1001\n",
      "19                 Maine                      0.99            1013\n",
      "13              Illinois                      0.99            1019\n",
      "39          Rhode Island                      0.97            1018\n",
      "29         New Hampshire                      0.96            1063\n",
      "8   District of Columbia                      0.92             977\n",
      "             state  act_2017_participation_%  act_2017_composite\n",
      "0          Alabama                      1.00                19.2\n",
      "17        Kentucky                      1.00                20.0\n",
      "49       Wisconsin                      1.00                20.5\n",
      "44            Utah                      1.00                20.3\n",
      "42       Tennessee                      1.00                19.8\n",
      "40  South Carolina                      1.00                18.7\n",
      "36        Oklahoma                      1.00                19.4\n",
      "33  North Carolina                      1.00                19.1\n",
      "28          Nevada                      1.00                17.8\n",
      "26         Montana                      1.00                20.3\n",
      "24     Mississippi                      1.00                18.6\n",
      "23       Minnesota                      1.00                21.5\n",
      "18       Louisiana                      1.00                19.5\n",
      "25        Missouri                      1.00                20.4\n",
      "50         Wyoming                      1.00                20.2\n",
      "5         Colorado                      1.00                20.8\n",
      "3         Arkansas                      1.00                19.4\n",
      "34    North Dakota                      0.98                20.3\n",
      "13        Illinois                      0.93                21.4\n",
      "11          Hawaii                      0.90                19.0\n",
      "             state  act_2018_participation_%  act_2018_composite\n",
      "0          Alabama                      1.00                19.1\n",
      "17        Kentucky                      1.00                20.2\n",
      "49       Wisconsin                      1.00                20.5\n",
      "44            Utah                      1.00                20.4\n",
      "42       Tennessee                      1.00                19.6\n",
      "40  South Carolina                      1.00                18.3\n",
      "36        Oklahoma                      1.00                19.3\n",
      "35            Ohio                      1.00                20.3\n",
      "33  North Carolina                      1.00                19.1\n",
      "28          Nevada                      1.00                17.7\n",
      "27        Nebraska                      1.00                20.1\n",
      "26         Montana                      1.00                20.0\n",
      "24     Mississippi                      1.00                18.6\n",
      "18       Louisiana                      1.00                19.2\n",
      "25        Missouri                      1.00                20.0\n",
      "50         Wyoming                      1.00                20.0\n",
      "3         Arkansas                      1.00                19.4\n",
      "23       Minnesota                      0.99                21.3\n",
      "34    North Dakota                      0.98                20.3\n",
      "11          Hawaii                      0.89                18.9\n"
     ]
    }
   ],
   "source": [
    "#code\n",
    "#Highest Participation rates-SAT 2017\n",
    "print(sat_2017.loc[:,['state','sat_2017_participation_%','sat_2017_total']].sort_values('sat_2017_participation_%',ascending=False).head(10))\n",
    "#Highest Participation rates-SAT 201\n",
    "print(sat_2018.loc[:,['state','sat_2018_participation_%','sat_2018_total']].sort_values('sat_2018_participation_%',ascending=False).head(10))\n",
    "#Highest Participation rates-ACT 2017\n",
    "print(act_2017.loc[:,['state','act_2017_participation_%','act_2017_composite']].sort_values('act_2017_participation_%',ascending=False).head(20))\n",
    "#Highest Participation rates-ACT 2018\n",
    "print(act_2018.loc[:,['state','act_2018_participation_%','act_2018_composite']].sort_values('act_2018_participation_%',ascending=False).head(20))"
   ]
  },
  {
   "cell_type": "code",
   "execution_count": 109,
   "metadata": {},
   "outputs": [
    {
     "name": "stdout",
     "output_type": "stream",
     "text": [
      "                   state  sat_2017_participation_%  sat_2017_total\n",
      "8   District of Columbia                      1.00             950\n",
      "7               Delaware                      1.00             996\n",
      "12                 Idaho                      0.93            1005\n",
      "22              Michigan                      1.00            1005\n",
      "19                 Maine                      0.95            1012\n",
      "9                Florida                      0.83            1017\n",
      "43                 Texas                      0.62            1020\n",
      "6            Connecticut                      1.00            1041\n",
      "36              Oklahoma                      0.07            1047\n",
      "10               Georgia                      0.61            1050\n",
      "                   state  sat_2018_participation_%  sat_2018_total\n",
      "8   District of Columbia                      0.92             977\n",
      "7               Delaware                      1.00             998\n",
      "48         West Virginia                      0.28             999\n",
      "12                 Idaho                      1.00            1001\n",
      "44                  Utah                      0.04            1010\n",
      "11                Hawaii                      0.56            1010\n",
      "22              Michigan                      1.00            1011\n",
      "19                 Maine                      0.99            1013\n",
      "39          Rhode Island                      0.97            1018\n",
      "13              Illinois                      0.99            1019\n",
      "             state  act_2017_participation_%  act_2017_composite\n",
      "28          Nevada                      1.00                17.8\n",
      "24     Mississippi                      1.00                18.6\n",
      "40  South Carolina                      1.00                18.7\n",
      "11          Hawaii                      0.90                19.0\n",
      "33  North Carolina                      1.00                19.1\n",
      "0          Alabama                      1.00                19.2\n",
      "3         Arkansas                      1.00                19.4\n",
      "36        Oklahoma                      1.00                19.4\n",
      "18       Louisiana                      1.00                19.5\n",
      "2          Arizona                      0.62                19.7\n",
      "             state  act_2018_participation_%  act_2018_composite\n",
      "28          Nevada                      1.00                17.7\n",
      "40  South Carolina                      1.00                18.3\n",
      "24     Mississippi                      1.00                18.6\n",
      "11          Hawaii                      0.89                18.9\n",
      "0          Alabama                      1.00                19.1\n",
      "33  North Carolina                      1.00                19.1\n",
      "2          Arizona                      0.66                19.2\n",
      "18       Louisiana                      1.00                19.2\n",
      "36        Oklahoma                      1.00                19.3\n",
      "3         Arkansas                      1.00                19.4\n"
     ]
    }
   ],
   "source": [
    "#Lowest Composite/Total scores-SAT 2017\n",
    "print(sat_2017.loc[:,['state','sat_2017_participation_%','sat_2017_total']].sort_values('sat_2017_total',ascending=True).head(10))\n",
    "#Lowest Composite/Total scores-SAT 201\n",
    "print(sat_2018.loc[:,['state','sat_2018_participation_%','sat_2018_total']].sort_values('sat_2018_total',ascending=True).head(10))\n",
    "#Lowest Composite/Total scores-ACT 2017\n",
    "print(act_2017.loc[:,['state','act_2017_participation_%','act_2017_composite']].sort_values('act_2017_composite',ascending=True).head(10))\n",
    "#Lowest Composite/Total scores-ACT 2018\n",
    "print(act_2018.loc[:,['state','act_2018_participation_%','act_2018_composite']].sort_values('act_2018_composite',ascending=True).head(10))"
   ]
  },
  {
   "cell_type": "code",
   "execution_count": 110,
   "metadata": {},
   "outputs": [
    {
     "name": "stdout",
     "output_type": "stream",
     "text": [
      "           state  sat_2017_participation_%  sat_2017_total\n",
      "23     Minnesota                      0.03            1295\n",
      "49     Wisconsin                      0.03            1291\n",
      "15          Iowa                      0.02            1275\n",
      "25      Missouri                      0.03            1271\n",
      "16        Kansas                      0.04            1260\n",
      "34  North Dakota                      0.02            1256\n",
      "27      Nebraska                      0.03            1253\n",
      "17      Kentucky                      0.04            1247\n",
      "24   Mississippi                      0.02            1242\n",
      "44          Utah                      0.03            1238\n",
      "           state  sat_2018_participation_%  sat_2018_total\n",
      "23     Minnesota                      0.04            1298\n",
      "49     Wisconsin                      0.03            1294\n",
      "34  North Dakota                      0.02            1283\n",
      "15          Iowa                      0.03            1265\n",
      "16        Kansas                      0.04            1265\n",
      "25      Missouri                      0.04            1262\n",
      "50       Wyoming                      0.03            1257\n",
      "27      Nebraska                      0.03            1252\n",
      "17      Kentucky                      0.04            1248\n",
      "41  South Dakota                      0.03            1240\n",
      "                   state  act_2017_participation_%  act_2017_composite\n",
      "29         New Hampshire                      0.18                25.5\n",
      "21         Massachusetts                      0.29                25.4\n",
      "6            Connecticut                      0.31                25.2\n",
      "19                 Maine                      0.08                24.3\n",
      "8   District of Columbia                      0.32                24.2\n",
      "32              New York                      0.31                24.2\n",
      "22              Michigan                      0.29                24.1\n",
      "7               Delaware                      0.18                24.1\n",
      "39          Rhode Island                      0.21                24.0\n",
      "30            New Jersey                      0.34                23.9\n",
      "            state  act_2018_participation_%  act_2018_composite\n",
      "6     Connecticut                      0.26                25.6\n",
      "21  Massachusetts                      0.25                25.5\n",
      "29  New Hampshire                      0.16                25.1\n",
      "32       New York                      0.27                24.5\n",
      "22       Michigan                      0.22                24.2\n",
      "39   Rhode Island                      0.15                24.2\n",
      "45        Vermont                      0.24                24.1\n",
      "19          Maine                      0.07                24.0\n",
      "13       Illinois                      0.43                23.9\n",
      "5        Colorado                      0.30                23.9\n"
     ]
    }
   ],
   "source": [
    "#Highest Composite/Total scores-SAT 2017\n",
    "print(sat_2017.loc[:,['state','sat_2017_participation_%','sat_2017_total']].sort_values('sat_2017_total',ascending=False).head(10))\n",
    "#Highest Composite/Total scores-SAT 201\n",
    "print(sat_2018.loc[:,['state','sat_2018_participation_%','sat_2018_total']].sort_values('sat_2018_total',ascending=False).head(10))\n",
    "#Highest Composite/Total scores-ACT 2017\n",
    "print(act_2017.loc[:,['state','act_2017_participation_%','act_2017_composite']].sort_values('act_2017_composite',ascending=False).head(10))\n",
    "#Highest Composite/Total scores-ACT 2018\n",
    "print(act_2018.loc[:,['state','act_2018_participation_%','act_2018_composite']].sort_values('act_2018_composite',ascending=False).head(10))"
   ]
  },
  {
   "cell_type": "code",
   "execution_count": 111,
   "metadata": {},
   "outputs": [],
   "source": [
    "#Do any states with 100% participation on a given test have a rate change year-to-year?\n",
    "#Rate change from 2017 to 2018\n",
    "final['change_in_sat_par']=final['sat_2018_participation_%']-final['sat_2017_participation_%']"
   ]
  },
  {
   "cell_type": "code",
   "execution_count": 112,
   "metadata": {},
   "outputs": [],
   "source": [
    "final['change_in_act_par']=final['act_2018_participation_%']-final['act_2017_participation_%']"
   ]
  },
  {
   "cell_type": "code",
   "execution_count": 113,
   "metadata": {},
   "outputs": [],
   "source": [
    "#100 % Participation rate masks for SAT and ACT \n",
    "mask_sat_part=(final['sat_2017_participation_%']==1.0)|(final['sat_2018_participation_%']==1.0)"
   ]
  },
  {
   "cell_type": "code",
   "execution_count": 114,
   "metadata": {},
   "outputs": [],
   "source": [
    "mask_act_part=(final['act_2017_participation_%']==1.0)|(final['act_2018_participation_%']==1.0)"
   ]
  },
  {
   "cell_type": "code",
   "execution_count": 115,
   "metadata": {},
   "outputs": [
    {
     "data": {
      "text/html": [
       "<div>\n",
       "<style scoped>\n",
       "    .dataframe tbody tr th:only-of-type {\n",
       "        vertical-align: middle;\n",
       "    }\n",
       "\n",
       "    .dataframe tbody tr th {\n",
       "        vertical-align: top;\n",
       "    }\n",
       "\n",
       "    .dataframe thead th {\n",
       "        text-align: right;\n",
       "    }\n",
       "</style>\n",
       "<table border=\"1\" class=\"dataframe\">\n",
       "  <thead>\n",
       "    <tr style=\"text-align: right;\">\n",
       "      <th></th>\n",
       "      <th>state</th>\n",
       "      <th>sat_2017_participation_%</th>\n",
       "      <th>sat_2018_participation_%</th>\n",
       "      <th>change_in_sat_par</th>\n",
       "    </tr>\n",
       "  </thead>\n",
       "  <tbody>\n",
       "    <tr>\n",
       "      <th>5</th>\n",
       "      <td>Colorado</td>\n",
       "      <td>0.11</td>\n",
       "      <td>1.00</td>\n",
       "      <td>0.89</td>\n",
       "    </tr>\n",
       "    <tr>\n",
       "      <th>6</th>\n",
       "      <td>Connecticut</td>\n",
       "      <td>1.00</td>\n",
       "      <td>1.00</td>\n",
       "      <td>0.00</td>\n",
       "    </tr>\n",
       "    <tr>\n",
       "      <th>7</th>\n",
       "      <td>Delaware</td>\n",
       "      <td>1.00</td>\n",
       "      <td>1.00</td>\n",
       "      <td>0.00</td>\n",
       "    </tr>\n",
       "    <tr>\n",
       "      <th>8</th>\n",
       "      <td>District of Columbia</td>\n",
       "      <td>1.00</td>\n",
       "      <td>0.92</td>\n",
       "      <td>-0.08</td>\n",
       "    </tr>\n",
       "    <tr>\n",
       "      <th>12</th>\n",
       "      <td>Idaho</td>\n",
       "      <td>0.93</td>\n",
       "      <td>1.00</td>\n",
       "      <td>0.07</td>\n",
       "    </tr>\n",
       "    <tr>\n",
       "      <th>22</th>\n",
       "      <td>Michigan</td>\n",
       "      <td>1.00</td>\n",
       "      <td>1.00</td>\n",
       "      <td>0.00</td>\n",
       "    </tr>\n",
       "  </tbody>\n",
       "</table>\n",
       "</div>"
      ],
      "text/plain": [
       "                   state  sat_2017_participation_%  sat_2018_participation_%  \\\n",
       "5               Colorado                      0.11                      1.00   \n",
       "6            Connecticut                      1.00                      1.00   \n",
       "7               Delaware                      1.00                      1.00   \n",
       "8   District of Columbia                      1.00                      0.92   \n",
       "12                 Idaho                      0.93                      1.00   \n",
       "22              Michigan                      1.00                      1.00   \n",
       "\n",
       "    change_in_sat_par  \n",
       "5                0.89  \n",
       "6                0.00  \n",
       "7                0.00  \n",
       "8               -0.08  \n",
       "12               0.07  \n",
       "22               0.00  "
      ]
     },
     "execution_count": 115,
     "metadata": {},
     "output_type": "execute_result"
    }
   ],
   "source": [
    "final[mask_sat_part][['state','sat_2017_participation_%','sat_2018_participation_%','change_in_sat_par']]"
   ]
  },
  {
   "cell_type": "code",
   "execution_count": 116,
   "metadata": {},
   "outputs": [
    {
     "data": {
      "text/html": [
       "<div>\n",
       "<style scoped>\n",
       "    .dataframe tbody tr th:only-of-type {\n",
       "        vertical-align: middle;\n",
       "    }\n",
       "\n",
       "    .dataframe tbody tr th {\n",
       "        vertical-align: top;\n",
       "    }\n",
       "\n",
       "    .dataframe thead th {\n",
       "        text-align: right;\n",
       "    }\n",
       "</style>\n",
       "<table border=\"1\" class=\"dataframe\">\n",
       "  <thead>\n",
       "    <tr style=\"text-align: right;\">\n",
       "      <th></th>\n",
       "      <th>state</th>\n",
       "      <th>act_2017_participation_%</th>\n",
       "      <th>act_2018_participation_%</th>\n",
       "      <th>change_in_act_par</th>\n",
       "    </tr>\n",
       "  </thead>\n",
       "  <tbody>\n",
       "    <tr>\n",
       "      <th>0</th>\n",
       "      <td>Alabama</td>\n",
       "      <td>1.00</td>\n",
       "      <td>1.00</td>\n",
       "      <td>0.00</td>\n",
       "    </tr>\n",
       "    <tr>\n",
       "      <th>3</th>\n",
       "      <td>Arkansas</td>\n",
       "      <td>1.00</td>\n",
       "      <td>1.00</td>\n",
       "      <td>0.00</td>\n",
       "    </tr>\n",
       "    <tr>\n",
       "      <th>5</th>\n",
       "      <td>Colorado</td>\n",
       "      <td>1.00</td>\n",
       "      <td>0.30</td>\n",
       "      <td>-0.70</td>\n",
       "    </tr>\n",
       "    <tr>\n",
       "      <th>17</th>\n",
       "      <td>Kentucky</td>\n",
       "      <td>1.00</td>\n",
       "      <td>1.00</td>\n",
       "      <td>0.00</td>\n",
       "    </tr>\n",
       "    <tr>\n",
       "      <th>18</th>\n",
       "      <td>Louisiana</td>\n",
       "      <td>1.00</td>\n",
       "      <td>1.00</td>\n",
       "      <td>0.00</td>\n",
       "    </tr>\n",
       "    <tr>\n",
       "      <th>23</th>\n",
       "      <td>Minnesota</td>\n",
       "      <td>1.00</td>\n",
       "      <td>0.99</td>\n",
       "      <td>-0.01</td>\n",
       "    </tr>\n",
       "    <tr>\n",
       "      <th>24</th>\n",
       "      <td>Mississippi</td>\n",
       "      <td>1.00</td>\n",
       "      <td>1.00</td>\n",
       "      <td>0.00</td>\n",
       "    </tr>\n",
       "    <tr>\n",
       "      <th>25</th>\n",
       "      <td>Missouri</td>\n",
       "      <td>1.00</td>\n",
       "      <td>1.00</td>\n",
       "      <td>0.00</td>\n",
       "    </tr>\n",
       "    <tr>\n",
       "      <th>26</th>\n",
       "      <td>Montana</td>\n",
       "      <td>1.00</td>\n",
       "      <td>1.00</td>\n",
       "      <td>0.00</td>\n",
       "    </tr>\n",
       "    <tr>\n",
       "      <th>27</th>\n",
       "      <td>Nebraska</td>\n",
       "      <td>0.84</td>\n",
       "      <td>1.00</td>\n",
       "      <td>0.16</td>\n",
       "    </tr>\n",
       "    <tr>\n",
       "      <th>28</th>\n",
       "      <td>Nevada</td>\n",
       "      <td>1.00</td>\n",
       "      <td>1.00</td>\n",
       "      <td>0.00</td>\n",
       "    </tr>\n",
       "    <tr>\n",
       "      <th>33</th>\n",
       "      <td>North Carolina</td>\n",
       "      <td>1.00</td>\n",
       "      <td>1.00</td>\n",
       "      <td>0.00</td>\n",
       "    </tr>\n",
       "    <tr>\n",
       "      <th>35</th>\n",
       "      <td>Ohio</td>\n",
       "      <td>0.75</td>\n",
       "      <td>1.00</td>\n",
       "      <td>0.25</td>\n",
       "    </tr>\n",
       "    <tr>\n",
       "      <th>36</th>\n",
       "      <td>Oklahoma</td>\n",
       "      <td>1.00</td>\n",
       "      <td>1.00</td>\n",
       "      <td>0.00</td>\n",
       "    </tr>\n",
       "    <tr>\n",
       "      <th>40</th>\n",
       "      <td>South Carolina</td>\n",
       "      <td>1.00</td>\n",
       "      <td>1.00</td>\n",
       "      <td>0.00</td>\n",
       "    </tr>\n",
       "    <tr>\n",
       "      <th>42</th>\n",
       "      <td>Tennessee</td>\n",
       "      <td>1.00</td>\n",
       "      <td>1.00</td>\n",
       "      <td>0.00</td>\n",
       "    </tr>\n",
       "    <tr>\n",
       "      <th>44</th>\n",
       "      <td>Utah</td>\n",
       "      <td>1.00</td>\n",
       "      <td>1.00</td>\n",
       "      <td>0.00</td>\n",
       "    </tr>\n",
       "    <tr>\n",
       "      <th>49</th>\n",
       "      <td>Wisconsin</td>\n",
       "      <td>1.00</td>\n",
       "      <td>1.00</td>\n",
       "      <td>0.00</td>\n",
       "    </tr>\n",
       "    <tr>\n",
       "      <th>50</th>\n",
       "      <td>Wyoming</td>\n",
       "      <td>1.00</td>\n",
       "      <td>1.00</td>\n",
       "      <td>0.00</td>\n",
       "    </tr>\n",
       "  </tbody>\n",
       "</table>\n",
       "</div>"
      ],
      "text/plain": [
       "             state  act_2017_participation_%  act_2018_participation_%  \\\n",
       "0          Alabama                      1.00                      1.00   \n",
       "3         Arkansas                      1.00                      1.00   \n",
       "5         Colorado                      1.00                      0.30   \n",
       "17        Kentucky                      1.00                      1.00   \n",
       "18       Louisiana                      1.00                      1.00   \n",
       "23       Minnesota                      1.00                      0.99   \n",
       "24     Mississippi                      1.00                      1.00   \n",
       "25        Missouri                      1.00                      1.00   \n",
       "26         Montana                      1.00                      1.00   \n",
       "27        Nebraska                      0.84                      1.00   \n",
       "28          Nevada                      1.00                      1.00   \n",
       "33  North Carolina                      1.00                      1.00   \n",
       "35            Ohio                      0.75                      1.00   \n",
       "36        Oklahoma                      1.00                      1.00   \n",
       "40  South Carolina                      1.00                      1.00   \n",
       "42       Tennessee                      1.00                      1.00   \n",
       "44            Utah                      1.00                      1.00   \n",
       "49       Wisconsin                      1.00                      1.00   \n",
       "50         Wyoming                      1.00                      1.00   \n",
       "\n",
       "    change_in_act_par  \n",
       "0                0.00  \n",
       "3                0.00  \n",
       "5               -0.70  \n",
       "17               0.00  \n",
       "18               0.00  \n",
       "23              -0.01  \n",
       "24               0.00  \n",
       "25               0.00  \n",
       "26               0.00  \n",
       "27               0.16  \n",
       "28               0.00  \n",
       "33               0.00  \n",
       "35               0.25  \n",
       "36               0.00  \n",
       "40               0.00  \n",
       "42               0.00  \n",
       "44               0.00  \n",
       "49               0.00  \n",
       "50               0.00  "
      ]
     },
     "execution_count": 116,
     "metadata": {},
     "output_type": "execute_result"
    }
   ],
   "source": [
    "final[mask_act_part][['state','act_2017_participation_%','act_2018_participation_%','change_in_act_par']]"
   ]
  },
  {
   "cell_type": "code",
   "execution_count": 117,
   "metadata": {},
   "outputs": [],
   "source": [
    "#Do any states show have >50% participation on both tests either year"
   ]
  },
  {
   "cell_type": "code",
   "execution_count": 118,
   "metadata": {},
   "outputs": [],
   "source": [
    "mask_2017_50=(final['sat_2017_participation_%']>0.50)|(final['act_2017_participation_%']>0.50)"
   ]
  },
  {
   "cell_type": "code",
   "execution_count": 119,
   "metadata": {},
   "outputs": [],
   "source": [
    "mask_2018_50=(final['sat_2018_participation_%']>0.50)|(final['act_2018_participation_%']>0.50)"
   ]
  },
  {
   "cell_type": "code",
   "execution_count": 120,
   "metadata": {},
   "outputs": [
    {
     "data": {
      "text/html": [
       "<div>\n",
       "<style scoped>\n",
       "    .dataframe tbody tr th:only-of-type {\n",
       "        vertical-align: middle;\n",
       "    }\n",
       "\n",
       "    .dataframe tbody tr th {\n",
       "        vertical-align: top;\n",
       "    }\n",
       "\n",
       "    .dataframe thead th {\n",
       "        text-align: right;\n",
       "    }\n",
       "</style>\n",
       "<table border=\"1\" class=\"dataframe\">\n",
       "  <thead>\n",
       "    <tr style=\"text-align: right;\">\n",
       "      <th></th>\n",
       "      <th>state</th>\n",
       "      <th>act_2017_participation_%</th>\n",
       "      <th>act_2018_participation_%</th>\n",
       "      <th>change_in_act_par</th>\n",
       "      <th>sat_2017_participation_%</th>\n",
       "      <th>sat_2018_participation_%</th>\n",
       "      <th>change_in_sat_par</th>\n",
       "    </tr>\n",
       "  </thead>\n",
       "  <tbody>\n",
       "    <tr>\n",
       "      <th>13</th>\n",
       "      <td>Illinois</td>\n",
       "      <td>0.93</td>\n",
       "      <td>0.43</td>\n",
       "      <td>-0.50</td>\n",
       "      <td>0.09</td>\n",
       "      <td>0.99</td>\n",
       "      <td>0.90</td>\n",
       "    </tr>\n",
       "    <tr>\n",
       "      <th>5</th>\n",
       "      <td>Colorado</td>\n",
       "      <td>1.00</td>\n",
       "      <td>0.30</td>\n",
       "      <td>-0.70</td>\n",
       "      <td>0.11</td>\n",
       "      <td>1.00</td>\n",
       "      <td>0.89</td>\n",
       "    </tr>\n",
       "    <tr>\n",
       "      <th>39</th>\n",
       "      <td>Rhode Island</td>\n",
       "      <td>0.21</td>\n",
       "      <td>0.15</td>\n",
       "      <td>-0.06</td>\n",
       "      <td>0.71</td>\n",
       "      <td>0.97</td>\n",
       "      <td>0.26</td>\n",
       "    </tr>\n",
       "    <tr>\n",
       "      <th>48</th>\n",
       "      <td>West Virginia</td>\n",
       "      <td>0.69</td>\n",
       "      <td>0.65</td>\n",
       "      <td>-0.04</td>\n",
       "      <td>0.14</td>\n",
       "      <td>0.28</td>\n",
       "      <td>0.14</td>\n",
       "    </tr>\n",
       "    <tr>\n",
       "      <th>30</th>\n",
       "      <td>New Jersey</td>\n",
       "      <td>0.34</td>\n",
       "      <td>0.31</td>\n",
       "      <td>-0.03</td>\n",
       "      <td>0.70</td>\n",
       "      <td>0.82</td>\n",
       "      <td>0.12</td>\n",
       "    </tr>\n",
       "  </tbody>\n",
       "</table>\n",
       "</div>"
      ],
      "text/plain": [
       "            state  act_2017_participation_%  act_2018_participation_%  \\\n",
       "13       Illinois                      0.93                      0.43   \n",
       "5        Colorado                      1.00                      0.30   \n",
       "39   Rhode Island                      0.21                      0.15   \n",
       "48  West Virginia                      0.69                      0.65   \n",
       "30     New Jersey                      0.34                      0.31   \n",
       "\n",
       "    change_in_act_par  sat_2017_participation_%  sat_2018_participation_%  \\\n",
       "13              -0.50                      0.09                      0.99   \n",
       "5               -0.70                      0.11                      1.00   \n",
       "39              -0.06                      0.71                      0.97   \n",
       "48              -0.04                      0.14                      0.28   \n",
       "30              -0.03                      0.70                      0.82   \n",
       "\n",
       "    change_in_sat_par  \n",
       "13               0.90  \n",
       "5                0.89  \n",
       "39               0.26  \n",
       "48               0.14  \n",
       "30               0.12  "
      ]
     },
     "execution_count": 120,
     "metadata": {},
     "output_type": "execute_result"
    }
   ],
   "source": [
    "final[mask_2017_50|mask_2018_50][['state','act_2017_participation_%','act_2018_participation_%','change_in_act_par','sat_2017_participation_%','sat_2018_participation_%','change_in_sat_par']].sort_values('change_in_sat_par',ascending=False).head()"
   ]
  },
  {
   "cell_type": "markdown",
   "metadata": {},
   "source": [
    "Based on the analysis, I made a couple of significant observations:\n",
    "    \n",
    "-Connecticut, Delaware and Michigan had 100% SAT Participation for 2017 and 2018\n",
    "\n",
    "-Although Colorado saw an increase in SAT Participation from 11 to 100%, it also saw a steep decrease in ACT Participation from 100% to 30%\n",
    "\n",
    "-Going against the expected trend of low participation to high scores, West Virginia had a lower SAT 2018 Participation score of 28% and low SAT 2018 Total of 999\n",
    "\n",
    "-Illinos saw a sharp increase in SAT Participation from 9 to 99% and a signicant decrease in ACT participation from 93 to 43%"
   ]
  },
  {
   "cell_type": "markdown",
   "metadata": {},
   "source": [
    "## Visualize the data\n",
    "\n",
    "There's not a magic bullet recommendation for the right number of plots to understand a given dataset, but visualizing your data is *always* a good idea. Not only does it allow you to quickly convey your findings (even if you have a non-technical audience), it will often reveal trends in your data that escaped you when you were looking only at numbers.\n",
    "\n",
    "Some recommendations on plotting:\n",
    "- Plots have titles\n",
    "- Plots have axis labels\n",
    "- Plots have appropriate tick labels\n",
    "- All text is legible in a plot\n",
    "- Plots demonstrate meaningful and valid relationships\n",
    "- Plots are interpreted to aid understanding\n",
    "\n",
    "There is such a thing as too many plots, and there are a *lot* of bad plots. You might make some! (But hopefully not with the guided prompts below)."
   ]
  },
  {
   "cell_type": "markdown",
   "metadata": {},
   "source": [
    "#### Use Seaborn's heatmap with pandas `.corr()` to visualize correlations between all numeric features\n",
    "\n",
    "Heatmaps are generally not appropriate for presentations, and should often be excluded from reports as they can be visually overwhelming. **However**, they can be extremely useful in identify relationships of potential interest (as well as identifying potential collinearity before modeling).\n",
    "\n",
    "*example*:\n",
    "```python\n",
    "sns.heatmap(df.corr())\n",
    "```\n",
    "\n",
    "Please take time to format your output, adding a title. Look through some of the additional arguments and options. (Axis labels aren't really necessary, as long as the title is informative)."
   ]
  },
  {
   "cell_type": "code",
   "execution_count": 121,
   "metadata": {},
   "outputs": [
    {
     "data": {
      "image/png": "[encoded data removed]",
      "text/plain": [
       "<Figure size 1080x1080 with 2 Axes>"
      ]
     },
     "metadata": {
      "needs_background": "light"
     },
     "output_type": "display_data"
    }
   ],
   "source": [
    "#Heatmap plot code\n",
    "plt.figure(figsize=(15,15))\n",
    "plt.title(\"Colleration between SAT and ACT data for 2017 and 2018\",fontsize = 20)\n",
    "corr =final[['act_2017_participation_%','act_2017_composite','sat_2017_participation_%','sat_2017_total','act_2018_participation_%','act_2018_composite','sat_2018_participation_%','sat_2018_total','change_in_sat_par','change_in_act_par']].corr()\n",
    "mask = np.zeros_like(corr)\n",
    "#Mask upper triangle\n",
    "mask[np.triu_indices_from(mask)] = True\n",
    "\n",
    "# Plot our correlation heatmap, while masking the upper triangle to be white.\n",
    "with sns.axes_style(\"white\"):\n",
    "     sns.heatmap(corr, mask=mask, vmax=.3, square=True, annot=True)"
   ]
  },
  {
   "cell_type": "markdown",
   "metadata": {},
   "source": [
    "#### Observed Relationships from the Heatmap\n",
    "--The SAT Participation is negatively correlated to the ACT Participation.\n",
    "\n",
    "--The SAT/ACT Participation is negatively correlated to SAT/ACT test totals respectively.\n",
    "\n",
    "--The SAT/ACT 2017 scores are positively correlated to the SAT/ACT 2018 scores respectively.\n",
    "\n",
    "--The SAT/ACT 2017 participations are positively correlated to the SAT/ACT 2018 participations respectively."
   ]
  },
  {
   "cell_type": "markdown",
   "metadata": {},
   "source": [
    "#### Define a custom function to subplot histograms\n",
    "\n",
    "We have data for two tests for two years. We only have composite (and not subtest scores) for the 2018 ACT. We should write a function that will take the names of 2+ columns and subplot histograms. While you can use pandas plotting or Seaborn here, matplotlib gives you greater control over all aspects of your plots.\n",
    "\n",
    "[Helpful Link for Plotting Multiple Figures](https://matplotlib.org/users/pyplot_tutorial.html#working-with-multiple-figures-and-axes)\n",
    "\n",
    "Here's some starter code:"
   ]
  },
  {
   "cell_type": "code",
   "execution_count": 122,
   "metadata": {},
   "outputs": [],
   "source": [
    "def subplot_histograms(dataframe, list_of_columns, list_of_titles,xlabel):\n",
    "    nrows = int(np.ceil(len(list_of_columns)/2)) # Makes sure you have enough rows\n",
    "    fig, ax = plt.subplots(nrows=nrows, ncols=2,figsize=(15,15)) # You'll want to specify your figsize\n",
    "    ax = ax.ravel() # Ravel turns a matrix into a vector, which is easier to iterate\n",
    "    for i, column in enumerate(list_of_columns): # Gives us an index value to get into all our lists\n",
    "        ax[i].hist(dataframe[column],bins=20) # feel free to add more settings\n",
    "        # Set titles, labels, etc here for each subplot\n",
    "        ax[i].set_xlabel(xlabel,fontsize=15)\n",
    "        ax[i].set_ylabel('State Count',fontsize=15)\n",
    "        ax[i].set_title(f'{list_of_titles[i]}',fontsize=15)\n",
    "        \n",
    "        "
   ]
  },
  {
   "cell_type": "markdown",
   "metadata": {},
   "source": [
    "#### Plot and interpret histograms \n",
    "For each of the following:\n",
    "- Participation rates for SAT & ACT\n",
    "- Math scores for SAT & ACT\n",
    "- Reading/verbal scores for SAT & ACT"
   ]
  },
  {
   "cell_type": "code",
   "execution_count": 123,
   "metadata": {},
   "outputs": [
    {
     "data": {
      "image/png": "[encoded data removed]",
      "text/plain": [
       "<Figure size 1080x1080 with 4 Axes>"
      ]
     },
     "metadata": {
      "needs_background": "light"
     },
     "output_type": "display_data"
    }
   ],
   "source": [
    "# Histograms of Participation rates for SAT & ACT\n",
    "final_col=['act_2017_participation_%','act_2018_participation_%','sat_2017_participation_%','sat_2018_participation_%']\n",
    "titles=['ACT 2017 Participation %','ACT 2018 Participation %','SAT 2017 Participation %','SAT 2018 Participation %']\n",
    "subplot_histograms(final,final_col,titles,xlabel='Participation Rate %')"
   ]
  },
  {
   "cell_type": "markdown",
   "metadata": {},
   "source": [
    "#### Interpretations \n",
    "- More states had 100% ACT participation than SAT participation\n",
    "- 2018 SAT had more 100% Participation rates than 2017 SAT."
   ]
  },
  {
   "cell_type": "code",
   "execution_count": 124,
   "metadata": {},
   "outputs": [
    {
     "data": {
      "image/png": "[encoded data removed]",
      "text/plain": [
       "<Figure size 1080x1080 with 4 Axes>"
      ]
     },
     "metadata": {
      "needs_background": "light"
     },
     "output_type": "display_data"
    }
   ],
   "source": [
    "# Histograms of Math scores for SAT & ACT\n",
    "final_col=['act_2017_math','sat_2017_math','sat_2018_math']\n",
    "titles=['ACT 2017 Math Scores','SAT 2017 Math Scores','SAT 2018 Math Scores']\n",
    "subplot_histograms(final,final_col,titles,xlabel='Math Scores')"
   ]
  },
  {
   "cell_type": "markdown",
   "metadata": {},
   "source": [
    "#### Interpretations \n",
    "- More states scored between 525 and 550 in SAT 2017 than 2018.\n"
   ]
  },
  {
   "cell_type": "code",
   "execution_count": 125,
   "metadata": {},
   "outputs": [
    {
     "data": {
      "image/png": "[encoded data removed]",
      "text/plain": [
       "<Figure size 1080x1080 with 4 Axes>"
      ]
     },
     "metadata": {
      "needs_background": "light"
     },
     "output_type": "display_data"
    }
   ],
   "source": [
    "# Histograms of Reading/verbal scores for SAT & ACT\n",
    "final_col=['act_2017_english','act_2017_reading','sat_2017_read_write','sat_2018_read_write']\n",
    "titles=['ACT 2017 English','ACT 2017 Reading','SAT 2017 EBRW ','SAT 2018 EBRW']\n",
    "subplot_histograms(final,final_col,titles,xlabel='English Scores')"
   ]
  },
  {
   "cell_type": "markdown",
   "metadata": {},
   "source": [
    "#### Interpretations \n",
    "- The ACT 2017 English and Reading Score distribution vary significantly.\n",
    "- More States reported scores around 650 in SAT 2018 EBRW than in SAT 2017"
   ]
  },
  {
   "cell_type": "markdown",
   "metadata": {},
   "source": [
    "#### Plot and interpret scatter plots\n",
    "\n",
    "For each of the following:\n",
    "- SAT vs. ACT math scores for 2017\n",
    "- SAT vs. ACT verbal/reading scores for 2017\n",
    "- SAT vs. ACT total/composite scores for 2017\n",
    "- Total scores for SAT 2017 vs. 2018\n",
    "- Composite scores for ACT 2017 vs. 2018\n",
    "\n",
    "Plot the two variables against each other using matplotlib or Seaborn\n",
    "\n",
    "Your plots should show:\n",
    "- Two clearly labeled axes\n",
    "- A proper title\n",
    "- Using colors and symbols that are clear and unmistakable\n",
    "\n",
    "**Feel free to write a custom function, and subplot if you'd like.** Functions save both time and space.\n"
   ]
  },
  {
   "cell_type": "code",
   "execution_count": 126,
   "metadata": {},
   "outputs": [],
   "source": [
    "# Code\n",
    "def scatterplot(df,x,y,x_label,y_label,title):\n",
    "    plt.scatter(df[x],df[y])\n",
    "    plt.title(title,fontsize=15)\n",
    "    plt.xlabel(x_label,fontsize=10)\n",
    "    plt.ylabel(y_label,fontsize=10)\n",
    "    plt.figure(figsize=(20,20))"
   ]
  },
  {
   "cell_type": "code",
   "execution_count": 127,
   "metadata": {},
   "outputs": [
    {
     "data": {
      "image/png": "[encoded data removed]",
      "text/plain": [
       "<Figure size 432x288 with 1 Axes>"
      ]
     },
     "metadata": {
      "needs_background": "light"
     },
     "output_type": "display_data"
    },
    {
     "data": {
      "text/plain": [
       "<Figure size 1440x1440 with 0 Axes>"
      ]
     },
     "metadata": {},
     "output_type": "display_data"
    }
   ],
   "source": [
    "#SAT vs. ACT math scores for 2017\n",
    "scatterplot(final,'sat_2017_math','act_2017_math','SAT Math 2017 Scores','ACT Math 2017 Scores','SAT vs. ACT math scores for 2017')\n"
   ]
  },
  {
   "cell_type": "markdown",
   "metadata": {},
   "source": [
    "#### Interpretations \n",
    "--The SAT Math 2017 scores have a weak negative correlation to the ACT Math 2017 scores"
   ]
  },
  {
   "cell_type": "code",
   "execution_count": 128,
   "metadata": {},
   "outputs": [
    {
     "data": {
      "image/png": "[encoded data removed]",
      "text/plain": [
       "<Figure size 432x288 with 1 Axes>"
      ]
     },
     "metadata": {
      "needs_background": "light"
     },
     "output_type": "display_data"
    },
    {
     "data": {
      "text/plain": [
       "<Figure size 1440x1440 with 0 Axes>"
      ]
     },
     "metadata": {},
     "output_type": "display_data"
    }
   ],
   "source": [
    "#SAT vs. ACT English scores for 2017\n",
    "scatterplot(final,'sat_2017_read_write','act_2017_english','SAT EBRW 2017 Scores','ACT English 2017 Scores','SAT vs. ACT English scores for 2017')"
   ]
  },
  {
   "cell_type": "markdown",
   "metadata": {},
   "source": [
    "#### Interpretations \n",
    "--The SAT EBRW 2017 scores have a weak negative correlation to the ACT English 2017 scores"
   ]
  },
  {
   "cell_type": "code",
   "execution_count": 129,
   "metadata": {},
   "outputs": [
    {
     "data": {
      "image/png": "[encoded data removed]",
      "text/plain": [
       "<Figure size 432x288 with 1 Axes>"
      ]
     },
     "metadata": {
      "needs_background": "light"
     },
     "output_type": "display_data"
    },
    {
     "data": {
      "text/plain": [
       "<Figure size 1440x1440 with 0 Axes>"
      ]
     },
     "metadata": {},
     "output_type": "display_data"
    }
   ],
   "source": [
    "#SAT vs. ACT Reading scores for 2017\n",
    "scatterplot(final,'sat_2017_read_write','act_2017_reading','SAT EBRW 2017 Scores','ACT Reading 2017 Scores','SAT vs. ACT Reading scores for 2017')\n"
   ]
  },
  {
   "cell_type": "markdown",
   "metadata": {},
   "source": [
    "#### Interpretations \n",
    "--The SAT EBRW 2017 scores have a weak negative correlation to the ACT Reading 2017 scores"
   ]
  },
  {
   "cell_type": "code",
   "execution_count": 130,
   "metadata": {},
   "outputs": [
    {
     "data": {
      "image/png": "[encoded data removed]",
      "text/plain": [
       "<Figure size 432x288 with 1 Axes>"
      ]
     },
     "metadata": {
      "needs_background": "light"
     },
     "output_type": "display_data"
    },
    {
     "data": {
      "text/plain": [
       "<Figure size 1440x1440 with 0 Axes>"
      ]
     },
     "metadata": {},
     "output_type": "display_data"
    }
   ],
   "source": [
    "#SAT vs. ACT total/composite scores for 2017\n",
    "scatterplot(final,'sat_2017_total','act_2017_composite','SAT Total 2017 Scores','ACT Composite 2017 Scores','SAT vs. ACT total/composite scores for 2017')\n"
   ]
  },
  {
   "cell_type": "markdown",
   "metadata": {},
   "source": [
    "#### Interpretations \n",
    "--The SAT Total 2017 scores have a weak negative correlation to the ACT Composite 2017 scores"
   ]
  },
  {
   "cell_type": "code",
   "execution_count": 131,
   "metadata": {},
   "outputs": [
    {
     "data": {
      "image/png": "[encoded data removed]",
      "text/plain": [
       "<Figure size 432x288 with 1 Axes>"
      ]
     },
     "metadata": {
      "needs_background": "light"
     },
     "output_type": "display_data"
    },
    {
     "data": {
      "text/plain": [
       "<Figure size 1440x1440 with 0 Axes>"
      ]
     },
     "metadata": {},
     "output_type": "display_data"
    }
   ],
   "source": [
    "#Total scores for SAT 2017 vs. 2018\n",
    "scatterplot(final,'sat_2017_total','sat_2018_total','SAT Total 2017 Scores','SAT Total 2018 Scores','Total scores for SAT 2017 vs. 2018')"
   ]
  },
  {
   "cell_type": "markdown",
   "metadata": {},
   "source": [
    "#### Interpretations \n",
    "--The SAT Total 2017 scores have a strong positive correlation to the SAT Total 2018 scores"
   ]
  },
  {
   "cell_type": "code",
   "execution_count": 132,
   "metadata": {},
   "outputs": [
    {
     "data": {
      "image/png": "[encoded data removed]",
      "text/plain": [
       "<Figure size 432x288 with 1 Axes>"
      ]
     },
     "metadata": {
      "needs_background": "light"
     },
     "output_type": "display_data"
    },
    {
     "data": {
      "text/plain": [
       "<Figure size 1440x1440 with 0 Axes>"
      ]
     },
     "metadata": {},
     "output_type": "display_data"
    }
   ],
   "source": [
    "#Composite scores for ACT 2017 vs. 2018\n",
    "scatterplot(final,'act_2017_composite','act_2018_composite','ACT Composite 2017 Scores','ACT Composite 2018 Scores','Composite scores for ACT 2017 vs. 2018')"
   ]
  },
  {
   "cell_type": "markdown",
   "metadata": {},
   "source": [
    "#### Interpretations \n",
    "--The ACT Composite 2017 scores have a strong positive correlation to the ACT Composite 2018 scores"
   ]
  },
  {
   "cell_type": "markdown",
   "metadata": {},
   "source": [
    "#### Plot and interpret boxplots\n",
    "\n",
    "For each numeric variable in the dataframe create a boxplot using Seaborn. Boxplots demonstrate central tendency and spread in variables. In a certain sense, these are somewhat redundant with histograms, but you may be better able to identify clear outliers or differences in IQR, etc.\n",
    "\n",
    "Multiple values can be plotted to a single boxplot as long as they are of the same relative scale (meaning they have similar min/max values).\n",
    "\n",
    "Each boxplot should:\n",
    "- Only include variables of a similar scale\n",
    "- Have clear labels for each variable\n",
    "- Have appropriate titles and labels"
   ]
  },
  {
   "cell_type": "code",
   "execution_count": 133,
   "metadata": {},
   "outputs": [
    {
     "data": {
      "text/plain": [
       "Text(0, 0.5, 'Scores')"
      ]
     },
     "execution_count": 133,
     "metadata": {},
     "output_type": "execute_result"
    },
    {
     "data": {
      "image/png": "[encoded data removed]",
      "text/plain": [
       "<Figure size 432x288 with 1 Axes>"
      ]
     },
     "metadata": {
      "needs_background": "light"
     },
     "output_type": "display_data"
    }
   ],
   "source": [
    "# Code\n",
    "#Boxplot comparing ACT Scores (Scale 1-36)\n",
    "sns.boxplot(data = final[[\"act_2017_math\",\"act_2017_reading\",\"act_2017_english\",\"act_2017_science\",\"act_2017_composite\",\"act_2018_composite\"]],orient = \"h\")\n",
    "plt.title('Spread in ACT Scores')\n",
    "plt.xlabel('ACT Score Range')\n",
    "plt.ylabel('Scores')"
   ]
  },
  {
   "cell_type": "markdown",
   "metadata": {},
   "source": [
    "#### Interpretations \n",
    "--ACT 2017 English Scores saw the highest score variability while ACT 2017 Science saw the least.\n",
    "\n",
    "--ACT 2018 Composite Score saw higher variability than ACT 2017 and it's median score reduced compared to 2017 Composite score."
   ]
  },
  {
   "cell_type": "code",
   "execution_count": 134,
   "metadata": {},
   "outputs": [
    {
     "data": {
      "text/plain": [
       "Text(0, 0.5, 'Scores')"
      ]
     },
     "execution_count": 134,
     "metadata": {},
     "output_type": "execute_result"
    },
    {
     "data": {
      "image/png": "[encoded data removed]",
      "text/plain": [
       "<Figure size 432x288 with 1 Axes>"
      ]
     },
     "metadata": {
      "needs_background": "light"
     },
     "output_type": "display_data"
    }
   ],
   "source": [
    "#Boxplot comparing SAT Subject Scores (Scale 200-800)\n",
    "sns.boxplot(data = final[[\"sat_2017_math\",\"sat_2017_read_write\",\"sat_2018_math\",\"sat_2018_read_write\"]],orient = \"h\")\n",
    "plt.title('Spread in SAT Subject Scores')\n",
    "plt.xlabel('SAT Subject Score Range')\n",
    "plt.ylabel('Scores')"
   ]
  },
  {
   "cell_type": "markdown",
   "metadata": {},
   "source": [
    "#### Interpretations \n",
    "--SAT 2017 Math Score saw the highest variabilty among all the SAT Subject scores\n",
    "\n",
    "--SAT 2018 Subject median scores shifted lower as compared to their 2018 counterparts"
   ]
  },
  {
   "cell_type": "code",
   "execution_count": 135,
   "metadata": {},
   "outputs": [
    {
     "data": {
      "text/plain": [
       "Text(0, 0.5, 'Scores')"
      ]
     },
     "execution_count": 135,
     "metadata": {},
     "output_type": "execute_result"
    },
    {
     "data": {
      "image/png": "[encoded data removed]",
      "text/plain": [
       "<Figure size 432x288 with 1 Axes>"
      ]
     },
     "metadata": {
      "needs_background": "light"
     },
     "output_type": "display_data"
    }
   ],
   "source": [
    "#Boxplot comparing SAT Total Scores(Scale 400-1600)\n",
    "sns.boxplot(data = final[[\"sat_2017_total\",\"sat_2018_total\"]],orient = \"h\")\n",
    "plt.title('Spread in SAT Total Scores')\n",
    "plt.xlabel('SAT Total Score Range')\n",
    "plt.ylabel('Scores')"
   ]
  },
  {
   "cell_type": "markdown",
   "metadata": {},
   "source": [
    "#### Interpretations \n",
    "--SAT 2017 Total Scores had higher variability than 2018 Total Scores\n",
    "\n",
    "--SAT 2018 Total median score was lower than 2017 Total median score"
   ]
  },
  {
   "cell_type": "code",
   "execution_count": 136,
   "metadata": {},
   "outputs": [
    {
     "data": {
      "text/plain": [
       "Text(0, 0.5, 'Participation Variable')"
      ]
     },
     "execution_count": 136,
     "metadata": {},
     "output_type": "execute_result"
    },
    {
     "data": {
      "image/png": "[encoded data removed]",
      "text/plain": [
       "<Figure size 432x288 with 1 Axes>"
      ]
     },
     "metadata": {
      "needs_background": "light"
     },
     "output_type": "display_data"
    }
   ],
   "source": [
    "#Boxplot comparing SAT/ACT Participation (0-1)\n",
    "sns.boxplot(data = final[[\"sat_2017_participation_%\",\"sat_2018_participation_%\",\"act_2017_participation_%\",\"act_2018_participation_%\"]],orient = \"h\")\n",
    "plt.title('Spread in 2017 and 2018 Test Participation')\n",
    "plt.xlabel('Participation Range')\n",
    "plt.ylabel('Participation Variable')"
   ]
  },
  {
   "cell_type": "markdown",
   "metadata": {},
   "source": [
    "#### Interpretations \n",
    "--ACT Tests had higher 100% Participation rates than SAT Tests\n",
    "\n",
    "--SAT Tests saw increased participation rates from 2017 in 2018 and saw higher median score from 2017 in 2018"
   ]
  },
  {
   "cell_type": "markdown",
   "metadata": {},
   "source": [
    "#### Feel free to do additional plots below\n",
    "*(do research and choose your own chart types & variables)*\n",
    "\n",
    "Are there any additional trends or relationships you haven't explored? Was there something interesting you saw that you'd like to dive further into? It's likely that there are a few more plots you might want to generate to support your narrative and recommendations that you are building toward. **As always, make sure you're interpreting your plots as you go**."
   ]
  },
  {
   "cell_type": "code",
   "execution_count": 137,
   "metadata": {},
   "outputs": [
    {
     "data": {
      "text/plain": [
       "<matplotlib.legend.Legend at 0x20632dae088>"
      ]
     },
     "execution_count": 137,
     "metadata": {},
     "output_type": "execute_result"
    },
    {
     "data": {
      "image/png": "[encoded data removed]",
      "text/plain": [
       "<Figure size 1080x504 with 1 Axes>"
      ]
     },
     "metadata": {
      "needs_background": "light"
     },
     "output_type": "display_data"
    }
   ],
   "source": [
    "#Plot showing States SAT Test Participation\n",
    "final.plot(x='state',y=['sat_2017_participation_%','sat_2018_participation_%'],kind='bar',figsize=(15,7),title='SAT Participation Rates 2017-2018')\n",
    "plt.xlabel('State')\n",
    "plt.ylabel('Participation Rates')\n",
    "plt.legend((2017,2018))"
   ]
  },
  {
   "cell_type": "markdown",
   "metadata": {},
   "source": [
    "#### Interpretations \n",
    "--Illinois,Colorado and Rhode Island saw significant increase in SAT Participation rates from 2017 to 2018\n",
    "--SAT saw particularly lower rates in the southern states like Alabama,Arkansas, Louisiana, Mississippi"
   ]
  },
  {
   "cell_type": "markdown",
   "metadata": {},
   "source": [
    "#### (Optional): Using Tableau, create a choropleth map for each variable using a map of the US. \n",
    "\n",
    "Save this plot as an image file in an images directory, provide a relative path, and insert the image into notebook in markdown."
   ]
  },
  {
   "cell_type": "markdown",
   "metadata": {},
   "source": [
    "## Descriptive and Inferential Statistics"
   ]
  },
  {
   "cell_type": "markdown",
   "metadata": {},
   "source": [
    "#### Summarizing Distributions\n",
    "\n",
    "Above, we used pandas `describe` to provide quick summary statistics of our numeric columns. We also demonstrated many visual relationships.\n",
    "\n",
    "As data scientists, having a complete understanding of data is imperative prior to modeling.\n",
    "\n",
    "While we will continue to build our analytic tools, we know that measures of *central tendency*, *spread*, and *shape/skewness* provide a quick summary of distributions.\n",
    "\n",
    "For each variable in your data, summarize the underlying distributions (in words & statistics)\n",
    " - Be thorough in your verbal description of these distributions.\n",
    " - Be sure to back up these summaries with statistics."
   ]
  },
  {
   "cell_type": "code",
   "execution_count": 138,
   "metadata": {},
   "outputs": [
    {
     "name": "stdout",
     "output_type": "stream",
     "text": [
      "act_2017_participation_%    0.69\n",
      "dtype: float64\n",
      "act_2017_participation_%    0.652549\n",
      "dtype: float64\n",
      "   act_2017_participation_%\n",
      "0                       1.0\n"
     ]
    }
   ],
   "source": [
    "#ACT 2017 Participation Descriptive Statistics\n",
    "print(final[['act_2017_participation_%']].median())\n",
    "print(final[['act_2017_participation_%']].mean())\n",
    "print(final[['act_2017_participation_%']].mode())"
   ]
  },
  {
   "cell_type": "markdown",
   "metadata": {},
   "source": [
    "Based on the histogram and descriptic statistics, the ACT 2017 participation data distribution is not normal and is skewed to the left "
   ]
  },
  {
   "cell_type": "code",
   "execution_count": 139,
   "metadata": {},
   "outputs": [
    {
     "name": "stdout",
     "output_type": "stream",
     "text": [
      "act_2018_participation_%    0.66\n",
      "dtype: float64\n",
      "act_2018_participation_%    0.617255\n",
      "dtype: float64\n",
      "   act_2018_participation_%\n",
      "0                       1.0\n"
     ]
    }
   ],
   "source": [
    "#ACT 2018 Participation Descriptive Statistics\n",
    "print(final[['act_2018_participation_%']].median())\n",
    "print(final[['act_2018_participation_%']].mean())\n",
    "print(final[['act_2018_participation_%']].mode())"
   ]
  },
  {
   "cell_type": "markdown",
   "metadata": {},
   "source": [
    "Based on the histogram and descriptic statistics, the ACT 2018 participation data distibution is not normal is skewed to the left "
   ]
  },
  {
   "cell_type": "code",
   "execution_count": 140,
   "metadata": {},
   "outputs": [
    {
     "name": "stdout",
     "output_type": "stream",
     "text": [
      "sat_2017_participation_%    0.38\n",
      "dtype: float64\n",
      "sat_2017_participation_%    0.398039\n",
      "dtype: float64\n",
      "   sat_2017_participation_%\n",
      "0                      0.03\n"
     ]
    }
   ],
   "source": [
    "#SAT 2017 Participation Descriptive Statistics\n",
    "print(final[['sat_2017_participation_%']].median())\n",
    "print(final[['sat_2017_participation_%']].mean())\n",
    "print(final[['sat_2017_participation_%']].mode())"
   ]
  },
  {
   "cell_type": "markdown",
   "metadata": {},
   "source": [
    "Based on the histogram and descriptic statistics, the SAT 2017 participation data is not normal,skewed to the right "
   ]
  },
  {
   "cell_type": "code",
   "execution_count": 141,
   "metadata": {},
   "outputs": [
    {
     "name": "stdout",
     "output_type": "stream",
     "text": [
      "sat_2018_participation_%    0.52\n",
      "dtype: float64\n",
      "sat_2018_participation_%    0.457451\n",
      "dtype: float64\n",
      "   sat_2018_participation_%\n",
      "0                      0.03\n",
      "1                      0.04\n"
     ]
    }
   ],
   "source": [
    "#SAT 2018 Participation Descriptive Statistics\n",
    "print(final[['sat_2018_participation_%']].median())\n",
    "print(final[['sat_2018_participation_%']].mean())\n",
    "print(final[['sat_2018_participation_%']].mode())"
   ]
  },
  {
   "cell_type": "markdown",
   "metadata": {},
   "source": [
    "Based on the histogram and descriptic statistics, the SAT 2018 participation data is not normal,bimodal,skewed to the right "
   ]
  },
  {
   "cell_type": "code",
   "execution_count": 142,
   "metadata": {},
   "outputs": [
    {
     "name": "stdout",
     "output_type": "stream",
     "text": [
      "act_2017_composite    21.519608\n",
      "dtype: float64\n",
      "act_2017_composite    21.4\n",
      "dtype: float64\n",
      "   act_2017_composite\n",
      "0                19.8\n",
      "1                20.3\n",
      "2                21.4\n"
     ]
    }
   ],
   "source": [
    "#ACT 2017 Composite Descriptive Statistics\n",
    "print(final[['act_2017_composite']].mean())\n",
    "print(final[['act_2017_composite']].median())\n",
    "print(final[['act_2017_composite']].mode())"
   ]
  },
  {
   "cell_type": "markdown",
   "metadata": {},
   "source": [
    "Based on the histogram and descriptic statistics, the ACT 2017 composite data is not normal and is trimodal "
   ]
  },
  {
   "cell_type": "code",
   "execution_count": 143,
   "metadata": {},
   "outputs": [
    {
     "name": "stdout",
     "output_type": "stream",
     "text": [
      "act_2018_composite    21.496078\n",
      "dtype: float64\n",
      "act_2018_composite    21.3\n",
      "dtype: float64\n",
      "   act_2018_composite\n",
      "0                20.0\n",
      "1                20.3\n",
      "2                23.9\n"
     ]
    }
   ],
   "source": [
    "#ACT 2018 Composite Descriptive Statistics\n",
    "print(final[['act_2018_composite']].mean())\n",
    "print(final[['act_2018_composite']].median())\n",
    "print(final[['act_2018_composite']].mode())"
   ]
  },
  {
   "cell_type": "markdown",
   "metadata": {},
   "source": [
    "Based on the histogram and descriptic statistics, the ACT 2018 composite data is not normal and is trimodal "
   ]
  },
  {
   "cell_type": "code",
   "execution_count": 144,
   "metadata": {},
   "outputs": [
    {
     "name": "stdout",
     "output_type": "stream",
     "text": [
      "sat_2017_total    1126.098039\n",
      "dtype: float64\n",
      "sat_2017_total    1107.0\n",
      "dtype: float64\n",
      "   sat_2017_total\n",
      "0            1005\n",
      "1            1052\n",
      "2            1116\n"
     ]
    }
   ],
   "source": [
    "#SAT 2017 Total Descriptive Statistics\n",
    "print(final[['sat_2017_total']].mean())\n",
    "print(final[['sat_2017_total']].median())\n",
    "print(final[['sat_2017_total']].mode())"
   ]
  },
  {
   "cell_type": "markdown",
   "metadata": {},
   "source": [
    "Based on the histogram and descriptic statistics, the SAT 2017 Total data is not normal and is trimodal"
   ]
  },
  {
   "cell_type": "code",
   "execution_count": 145,
   "metadata": {},
   "outputs": [
    {
     "name": "stdout",
     "output_type": "stream",
     "text": [
      "sat_2018_total    1120.019608\n",
      "dtype: float64\n",
      "sat_2018_total    1098.0\n",
      "dtype: float64\n",
      "   sat_2018_total\n",
      "0            1010\n",
      "1            1099\n",
      "2            1117\n",
      "3            1265\n"
     ]
    }
   ],
   "source": [
    "#SAT 2018 Total Descriptive Statistics\n",
    "print(final[['sat_2018_total']].mean())\n",
    "print(final[['sat_2018_total']].median())\n",
    "print(final[['sat_2018_total']].mode())"
   ]
  },
  {
   "cell_type": "markdown",
   "metadata": {},
   "source": [
    "Based on the histogram and descriptic statistics, the SAT 2018 Total data is not normal and has 4 modes"
   ]
  },
  {
   "cell_type": "code",
   "execution_count": 146,
   "metadata": {},
   "outputs": [
    {
     "name": "stdout",
     "output_type": "stream",
     "text": [
      "act_2017_math    21.182353\n",
      "dtype: float64\n",
      "act_2017_math    20.9\n",
      "dtype: float64\n",
      "   act_2017_math\n",
      "0           19.4\n"
     ]
    }
   ],
   "source": [
    "#ACT 2017 Math Descriptive Statistics\n",
    "print(final[['act_2017_math']].mean())\n",
    "print(final[['act_2017_math']].median())\n",
    "print(final[['act_2017_math']].mode())"
   ]
  },
  {
   "cell_type": "markdown",
   "metadata": {},
   "source": [
    "Based on the histogram and descriptic statistics, the ACT 2017 math data is not normal."
   ]
  },
  {
   "cell_type": "code",
   "execution_count": 147,
   "metadata": {},
   "outputs": [
    {
     "name": "stdout",
     "output_type": "stream",
     "text": [
      "act_2017_science    21.462745\n",
      "dtype: float64\n",
      "act_2017_science    21.3\n",
      "dtype: float64\n",
      "   act_2017_science\n",
      "0              20.5\n",
      "1              20.6\n",
      "2              20.9\n",
      "3              22.0\n"
     ]
    }
   ],
   "source": [
    "#ACT 2017 Science Descriptive Statistics\n",
    "print(final[['act_2017_science']].mean())\n",
    "print(final[['act_2017_science']].median())\n",
    "print(final[['act_2017_science']].mode())"
   ]
  },
  {
   "cell_type": "markdown",
   "metadata": {},
   "source": [
    "Based on the histogram and descriptic statistics, the ACT 2017 science data is not normal and has 4 modes."
   ]
  },
  {
   "cell_type": "code",
   "execution_count": 148,
   "metadata": {},
   "outputs": [
    {
     "name": "stdout",
     "output_type": "stream",
     "text": [
      "act_2017_english    20.931373\n",
      "dtype: float64\n",
      "act_2017_english    20.7\n",
      "dtype: float64\n",
      "   act_2017_english\n",
      "0              19.0\n",
      "1              19.5\n",
      "2              21.2\n"
     ]
    }
   ],
   "source": [
    "#ACT 2017 English Descriptive Statistics\n",
    "print(final[['act_2017_english']].mean())\n",
    "print(final[['act_2017_english']].median())\n",
    "print(final[['act_2017_english']].mode())"
   ]
  },
  {
   "cell_type": "markdown",
   "metadata": {},
   "source": [
    "Based on the histogram and descriptic statistics, the ACT 2017 english data is not normal and has 3 modes."
   ]
  },
  {
   "cell_type": "code",
   "execution_count": 149,
   "metadata": {},
   "outputs": [
    {
     "name": "stdout",
     "output_type": "stream",
     "text": [
      "act_2017_reading    22.013725\n",
      "dtype: float64\n",
      "act_2017_reading    21.8\n",
      "dtype: float64\n",
      "   act_2017_reading\n",
      "0              20.1\n",
      "1              20.8\n"
     ]
    }
   ],
   "source": [
    "#ACT 2017 Reading Descriptive Statistics\n",
    "print(final[['act_2017_reading']].mean())\n",
    "print(final[['act_2017_reading']].median())\n",
    "print(final[['act_2017_reading']].mode())"
   ]
  },
  {
   "cell_type": "markdown",
   "metadata": {},
   "source": [
    "Based on the histogram and descriptic statistics, the ACT 2017 reading data is not normal and has 2 modes."
   ]
  },
  {
   "cell_type": "code",
   "execution_count": 150,
   "metadata": {},
   "outputs": [
    {
     "name": "stdout",
     "output_type": "stream",
     "text": [
      "sat_2017_read_write    569.117647\n",
      "dtype: float64\n",
      "sat_2017_read_write    559.0\n",
      "dtype: float64\n",
      "   sat_2017_read_write\n",
      "0                  513\n",
      "1                  530\n"
     ]
    }
   ],
   "source": [
    "#SAT 2017 EBRW Descriptive Statistics\n",
    "print(final[['sat_2017_read_write']].mean())\n",
    "print(final[['sat_2017_read_write']].median())\n",
    "print(final[['sat_2017_read_write']].mode())"
   ]
  },
  {
   "cell_type": "markdown",
   "metadata": {},
   "source": [
    "Based on the histogram and descriptic statistics, the SAT 2017 EBRW data is not normal and has 2 modes."
   ]
  },
  {
   "cell_type": "code",
   "execution_count": 151,
   "metadata": {},
   "outputs": [
    {
     "name": "stdout",
     "output_type": "stream",
     "text": [
      "sat_2018_read_write    563.686275\n",
      "dtype: float64\n",
      "sat_2018_read_write    552.0\n",
      "dtype: float64\n",
      "   sat_2018_read_write\n",
      "0                  513\n",
      "1                  547\n",
      "2                  633\n"
     ]
    }
   ],
   "source": [
    "#SAT 2018 EBRW Descriptive Statistics\n",
    "print(final[['sat_2018_read_write']].mean())\n",
    "print(final[['sat_2018_read_write']].median())\n",
    "print(final[['sat_2018_read_write']].mode())"
   ]
  },
  {
   "cell_type": "markdown",
   "metadata": {},
   "source": [
    "Based on the histogram and descriptic statistics, the SAT 2018 EBRW math data is not normal and has 3 modes."
   ]
  },
  {
   "cell_type": "code",
   "execution_count": 152,
   "metadata": {},
   "outputs": [
    {
     "name": "stdout",
     "output_type": "stream",
     "text": [
      "sat_2017_read_write    569.117647\n",
      "dtype: float64\n",
      "sat_2017_read_write    559.0\n",
      "dtype: float64\n",
      "   sat_2017_read_write\n",
      "0                  513\n",
      "1                  530\n"
     ]
    }
   ],
   "source": [
    "#SAT 2017 Math Descriptive Statistics\n",
    "print(final[['sat_2017_read_write']].mean())\n",
    "print(final[['sat_2017_read_write']].median())\n",
    "print(final[['sat_2017_read_write']].mode())"
   ]
  },
  {
   "cell_type": "markdown",
   "metadata": {},
   "source": [
    "Based on the histogram and descriptic statistics, the SAT 2017 math data is not normal and has 2 modes."
   ]
  },
  {
   "cell_type": "code",
   "execution_count": 153,
   "metadata": {},
   "outputs": [
    {
     "name": "stdout",
     "output_type": "stream",
     "text": [
      "sat_2018_math    556.235294\n",
      "dtype: float64\n",
      "sat_2018_math    544.0\n",
      "dtype: float64\n",
      "   sat_2018_math\n",
      "0            506\n",
      "1            530\n",
      "2            547\n",
      "3            618\n",
      "4            631\n"
     ]
    }
   ],
   "source": [
    "#SAT 2018 Math Descriptive Statistics\n",
    "print(final[['sat_2018_math']].mean())\n",
    "print(final[['sat_2018_math']].median())\n",
    "print(final[['sat_2018_math']].mode())"
   ]
  },
  {
   "cell_type": "markdown",
   "metadata": {},
   "source": [
    "Based on the histogram and descriptic statistics, the SAT 2018 math data is not normal and has 5 modes."
   ]
  },
  {
   "cell_type": "markdown",
   "metadata": {},
   "source": [
    "#### We generally assuming that data we sample from a population will be normally distributed. Do we observe this trend?"
   ]
  },
  {
   "cell_type": "markdown",
   "metadata": {},
   "source": [
    "Answer: No, from the sample derived the normal distridution trend isn't observed."
   ]
  },
  {
   "cell_type": "markdown",
   "metadata": {},
   "source": [
    "Does This Assumption Hold for:\n",
    "    - Math\n",
    "    - Reading\n",
    "    - Rates\n",
    "Explain your answers for each distribution and how you think this will affect estimates made from these data."
   ]
  },
  {
   "cell_type": "markdown",
   "metadata": {},
   "source": [
    "Answer: The assumptions hold for math, reading and participation rates.Calculations based on estimations of normality cannot be done.Calculations like Confidence intervals are only used assuming normality.\n",
    "A larger sample size should be investigated.\n"
   ]
  },
  {
   "cell_type": "markdown",
   "metadata": {},
   "source": [
    "#### Estimate Limits of Data\n",
    "\n",
    "Suppose we only seek to understand the relationship between SAT and ACT participation rates in 2017. \n",
    "\n",
    "##### Does it make sense to conduct statistical inference given these data specifically? \n",
    "\n",
    "Why or why not?\n",
    "\n",
    "*(think about granularity, aggregation, the relationships between populations size & rates...consider the actually populations these data describe in answering this question)*"
   ]
  },
  {
   "cell_type": "markdown",
   "metadata": {},
   "source": [
    "Statistical Inference could only be conducted on the states' data where the SAT participation equals to the ACT participation."
   ]
  },
  {
   "cell_type": "markdown",
   "metadata": {},
   "source": [
    "##### Is it appropriate to compare *these* specific SAT and ACT math scores? \n",
    "\n",
    "No, it is not appropriate to compare the SAT and ACT math scores. SAT and ACT are two completely different tests with different ranges and scaling systems. I am assuming the score weightage system (weight of each question based on complexity) would also vary. In addition,as depicted in the heat map, the higher average test scores per state are negatively correlated to lower participation rates.This would have to be considered in our assumptions."
   ]
  },
  {
   "cell_type": "markdown",
   "metadata": {},
   "source": [
    "#### Statistical Evaluation of Distributions \n",
    "\n",
    "**If you feel it's appropriate**, using methods we discussed in class, run hypothesis tests to compare variables of interest in our dataset. "
   ]
  },
  {
   "cell_type": "markdown",
   "metadata": {},
   "source": [
    "## Outside Research"
   ]
  },
  {
   "cell_type": "markdown",
   "metadata": {},
   "source": [
    "Based upon your observations, choose **three** states that demonstrate interesting trends in their SAT and/or ACT participation rates. Spend some time doing outside research on state policies that might influence these rates, and summarize your findings below. **Feel free to go back and create new plots that highlight these states of interest**. If you bring in any outside tables or charts, make sure you are explicit about having borrowed them. If you quote any text, make sure that it renders as being quoted. (Make sure that you cite your sources -- check with you local instructor for citation preferences)."
   ]
  },
  {
   "cell_type": "code",
   "execution_count": 154,
   "metadata": {},
   "outputs": [
    {
     "data": {
      "text/html": [
       "<div>\n",
       "<style scoped>\n",
       "    .dataframe tbody tr th:only-of-type {\n",
       "        vertical-align: middle;\n",
       "    }\n",
       "\n",
       "    .dataframe tbody tr th {\n",
       "        vertical-align: top;\n",
       "    }\n",
       "\n",
       "    .dataframe thead th {\n",
       "        text-align: right;\n",
       "    }\n",
       "</style>\n",
       "<table border=\"1\" class=\"dataframe\">\n",
       "  <thead>\n",
       "    <tr style=\"text-align: right;\">\n",
       "      <th></th>\n",
       "      <th>state</th>\n",
       "      <th>act_2017_participation_%</th>\n",
       "      <th>act_2018_participation_%</th>\n",
       "      <th>change_in_act_par</th>\n",
       "      <th>sat_2017_participation_%</th>\n",
       "      <th>sat_2018_participation_%</th>\n",
       "      <th>change_in_sat_par</th>\n",
       "    </tr>\n",
       "  </thead>\n",
       "  <tbody>\n",
       "    <tr>\n",
       "      <th>13</th>\n",
       "      <td>Illinois</td>\n",
       "      <td>0.93</td>\n",
       "      <td>0.43</td>\n",
       "      <td>-0.50</td>\n",
       "      <td>0.09</td>\n",
       "      <td>0.99</td>\n",
       "      <td>0.90</td>\n",
       "    </tr>\n",
       "    <tr>\n",
       "      <th>5</th>\n",
       "      <td>Colorado</td>\n",
       "      <td>1.00</td>\n",
       "      <td>0.30</td>\n",
       "      <td>-0.70</td>\n",
       "      <td>0.11</td>\n",
       "      <td>1.00</td>\n",
       "      <td>0.89</td>\n",
       "    </tr>\n",
       "    <tr>\n",
       "      <th>39</th>\n",
       "      <td>Rhode Island</td>\n",
       "      <td>0.21</td>\n",
       "      <td>0.15</td>\n",
       "      <td>-0.06</td>\n",
       "      <td>0.71</td>\n",
       "      <td>0.97</td>\n",
       "      <td>0.26</td>\n",
       "    </tr>\n",
       "    <tr>\n",
       "      <th>48</th>\n",
       "      <td>West Virginia</td>\n",
       "      <td>0.69</td>\n",
       "      <td>0.65</td>\n",
       "      <td>-0.04</td>\n",
       "      <td>0.14</td>\n",
       "      <td>0.28</td>\n",
       "      <td>0.14</td>\n",
       "    </tr>\n",
       "  </tbody>\n",
       "</table>\n",
       "</div>"
      ],
      "text/plain": [
       "            state  act_2017_participation_%  act_2018_participation_%  \\\n",
       "13       Illinois                      0.93                      0.43   \n",
       "5        Colorado                      1.00                      0.30   \n",
       "39   Rhode Island                      0.21                      0.15   \n",
       "48  West Virginia                      0.69                      0.65   \n",
       "\n",
       "    change_in_act_par  sat_2017_participation_%  sat_2018_participation_%  \\\n",
       "13              -0.50                      0.09                      0.99   \n",
       "5               -0.70                      0.11                      1.00   \n",
       "39              -0.06                      0.71                      0.97   \n",
       "48              -0.04                      0.14                      0.28   \n",
       "\n",
       "    change_in_sat_par  \n",
       "13               0.90  \n",
       "5                0.89  \n",
       "39               0.26  \n",
       "48               0.14  "
      ]
     },
     "execution_count": 154,
     "metadata": {},
     "output_type": "execute_result"
    }
   ],
   "source": [
    "final[mask_2017_50|mask_2018_50][['state','act_2017_participation_%','act_2018_participation_%','change_in_act_par','sat_2017_participation_%','sat_2018_participation_%','change_in_sat_par']].sort_values('change_in_sat_par',ascending=False).head(4)"
   ]
  },
  {
   "cell_type": "markdown",
   "metadata": {},
   "source": [
    "From my observations, I found that Illinois, Colorado and West Virginia had interesting SAT Participation rate outcomes between 2017 and 2018.\n",
    "\n",
    "Upon further research into those states' testing policies, I came across the following articles:\n",
    "\n",
    "**Colorado**\n",
    "\n",
    "https://www.testive.com/colorado-sat-change-2017/\n",
    "\n",
    "In 2017,Colorado made the SAT test mandatory for all high school juniors to be eligible for admission into any Colorado state university. All SAT fees would be covered as well.\n",
    "\n",
    "**Illinois**\n",
    "\n",
    "https://www.chicagotribune.com/news/ct-illinois-chooses-sat-met-20160211-story.html\n",
    "\n",
    "College Board won a $14.3 Million bid to bring the SAT to public schools in Illinois.\n",
    "\n",
    "**West Virginia**\n",
    "\n",
    "https://www.wsaz.com/content/news/All-WVa-high-school-juniors-to-begin-taking-SAT-exam-beginning-Spring-2018-444248263.html#:~:text=The%20West%20Virginia%20Department%20of,old%20standardized%20test%2C%20Smarter%20Balanced.\n",
    "\n",
    "West Virginia recently retired their old standard test and is slowly picking put the pace to mandate SAT tests across the state.\n",
    "\n",
    "These developments would explain the changes in Participation rates in the states listed above."
   ]
  },
  {
   "cell_type": "markdown",
   "metadata": {},
   "source": [
    "## Conclusions and Recommendations"
   ]
  },
  {
   "cell_type": "markdown",
   "metadata": {},
   "source": [
    "Based on your exploration of the data, what are you key takeaways and recommendations? Choose one state with a lower participation rate and provide a suggestion for how the College Board might increase participation amongst graduating seniors in this state. Are there additional data you desire that would better inform your investigations?"
   ]
  },
  {
   "cell_type": "code",
   "execution_count": 162,
   "metadata": {},
   "outputs": [
    {
     "data": {
      "text/plain": [
       "state                       Oklahoma\n",
       "act_2017_participation_%           1\n",
       "act_2017_english                18.5\n",
       "act_2017_math                   18.8\n",
       "act_2017_reading                20.1\n",
       "act_2017_science                19.6\n",
       "act_2017_composite              19.4\n",
       "sat_2017_participation_%        0.07\n",
       "sat_2017_read_write              530\n",
       "sat_2017_math                    517\n",
       "sat_2017_total                  1047\n",
       "act_2018_participation_%           1\n",
       "act_2018_composite              19.3\n",
       "sat_2018_participation_%        0.08\n",
       "sat_2018_read_write              541\n",
       "sat_2018_math                    521\n",
       "sat_2018_total                  1062\n",
       "change_in_sat_par               0.01\n",
       "change_in_act_par                  0\n",
       "Name: 36, dtype: object"
      ]
     },
     "execution_count": 162,
     "metadata": {},
     "output_type": "execute_result"
    }
   ],
   "source": [
    "#Oklahoma Statistics\n",
    "final.iloc[36]"
   ]
  },
  {
   "cell_type": "markdown",
   "metadata": {},
   "source": [
    "The SAT test is gaining popularity among many states across USA. However, the ACT still poses strong competition having 100% participation rates in many states. States like Oklahoma have consistant low SAT participaion rates for both 2017 and 2018.Some recommendations to boost participation rates would be: Working with state school boards to reduce or eliminate fees, preliminary testing and tutoring focus on SAT test taking and focus efforts on improving  test access to minory communities.Additional data from each state based on demographics would help develop state specific participation improvement plans."
   ]
  }
 ],
 "metadata": {
  "anaconda-cloud": {},
  "kernelspec": {
   "display_name": "Python 3",
   "language": "python",
   "name": "python3"
  },
  "language_info": {
   "codemirror_mode": {
    "name": "ipython",
    "version": 3
   },
   "file_extension": ".py",
   "mimetype": "text/x-python",
   "name": "python",
   "nbconvert_exporter": "python",
   "pygments_lexer": "ipython3",
   "version": "3.7.6"
  }
 },
 "nbformat": 4,
 "nbformat_minor": 2
}
